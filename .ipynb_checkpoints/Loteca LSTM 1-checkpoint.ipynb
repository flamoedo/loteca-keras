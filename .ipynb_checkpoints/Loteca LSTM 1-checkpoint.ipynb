{
 "cells": [
  {
   "cell_type": "markdown",
   "metadata": {},
   "source": [
    "# Loteca"
   ]
  },
  {
   "cell_type": "code",
   "execution_count": 2,
   "metadata": {},
   "outputs": [
    {
     "name": "stderr",
     "output_type": "stream",
     "text": [
      "Using TensorFlow backend.\n"
     ]
    }
   ],
   "source": [
    "import keras\n",
    "import pandas as pd\n",
    "import numpy as np\n",
    "import math\n",
    "import matplotlib.pyplot as plt\n",
    "# from sklearn.model_selection import train_test_split"
   ]
  },
  {
   "cell_type": "markdown",
   "metadata": {},
   "source": [
    "### Ler arquivo"
   ]
  },
  {
   "cell_type": "code",
   "execution_count": 2,
   "metadata": {},
   "outputs": [],
   "source": [
    "# df = np.load('arquivo.npy')"
   ]
  },
  {
   "cell_type": "code",
   "execution_count": 3,
   "metadata": {},
   "outputs": [],
   "source": [
    "# Define o ganhador H = casa, A = Vizitante, D = empate\n",
    "# for i in range(len(df)):\n",
    "#     df[i,8] = 'H' if (int(df[i,2]) - int(df[i,6])) > 0 else 'A' if (int(df[i,2]) - int(df[i,6])) < 0 else 'D'"
   ]
  },
  {
   "cell_type": "code",
   "execution_count": 4,
   "metadata": {},
   "outputs": [],
   "source": [
    "# Cria um data frame para receber os valores\n",
    "# df_ = pd.DataFrame(df,columns=['Concurso','Jogo','HG','Home','S','Away','AG','Dia','Res'])"
   ]
  },
  {
   "cell_type": "code",
   "execution_count": 5,
   "metadata": {},
   "outputs": [],
   "source": [
    "# Transforma as colunas de gols em inteiros\n",
    "# df_ = df_.astype({\"HG\": int, \"AG\": int})"
   ]
  },
  {
   "cell_type": "code",
   "execution_count": 6,
   "metadata": {},
   "outputs": [
    {
     "data": {
      "text/html": [
       "<div>\n",
       "<style scoped>\n",
       "    .dataframe tbody tr th:only-of-type {\n",
       "        vertical-align: middle;\n",
       "    }\n",
       "\n",
       "    .dataframe tbody tr th {\n",
       "        vertical-align: top;\n",
       "    }\n",
       "\n",
       "    .dataframe thead th {\n",
       "        text-align: right;\n",
       "    }\n",
       "</style>\n",
       "<table border=\"1\" class=\"dataframe\">\n",
       "  <thead>\n",
       "    <tr style=\"text-align: right;\">\n",
       "      <th></th>\n",
       "      <th>Concurso</th>\n",
       "      <th>Jogo</th>\n",
       "      <th>HG</th>\n",
       "      <th>Home</th>\n",
       "      <th>S</th>\n",
       "      <th>Away</th>\n",
       "      <th>AG</th>\n",
       "      <th>Dia</th>\n",
       "      <th>Res</th>\n",
       "    </tr>\n",
       "  </thead>\n",
       "  <tbody>\n",
       "    <tr>\n",
       "      <th>0</th>\n",
       "      <td>Concurso 1 (18/02/2002)</td>\n",
       "      <td>1</td>\n",
       "      <td>2</td>\n",
       "      <td>FLAMENGO/RJ</td>\n",
       "      <td></td>\n",
       "      <td>S. PAULO/SP</td>\n",
       "      <td>4</td>\n",
       "      <td>Domingo</td>\n",
       "      <td>A</td>\n",
       "    </tr>\n",
       "    <tr>\n",
       "      <th>1</th>\n",
       "      <td>Concurso 1 (18/02/2002)</td>\n",
       "      <td>2</td>\n",
       "      <td>3</td>\n",
       "      <td>VASCO/RJ</td>\n",
       "      <td></td>\n",
       "      <td>AMERICANO/RJ</td>\n",
       "      <td>0</td>\n",
       "      <td>Domingo</td>\n",
       "      <td>H</td>\n",
       "    </tr>\n",
       "    <tr>\n",
       "      <th>2</th>\n",
       "      <td>Concurso 1 (18/02/2002)</td>\n",
       "      <td>3</td>\n",
       "      <td>2</td>\n",
       "      <td>SANTOS/SP</td>\n",
       "      <td></td>\n",
       "      <td>SÃO CAETANO/SP</td>\n",
       "      <td>1</td>\n",
       "      <td>Domingo</td>\n",
       "      <td>H</td>\n",
       "    </tr>\n",
       "    <tr>\n",
       "      <th>3</th>\n",
       "      <td>Concurso 1 (18/02/2002)</td>\n",
       "      <td>4</td>\n",
       "      <td>1</td>\n",
       "      <td>P. DESPORTOS/SP</td>\n",
       "      <td></td>\n",
       "      <td>CORINTHIANS/SP</td>\n",
       "      <td>4</td>\n",
       "      <td>Domingo</td>\n",
       "      <td>A</td>\n",
       "    </tr>\n",
       "    <tr>\n",
       "      <th>4</th>\n",
       "      <td>Concurso 1 (18/02/2002)</td>\n",
       "      <td>5</td>\n",
       "      <td>7</td>\n",
       "      <td>CRUZEIRO/MG</td>\n",
       "      <td></td>\n",
       "      <td>AMÉRICA/MG</td>\n",
       "      <td>0</td>\n",
       "      <td>Sábado</td>\n",
       "      <td>H</td>\n",
       "    </tr>\n",
       "  </tbody>\n",
       "</table>\n",
       "</div>"
      ],
      "text/plain": [
       "                  Concurso Jogo  HG             Home  S            Away  AG  \\\n",
       "0  Concurso 1 (18/02/2002)    1   2      FLAMENGO/RJ        S. PAULO/SP   4   \n",
       "1  Concurso 1 (18/02/2002)    2   3         VASCO/RJ       AMERICANO/RJ   0   \n",
       "2  Concurso 1 (18/02/2002)    3   2        SANTOS/SP     SÃO CAETANO/SP   1   \n",
       "3  Concurso 1 (18/02/2002)    4   1  P. DESPORTOS/SP     CORINTHIANS/SP   4   \n",
       "4  Concurso 1 (18/02/2002)    5   7      CRUZEIRO/MG         AMÉRICA/MG   0   \n",
       "\n",
       "        Dia Res  \n",
       "0  Domingo    A  \n",
       "1  Domingo    H  \n",
       "2  Domingo    H  \n",
       "3  Domingo    A  \n",
       "4   Sábado    H  "
      ]
     },
     "execution_count": 6,
     "metadata": {},
     "output_type": "execute_result"
    }
   ],
   "source": [
    "# df_.head()"
   ]
  },
  {
   "cell_type": "markdown",
   "metadata": {},
   "source": [
    "### Frequencia de vitórias em casa (H), empates (D) e visitantes (A)"
   ]
  },
  {
   "cell_type": "code",
   "execution_count": 7,
   "metadata": {},
   "outputs": [
    {
     "data": {
      "text/plain": [
       "<BarContainer object of 3 artists>"
      ]
     },
     "execution_count": 7,
     "metadata": {},
     "output_type": "execute_result"
    },
    {
     "data": {
      "image/png": "[encoded data removed]",
      "text/plain": [
       "<Figure size 432x288 with 1 Axes>"
      ]
     },
     "metadata": {
      "needs_background": "light"
     },
     "output_type": "display_data"
    }
   ],
   "source": [
    "# plt.bar(df_['Res'].value_counts().keys(),df_['Res'].value_counts())"
   ]
  },
  {
   "cell_type": "markdown",
   "metadata": {},
   "source": [
    "### Média de gols dos últimos jogos"
   ]
  },
  {
   "cell_type": "code",
   "execution_count": 8,
   "metadata": {},
   "outputs": [],
   "source": [
    "# Calcula a soma de gols feitos das ultimas n (window) partidas\n",
    "# def get_rolling_goals(dataFrame, equip, pos, window, HG_AG):   \n",
    "#     HA = 'Home' if HG_AG == 'HG' else 'Away' if HG_AG == 'AG' else ''\n",
    "#     s = dataFrame[:pos][dataFrame[HA] == equip][HG_AG][-window:].sum()\n",
    "#     return s if not(np.isnan(s)) else 0\n",
    "\n",
    "# Calcula a soma de gols recebidos das ultimas n (window) partidas\n",
    "# def get_rolling_received(dataFrame, equip, pos, window, HG_AG):   \n",
    "#     HA = 'Home' if HG_AG == 'HG' else 'Away' if HG_AG == 'AG' else ''\n",
    "#     HG_AG_ = 'HG' if HG_AG == 'AG' else 'AG' if HG_AG == 'HG' else ''\n",
    "#     s = dataFrame[:pos][dataFrame[HA] == equip][HG_AG_][-window:].sum()\n",
    "#     return s if not(np.isnan(s)) else 0\n",
    "\n",
    "    "
   ]
  },
  {
   "cell_type": "code",
   "execution_count": 9,
   "metadata": {},
   "outputs": [
    {
     "name": "stderr",
     "output_type": "stream",
     "text": [
      "C:\\Users\\flamo\\AppData\\Local\\conda\\conda\\envs\\tensorflow-gpu\\lib\\site-packages\\ipykernel_launcher.py:4: UserWarning: Boolean Series key will be reindexed to match DataFrame index.\n",
      "  after removing the cwd from sys.path.\n",
      "C:\\Users\\flamo\\AppData\\Local\\conda\\conda\\envs\\tensorflow-gpu\\lib\\site-packages\\ipykernel_launcher.py:11: UserWarning: Boolean Series key will be reindexed to match DataFrame index.\n",
      "  # This is added back by InteractiveShellApp.init_path()\n"
     ]
    }
   ],
   "source": [
    "# dfg = []\n",
    "# for idx, row in df_.iterrows():\n",
    "#     row['H_Goals_Scored'] = get_rolling_goals(df_, row['Home'], idx, 20, 'HG')\n",
    "#     row['A_Goals_Scored'] = get_rolling_goals(df_, row['Away'], idx, 20, 'AG')\n",
    "#     row['H_Goals_Against'] = get_rolling_received(df_, row['Home'], idx, 20, 'HG')\n",
    "#     row['A_Goals_Against'] = get_rolling_received(df_, row['Away'], idx, 20, 'AG')\n",
    "#     dfg.append(row)\n",
    "    \n",
    "    \n",
    "    \n",
    "    "
   ]
  },
  {
   "cell_type": "code",
   "execution_count": 10,
   "metadata": {},
   "outputs": [],
   "source": [
    "# dfgs = pd.DataFrame(dfg)"
   ]
  },
  {
   "cell_type": "code",
   "execution_count": 11,
   "metadata": {},
   "outputs": [
    {
     "data": {
      "text/html": [
       "<div>\n",
       "<style scoped>\n",
       "    .dataframe tbody tr th:only-of-type {\n",
       "        vertical-align: middle;\n",
       "    }\n",
       "\n",
       "    .dataframe tbody tr th {\n",
       "        vertical-align: top;\n",
       "    }\n",
       "\n",
       "    .dataframe thead th {\n",
       "        text-align: right;\n",
       "    }\n",
       "</style>\n",
       "<table border=\"1\" class=\"dataframe\">\n",
       "  <thead>\n",
       "    <tr style=\"text-align: right;\">\n",
       "      <th></th>\n",
       "      <th>Concurso</th>\n",
       "      <th>Jogo</th>\n",
       "      <th>HG</th>\n",
       "      <th>Home</th>\n",
       "      <th>S</th>\n",
       "      <th>Away</th>\n",
       "      <th>AG</th>\n",
       "      <th>Dia</th>\n",
       "      <th>Res</th>\n",
       "      <th>H_Goals_Scored</th>\n",
       "      <th>A_Goals_Scored</th>\n",
       "      <th>H_Goals_Against</th>\n",
       "      <th>A_Goals_Against</th>\n",
       "    </tr>\n",
       "  </thead>\n",
       "  <tbody>\n",
       "    <tr>\n",
       "      <th>11182</th>\n",
       "      <td>Concurso 800 (21/05/2018)</td>\n",
       "      <td>1</td>\n",
       "      <td>1</td>\n",
       "      <td>SÃO PAULO/SP</td>\n",
       "      <td></td>\n",
       "      <td>SANTOS/SP</td>\n",
       "      <td>0</td>\n",
       "      <td>Domingo</td>\n",
       "      <td>H</td>\n",
       "      <td>34</td>\n",
       "      <td>19</td>\n",
       "      <td>18</td>\n",
       "      <td>23</td>\n",
       "    </tr>\n",
       "    <tr>\n",
       "      <th>11183</th>\n",
       "      <td>Concurso 800 (21/05/2018)</td>\n",
       "      <td>2</td>\n",
       "      <td>1</td>\n",
       "      <td>ATLÉTICO/MG</td>\n",
       "      <td></td>\n",
       "      <td>CRUZEIRO/MG</td>\n",
       "      <td>0</td>\n",
       "      <td>Sábado</td>\n",
       "      <td>H</td>\n",
       "      <td>36</td>\n",
       "      <td>19</td>\n",
       "      <td>22</td>\n",
       "      <td>23</td>\n",
       "    </tr>\n",
       "    <tr>\n",
       "      <th>11184</th>\n",
       "      <td>Concurso 800 (21/05/2018)</td>\n",
       "      <td>3</td>\n",
       "      <td>1</td>\n",
       "      <td>FLAMENGO/RJ</td>\n",
       "      <td></td>\n",
       "      <td>VASCO DA GAMA/RJ</td>\n",
       "      <td>1</td>\n",
       "      <td>Sábado</td>\n",
       "      <td>D</td>\n",
       "      <td>33</td>\n",
       "      <td>20</td>\n",
       "      <td>10</td>\n",
       "      <td>25</td>\n",
       "    </tr>\n",
       "    <tr>\n",
       "      <th>11185</th>\n",
       "      <td>Concurso 800 (21/05/2018)</td>\n",
       "      <td>4</td>\n",
       "      <td>1</td>\n",
       "      <td>LONDRINA/PR</td>\n",
       "      <td></td>\n",
       "      <td>CSA/AL</td>\n",
       "      <td>2</td>\n",
       "      <td>Sábado</td>\n",
       "      <td>A</td>\n",
       "      <td>21</td>\n",
       "      <td>14</td>\n",
       "      <td>17</td>\n",
       "      <td>16</td>\n",
       "    </tr>\n",
       "    <tr>\n",
       "      <th>11186</th>\n",
       "      <td>Concurso 800 (21/05/2018)</td>\n",
       "      <td>5</td>\n",
       "      <td>1</td>\n",
       "      <td>PONTE PRETA/SP</td>\n",
       "      <td></td>\n",
       "      <td>ATLÉTICO/GO</td>\n",
       "      <td>3</td>\n",
       "      <td>Sábado</td>\n",
       "      <td>A</td>\n",
       "      <td>21</td>\n",
       "      <td>21</td>\n",
       "      <td>21</td>\n",
       "      <td>20</td>\n",
       "    </tr>\n",
       "    <tr>\n",
       "      <th>11187</th>\n",
       "      <td>Concurso 800 (21/05/2018)</td>\n",
       "      <td>6</td>\n",
       "      <td>1</td>\n",
       "      <td>BOA ESPORTE/MG</td>\n",
       "      <td></td>\n",
       "      <td>CORITIBA/PR</td>\n",
       "      <td>1</td>\n",
       "      <td>Sábado</td>\n",
       "      <td>D</td>\n",
       "      <td>20</td>\n",
       "      <td>24</td>\n",
       "      <td>9</td>\n",
       "      <td>25</td>\n",
       "    </tr>\n",
       "    <tr>\n",
       "      <th>11188</th>\n",
       "      <td>Concurso 800 (21/05/2018)</td>\n",
       "      <td>7</td>\n",
       "      <td>0</td>\n",
       "      <td>PARANÁ/PR</td>\n",
       "      <td></td>\n",
       "      <td>GRÊMIO/RS</td>\n",
       "      <td>0</td>\n",
       "      <td>Domingo</td>\n",
       "      <td>D</td>\n",
       "      <td>25</td>\n",
       "      <td>19</td>\n",
       "      <td>20</td>\n",
       "      <td>26</td>\n",
       "    </tr>\n",
       "    <tr>\n",
       "      <th>11189</th>\n",
       "      <td>Concurso 800 (21/05/2018)</td>\n",
       "      <td>8</td>\n",
       "      <td>1</td>\n",
       "      <td>SPORT/PE</td>\n",
       "      <td></td>\n",
       "      <td>CORINTHIANS/SP</td>\n",
       "      <td>1</td>\n",
       "      <td>Domingo</td>\n",
       "      <td>D</td>\n",
       "      <td>29</td>\n",
       "      <td>25</td>\n",
       "      <td>23</td>\n",
       "      <td>16</td>\n",
       "    </tr>\n",
       "    <tr>\n",
       "      <th>11190</th>\n",
       "      <td>Concurso 800 (21/05/2018)</td>\n",
       "      <td>9</td>\n",
       "      <td>3</td>\n",
       "      <td>PALMEIRAS/SP</td>\n",
       "      <td></td>\n",
       "      <td>BAHIA/BA</td>\n",
       "      <td>0</td>\n",
       "      <td>Sábado</td>\n",
       "      <td>H</td>\n",
       "      <td>33</td>\n",
       "      <td>18</td>\n",
       "      <td>11</td>\n",
       "      <td>20</td>\n",
       "    </tr>\n",
       "    <tr>\n",
       "      <th>11191</th>\n",
       "      <td>Concurso 800 (21/05/2018)</td>\n",
       "      <td>10</td>\n",
       "      <td>2</td>\n",
       "      <td>VITÓRIA/BA</td>\n",
       "      <td></td>\n",
       "      <td>CEARÁ/CE</td>\n",
       "      <td>1</td>\n",
       "      <td>Domingo</td>\n",
       "      <td>H</td>\n",
       "      <td>21</td>\n",
       "      <td>19</td>\n",
       "      <td>18</td>\n",
       "      <td>26</td>\n",
       "    </tr>\n",
       "    <tr>\n",
       "      <th>11192</th>\n",
       "      <td>Concurso 800 (21/05/2018)</td>\n",
       "      <td>11</td>\n",
       "      <td>3</td>\n",
       "      <td>SALGUEIRO/PE</td>\n",
       "      <td></td>\n",
       "      <td>ABC/RN</td>\n",
       "      <td>0</td>\n",
       "      <td>Sábado</td>\n",
       "      <td>H</td>\n",
       "      <td>28</td>\n",
       "      <td>15</td>\n",
       "      <td>12</td>\n",
       "      <td>31</td>\n",
       "    </tr>\n",
       "    <tr>\n",
       "      <th>11193</th>\n",
       "      <td>Concurso 800 (21/05/2018)</td>\n",
       "      <td>12</td>\n",
       "      <td>3</td>\n",
       "      <td>BOTAFOGO/SP</td>\n",
       "      <td></td>\n",
       "      <td>JOINVILLE/SC</td>\n",
       "      <td>0</td>\n",
       "      <td>Domingo</td>\n",
       "      <td>H</td>\n",
       "      <td>25</td>\n",
       "      <td>17</td>\n",
       "      <td>30</td>\n",
       "      <td>21</td>\n",
       "    </tr>\n",
       "    <tr>\n",
       "      <th>11194</th>\n",
       "      <td>Concurso 800 (21/05/2018)</td>\n",
       "      <td>13</td>\n",
       "      <td>1</td>\n",
       "      <td>AMÉRICA/MG</td>\n",
       "      <td></td>\n",
       "      <td>BOTAFOGO/RJ</td>\n",
       "      <td>0</td>\n",
       "      <td>Domingo</td>\n",
       "      <td>H</td>\n",
       "      <td>19</td>\n",
       "      <td>11</td>\n",
       "      <td>18</td>\n",
       "      <td>13</td>\n",
       "    </tr>\n",
       "    <tr>\n",
       "      <th>11195</th>\n",
       "      <td>Concurso 800 (21/05/2018)</td>\n",
       "      <td>14</td>\n",
       "      <td>2</td>\n",
       "      <td>FLUMINENSE/RJ</td>\n",
       "      <td></td>\n",
       "      <td>ATLÉTICO/PR</td>\n",
       "      <td>0</td>\n",
       "      <td>Domingo</td>\n",
       "      <td>H</td>\n",
       "      <td>28</td>\n",
       "      <td>11</td>\n",
       "      <td>15</td>\n",
       "      <td>23</td>\n",
       "    </tr>\n",
       "  </tbody>\n",
       "</table>\n",
       "</div>"
      ],
      "text/plain": [
       "                        Concurso Jogo  HG            Home  S  \\\n",
       "11182  Concurso 800 (21/05/2018)    1   1    SÃO PAULO/SP      \n",
       "11183  Concurso 800 (21/05/2018)    2   1     ATLÉTICO/MG      \n",
       "11184  Concurso 800 (21/05/2018)    3   1     FLAMENGO/RJ      \n",
       "11185  Concurso 800 (21/05/2018)    4   1     LONDRINA/PR      \n",
       "11186  Concurso 800 (21/05/2018)    5   1  PONTE PRETA/SP      \n",
       "11187  Concurso 800 (21/05/2018)    6   1  BOA ESPORTE/MG      \n",
       "11188  Concurso 800 (21/05/2018)    7   0       PARANÁ/PR      \n",
       "11189  Concurso 800 (21/05/2018)    8   1        SPORT/PE      \n",
       "11190  Concurso 800 (21/05/2018)    9   3    PALMEIRAS/SP      \n",
       "11191  Concurso 800 (21/05/2018)   10   2      VITÓRIA/BA      \n",
       "11192  Concurso 800 (21/05/2018)   11   3    SALGUEIRO/PE      \n",
       "11193  Concurso 800 (21/05/2018)   12   3     BOTAFOGO/SP      \n",
       "11194  Concurso 800 (21/05/2018)   13   1      AMÉRICA/MG      \n",
       "11195  Concurso 800 (21/05/2018)   14   2   FLUMINENSE/RJ      \n",
       "\n",
       "                   Away  AG       Dia Res  H_Goals_Scored  A_Goals_Scored  \\\n",
       "11182         SANTOS/SP   0  Domingo    H              34              19   \n",
       "11183       CRUZEIRO/MG   0   Sábado    H              36              19   \n",
       "11184  VASCO DA GAMA/RJ   1   Sábado    D              33              20   \n",
       "11185            CSA/AL   2   Sábado    A              21              14   \n",
       "11186       ATLÉTICO/GO   3   Sábado    A              21              21   \n",
       "11187       CORITIBA/PR   1   Sábado    D              20              24   \n",
       "11188         GRÊMIO/RS   0  Domingo    D              25              19   \n",
       "11189    CORINTHIANS/SP   1  Domingo    D              29              25   \n",
       "11190          BAHIA/BA   0   Sábado    H              33              18   \n",
       "11191          CEARÁ/CE   1  Domingo    H              21              19   \n",
       "11192            ABC/RN   0   Sábado    H              28              15   \n",
       "11193      JOINVILLE/SC   0  Domingo    H              25              17   \n",
       "11194       BOTAFOGO/RJ   0  Domingo    H              19              11   \n",
       "11195       ATLÉTICO/PR   0  Domingo    H              28              11   \n",
       "\n",
       "       H_Goals_Against  A_Goals_Against  \n",
       "11182               18               23  \n",
       "11183               22               23  \n",
       "11184               10               25  \n",
       "11185               17               16  \n",
       "11186               21               20  \n",
       "11187                9               25  \n",
       "11188               20               26  \n",
       "11189               23               16  \n",
       "11190               11               20  \n",
       "11191               18               26  \n",
       "11192               12               31  \n",
       "11193               30               21  \n",
       "11194               18               13  \n",
       "11195               15               23  "
      ]
     },
     "execution_count": 11,
     "metadata": {},
     "output_type": "execute_result"
    }
   ],
   "source": [
    "# dfgs[dfgs['Concurso']=='Concurso 800 (21/05/2018)']"
   ]
  },
  {
   "cell_type": "code",
   "execution_count": 12,
   "metadata": {},
   "outputs": [],
   "source": [
    "# dfgs.to_csv('arquivo_loteca1.csv')"
   ]
  },
  {
   "cell_type": "code",
   "execution_count": 3,
   "metadata": {},
   "outputs": [],
   "source": [
    "df_ = pd.read_csv('arquivo_loteca1.csv')"
   ]
  },
  {
   "cell_type": "code",
   "execution_count": 4,
   "metadata": {},
   "outputs": [
    {
     "data": {
      "text/html": [
       "<div>\n",
       "<style scoped>\n",
       "    .dataframe tbody tr th:only-of-type {\n",
       "        vertical-align: middle;\n",
       "    }\n",
       "\n",
       "    .dataframe tbody tr th {\n",
       "        vertical-align: top;\n",
       "    }\n",
       "\n",
       "    .dataframe thead th {\n",
       "        text-align: right;\n",
       "    }\n",
       "</style>\n",
       "<table border=\"1\" class=\"dataframe\">\n",
       "  <thead>\n",
       "    <tr style=\"text-align: right;\">\n",
       "      <th></th>\n",
       "      <th>Unnamed: 0</th>\n",
       "      <th>Concurso</th>\n",
       "      <th>Jogo</th>\n",
       "      <th>HG</th>\n",
       "      <th>Home</th>\n",
       "      <th>S</th>\n",
       "      <th>Away</th>\n",
       "      <th>AG</th>\n",
       "      <th>Dia</th>\n",
       "      <th>Res</th>\n",
       "      <th>H_Goals_Scored</th>\n",
       "      <th>A_Goals_Scored</th>\n",
       "      <th>H_Goals_Against</th>\n",
       "      <th>A_Goals_Against</th>\n",
       "    </tr>\n",
       "  </thead>\n",
       "  <tbody>\n",
       "    <tr>\n",
       "      <th>0</th>\n",
       "      <td>0</td>\n",
       "      <td>Concurso 1 (18/02/2002)</td>\n",
       "      <td>1</td>\n",
       "      <td>2</td>\n",
       "      <td>FLAMENGO/RJ</td>\n",
       "      <td></td>\n",
       "      <td>S. PAULO/SP</td>\n",
       "      <td>4</td>\n",
       "      <td>Domingo</td>\n",
       "      <td>A</td>\n",
       "      <td>0</td>\n",
       "      <td>0</td>\n",
       "      <td>0</td>\n",
       "      <td>0</td>\n",
       "    </tr>\n",
       "    <tr>\n",
       "      <th>1</th>\n",
       "      <td>1</td>\n",
       "      <td>Concurso 1 (18/02/2002)</td>\n",
       "      <td>2</td>\n",
       "      <td>3</td>\n",
       "      <td>VASCO/RJ</td>\n",
       "      <td></td>\n",
       "      <td>AMERICANO/RJ</td>\n",
       "      <td>0</td>\n",
       "      <td>Domingo</td>\n",
       "      <td>H</td>\n",
       "      <td>0</td>\n",
       "      <td>0</td>\n",
       "      <td>0</td>\n",
       "      <td>0</td>\n",
       "    </tr>\n",
       "    <tr>\n",
       "      <th>2</th>\n",
       "      <td>2</td>\n",
       "      <td>Concurso 1 (18/02/2002)</td>\n",
       "      <td>3</td>\n",
       "      <td>2</td>\n",
       "      <td>SANTOS/SP</td>\n",
       "      <td></td>\n",
       "      <td>SÃO CAETANO/SP</td>\n",
       "      <td>1</td>\n",
       "      <td>Domingo</td>\n",
       "      <td>H</td>\n",
       "      <td>0</td>\n",
       "      <td>0</td>\n",
       "      <td>0</td>\n",
       "      <td>0</td>\n",
       "    </tr>\n",
       "    <tr>\n",
       "      <th>3</th>\n",
       "      <td>3</td>\n",
       "      <td>Concurso 1 (18/02/2002)</td>\n",
       "      <td>4</td>\n",
       "      <td>1</td>\n",
       "      <td>P. DESPORTOS/SP</td>\n",
       "      <td></td>\n",
       "      <td>CORINTHIANS/SP</td>\n",
       "      <td>4</td>\n",
       "      <td>Domingo</td>\n",
       "      <td>A</td>\n",
       "      <td>0</td>\n",
       "      <td>0</td>\n",
       "      <td>0</td>\n",
       "      <td>0</td>\n",
       "    </tr>\n",
       "    <tr>\n",
       "      <th>4</th>\n",
       "      <td>4</td>\n",
       "      <td>Concurso 1 (18/02/2002)</td>\n",
       "      <td>5</td>\n",
       "      <td>7</td>\n",
       "      <td>CRUZEIRO/MG</td>\n",
       "      <td></td>\n",
       "      <td>AMÉRICA/MG</td>\n",
       "      <td>0</td>\n",
       "      <td>Sábado</td>\n",
       "      <td>H</td>\n",
       "      <td>0</td>\n",
       "      <td>0</td>\n",
       "      <td>0</td>\n",
       "      <td>0</td>\n",
       "    </tr>\n",
       "  </tbody>\n",
       "</table>\n",
       "</div>"
      ],
      "text/plain": [
       "   Unnamed: 0                 Concurso  Jogo  HG             Home  S  \\\n",
       "0           0  Concurso 1 (18/02/2002)     1   2      FLAMENGO/RJ      \n",
       "1           1  Concurso 1 (18/02/2002)     2   3         VASCO/RJ      \n",
       "2           2  Concurso 1 (18/02/2002)     3   2        SANTOS/SP      \n",
       "3           3  Concurso 1 (18/02/2002)     4   1  P. DESPORTOS/SP      \n",
       "4           4  Concurso 1 (18/02/2002)     5   7      CRUZEIRO/MG      \n",
       "\n",
       "             Away  AG       Dia Res  H_Goals_Scored  A_Goals_Scored  \\\n",
       "0     S. PAULO/SP   4  Domingo    A               0               0   \n",
       "1    AMERICANO/RJ   0  Domingo    H               0               0   \n",
       "2  SÃO CAETANO/SP   1  Domingo    H               0               0   \n",
       "3  CORINTHIANS/SP   4  Domingo    A               0               0   \n",
       "4      AMÉRICA/MG   0   Sábado    H               0               0   \n",
       "\n",
       "   H_Goals_Against  A_Goals_Against  \n",
       "0                0                0  \n",
       "1                0                0  \n",
       "2                0                0  \n",
       "3                0                0  \n",
       "4                0                0  "
      ]
     },
     "execution_count": 4,
     "metadata": {},
     "output_type": "execute_result"
    }
   ],
   "source": [
    "df_.head()"
   ]
  },
  {
   "cell_type": "markdown",
   "metadata": {},
   "source": [
    "### Nomes dos times"
   ]
  },
  {
   "cell_type": "code",
   "execution_count": 5,
   "metadata": {},
   "outputs": [],
   "source": [
    "# Cria uma lista de nomes dos times\n",
    "vocab = np.unique(np.concatenate((np.array(df_['Home'].unique()), np.array(df_['Away'].unique()))))"
   ]
  },
  {
   "cell_type": "code",
   "execution_count": 6,
   "metadata": {},
   "outputs": [],
   "source": [
    "# Cria o indice de times\n",
    "word2idx = {word: i for i, word in enumerate(vocab)}"
   ]
  },
  {
   "cell_type": "code",
   "execution_count": 7,
   "metadata": {},
   "outputs": [],
   "source": [
    "# Retorna o indice de um time:\n",
    "def word2vector(word):\n",
    "    m = np.zeros(len(word2idx))\n",
    "    idx = word2idx.get(word)\n",
    "    if idx == '':\n",
    "        raise ValueError('Time não encontrado no indice: ' + word)\n",
    "\n",
    "    m[word2idx.get(word)] = 1\n",
    "    return m"
   ]
  },
  {
   "cell_type": "code",
   "execution_count": 52,
   "metadata": {},
   "outputs": [],
   "source": [
    "# Transforma os dois times em um vetor com o flag do time correspondente e a média de gols\n",
    "def prepare(H,A):\n",
    "    \n",
    "    vector = []\n",
    "    \n",
    "    for x in word2vector(H):\n",
    "        if math.isnan(x):\n",
    "            raise ValueError('Time não encontrado no indice: ' + H)\n",
    "\n",
    "        vector.append(x)\n",
    "        \n",
    "    for x in word2vector(A):\n",
    "        if math.isnan(x):\n",
    "            raise ValueError('Time não encontrado no indice: ' + A)\n",
    "            \n",
    "        vector.append(x)\n",
    "                \n",
    "\n",
    "#     Cálculo das médias de gols\n",
    "#     vector.append(get_rolling_goals(df_, H, pos, 10, 'HG'))\n",
    "#     vector.append(get_rolling_goals(df_, A, pos, 10, 'AG'))\n",
    "    \n",
    "#     vector.append(get_rolling_received(df_, H, pos, 10, 'HG'))\n",
    "#     vector.append(get_rolling_received(df_, A, pos, 10, 'AG'))\n",
    "\n",
    "    \n",
    "\n",
    "    return vector"
   ]
  },
  {
   "cell_type": "markdown",
   "metadata": {},
   "source": [
    "### Indexar os resultados"
   ]
  },
  {
   "cell_type": "code",
   "execution_count": 53,
   "metadata": {},
   "outputs": [],
   "source": [
    "X = []\n",
    "y = []\n",
    "\n",
    "for ind_, row in df_.iterrows():\n",
    "    \n",
    "    vec = [word2vector(row['Home']), word2vector(row['Away'])]\n",
    "    \n",
    "    vec = np.array(vec).reshape(np.array(vec).shape[1]*2)\n",
    "    \n",
    "#     vec = np.append(vec, row['H_Goals_Scored'])\n",
    "#     vec = np.append(vec, row['A_Goals_Scored'])\n",
    "    \n",
    "    \n",
    "    X.append(vec)        \n",
    "    \n",
    "    ry = [1,0,0] if int(row['HG']) > int(row['AG']) else \\\n",
    "    [0,1,0] if int(row['HG']) == int(row['AG']) else \\\n",
    "    [0,0,1] if int(row['HG']) < int(row['AG']) else [0,0,0]\n",
    "\n",
    "    y.append(ry)\n",
    "\n",
    "y = np.array(y).reshape(np.array(y).shape[0],3)\n",
    "\n",
    "X = np.array(X)\n",
    "\n",
    "# Normalizar gols\n",
    "# X[:,-4:-3] = X[:,-4:-3]/X[:,-4:-3].max()\n",
    "# X[:,-3:-2] = X[:,-3:-2]/X[:,-3:-2].max()\n",
    "# X[:,-2:-1] = X[:,-2:-1]/X[:,-2:-1].max()\n",
    "# X[:,-1:] = X[:,-1:]/X[:,-1:].max()\n",
    "\n"
   ]
  },
  {
   "cell_type": "markdown",
   "metadata": {},
   "source": [
    "### Modelo"
   ]
  },
  {
   "cell_type": "code",
   "execution_count": 71,
   "metadata": {},
   "outputs": [],
   "source": [
    "from keras.models import Sequential\n",
    "from keras.layers import Dense, Dropout, TimeDistributed\n",
    "from keras.layers import Embedding, Activation\n",
    "from keras.layers import LSTM\n",
    "\n",
    "model = Sequential()\n",
    "model.add(LSTM(64, return_sequences=True))  # returns a sequence of vectors of dimension 32\n",
    "model.add(LSTM(64, return_sequences=True))  # returns a sequence of vectors of dimension 32\n",
    "model.add(LSTM(64))  # return a single vector of dimension 32model.add(Dropout(0.5))\n",
    "model.add(Dense(3, activation='softmax'))\n",
    "\n",
    "\n",
    "model.compile(loss='binary_crossentropy',\n",
    "              optimizer='rmsprop',\n",
    "              metrics=['accuracy'])"
   ]
  },
  {
   "cell_type": "markdown",
   "metadata": {},
   "source": [
    "### Separar os datasets de treinamento e teste"
   ]
  },
  {
   "cell_type": "code",
   "execution_count": 72,
   "metadata": {},
   "outputs": [],
   "source": [
    "xin = []\n",
    "frame_size = 50\n",
    "for i in range(X.shape[0]):\n",
    "    \n",
    "    x_=(X[i-frame_size:i])\n",
    "    \n",
    "    xin.append(x_)\n",
    "    \n",
    "    \n",
    "    \n",
    "\n",
    "xin = np.array(xin[frame_size:])\n",
    "yin = y[frame_size:]\n"
   ]
  },
  {
   "cell_type": "code",
   "execution_count": 73,
   "metadata": {},
   "outputs": [
    {
     "data": {
      "text/plain": [
       "(11510, 50, 1828)"
      ]
     },
     "execution_count": 73,
     "metadata": {},
     "output_type": "execute_result"
    }
   ],
   "source": [
    "xin.shape"
   ]
  },
  {
   "cell_type": "code",
   "execution_count": 74,
   "metadata": {},
   "outputs": [],
   "source": [
    "split = 40"
   ]
  },
  {
   "cell_type": "code",
   "execution_count": 75,
   "metadata": {},
   "outputs": [],
   "source": [
    "X_train, y_train, X_test, y_test = xin[:-int(xin.shape[0]/split)], yin[:-int(yin.shape[0]/split)], xin[-int(xin.shape[0]/split):], yin[-int(yin.shape[0]/split):],"
   ]
  },
  {
   "cell_type": "markdown",
   "metadata": {},
   "source": [
    "### Treinar o modelo"
   ]
  },
  {
   "cell_type": "code",
   "execution_count": null,
   "metadata": {
    "scrolled": true
   },
   "outputs": [
    {
     "name": "stdout",
     "output_type": "stream",
     "text": [
      "Epoch 1/300\n",
      "11223/11223 [==============================] - 25s 2ms/step - loss: 0.6162 - acc: 0.6645\n",
      "Epoch 2/300\n",
      "11223/11223 [==============================] - 16s 1ms/step - loss: 0.6108 - acc: 0.6683\n",
      "Epoch 3/300\n",
      "11223/11223 [==============================] - 16s 1ms/step - loss: 0.6075 - acc: 0.6761\n",
      "Epoch 4/300\n",
      "11223/11223 [==============================] - 16s 1ms/step - loss: 0.6036 - acc: 0.6789\n",
      "Epoch 5/300\n",
      "11223/11223 [==============================] - 16s 1ms/step - loss: 0.5993 - acc: 0.6839\n",
      "Epoch 6/300\n",
      "11223/11223 [==============================] - 16s 1ms/step - loss: 0.5953 - acc: 0.6886\n",
      "Epoch 7/300\n",
      "11223/11223 [==============================] - 16s 1ms/step - loss: 0.5929 - acc: 0.6905\n",
      "Epoch 8/300\n",
      "11223/11223 [==============================] - 16s 1ms/step - loss: 0.5908 - acc: 0.6889\n",
      "Epoch 9/300\n",
      "11223/11223 [==============================] - 16s 1ms/step - loss: 0.5872 - acc: 0.6952\n",
      "Epoch 10/300\n",
      "11223/11223 [==============================] - 16s 1ms/step - loss: 0.5860 - acc: 0.6924\n",
      "Epoch 11/300\n",
      "11223/11223 [==============================] - 16s 1ms/step - loss: 0.5833 - acc: 0.6946\n",
      "Epoch 12/300\n",
      "11223/11223 [==============================] - 16s 1ms/step - loss: 0.5808 - acc: 0.6972\n",
      "Epoch 13/300\n",
      "11223/11223 [==============================] - 16s 1ms/step - loss: 0.5798 - acc: 0.6973\n",
      "Epoch 14/300\n",
      "11223/11223 [==============================] - 16s 1ms/step - loss: 0.5773 - acc: 0.6979\n",
      "Epoch 15/300\n",
      "11223/11223 [==============================] - 16s 1ms/step - loss: 0.5744 - acc: 0.6989\n",
      "Epoch 16/300\n",
      "11223/11223 [==============================] - 16s 1ms/step - loss: 0.5727 - acc: 0.7003\n",
      "Epoch 17/300\n",
      "11223/11223 [==============================] - 16s 1ms/step - loss: 0.5716 - acc: 0.7025\n",
      "Epoch 18/300\n",
      "11223/11223 [==============================] - 16s 1ms/step - loss: 0.5698 - acc: 0.7039\n",
      "Epoch 19/300\n",
      "11223/11223 [==============================] - 16s 1ms/step - loss: 0.5674 - acc: 0.7040\n",
      "Epoch 20/300\n",
      "11223/11223 [==============================] - 16s 1ms/step - loss: 0.5655 - acc: 0.7058\n",
      "Epoch 21/300\n",
      "11223/11223 [==============================] - 16s 1ms/step - loss: 0.5636 - acc: 0.7065\n",
      "Epoch 22/300\n",
      "11223/11223 [==============================] - 18s 2ms/step - loss: 0.5622 - acc: 0.7076\n",
      "Epoch 23/300\n",
      "11223/11223 [==============================] - 16s 1ms/step - loss: 0.5602 - acc: 0.7076\n",
      "Epoch 24/300\n",
      "11223/11223 [==============================] - 16s 1ms/step - loss: 0.5586 - acc: 0.7112\n",
      "Epoch 25/300\n",
      "11223/11223 [==============================] - 16s 1ms/step - loss: 0.5571 - acc: 0.7115\n",
      "Epoch 26/300\n",
      "11223/11223 [==============================] - 16s 1ms/step - loss: 0.5551 - acc: 0.7124\n",
      "Epoch 27/300\n",
      "11223/11223 [==============================] - 16s 1ms/step - loss: 0.5532 - acc: 0.7143\n",
      "Epoch 28/300\n",
      "11223/11223 [==============================] - 16s 1ms/step - loss: 0.5517 - acc: 0.7141\n",
      "Epoch 29/300\n",
      "11223/11223 [==============================] - 16s 1ms/step - loss: 0.5503 - acc: 0.7154\n",
      "Epoch 30/300\n",
      " 5500/11223 [=============>................] - ETA: 8s - loss: 0.5477 - acc: 0.7147"
     ]
    }
   ],
   "source": [
    "history = model.fit(X_train, y_train, epochs=300, batch_size=500, shuffle=True)"
   ]
  },
  {
   "cell_type": "code",
   "execution_count": 45,
   "metadata": {},
   "outputs": [
    {
     "data": {
      "text/plain": [
       "[<matplotlib.lines.Line2D at 0x19ed5103c50>]"
      ]
     },
     "execution_count": 45,
     "metadata": {},
     "output_type": "execute_result"
    },
    {
     "data": {
      "image/png": "[encoded data removed]",
      "text/plain": [
       "<Figure size 432x288 with 1 Axes>"
      ]
     },
     "metadata": {
      "needs_background": "light"
     },
     "output_type": "display_data"
    }
   ],
   "source": [
    "plt.plot(history.history['acc'])"
   ]
  },
  {
   "cell_type": "code",
   "execution_count": 48,
   "metadata": {},
   "outputs": [
    {
     "name": "stdout",
     "output_type": "stream",
     "text": [
      "288/288 [==============================] - 0s 662us/step\n"
     ]
    },
    {
     "data": {
      "text/plain": [
       "[4.472772810194227, 0.5879629850387573]"
      ]
     },
     "execution_count": 48,
     "metadata": {},
     "output_type": "execute_result"
    }
   ],
   "source": [
    "model.evaluate(X_test[1:], \n",
    "               y_test, verbose=1)"
   ]
  },
  {
   "cell_type": "markdown",
   "metadata": {},
   "source": [
    "### Avaliar precisão"
   ]
  },
  {
   "cell_type": "code",
   "execution_count": 124,
   "metadata": {},
   "outputs": [],
   "source": [
    "# Cria as colunas com os resultados reais e as apostas\n",
    "def aposta(dr,p):\n",
    "    dr['RC1'] = 'X' if dr['HG'] > dr['AG'] else ''\n",
    "    dr['RCM'] = 'X' if dr['HG'] == dr['AG'] else ''\n",
    "    dr['RC2'] = 'X' if dr['HG'] < dr['AG'] else ''\n",
    "    \n",
    "    \n",
    "#     Criar apostas com jogos simples, duplos e triplos:\n",
    "    c=0\n",
    "    if p[0,0] > p.mean():\n",
    "        dr['AC1'] = 'X' \n",
    "        c += 1\n",
    "    else:\n",
    "        dr['AC1'] = ''\n",
    "    \n",
    "\n",
    "    if p[0,1] > p.mean():\n",
    "        dr['ACM'] = 'X' \n",
    "        c += 1\n",
    "    else:\n",
    "        dr['ACM'] = ''\n",
    "\n",
    "    if p[0,2] > p.mean():\n",
    "        dr['AC2'] = 'X' \n",
    "        c += 1\n",
    "    else:\n",
    "        dr['AC2'] = ''\n",
    "        \n",
    "#         Criar marcador de jogos duplos e triplos\n",
    "    if c==2:\n",
    "        dr['D']='D'\n",
    "    else:\n",
    "        dr['D']=''\n",
    "    if c==3:\n",
    "        dr['T']='T'\n",
    "    else:\n",
    "        dr['T']=''\n",
    "        \n",
    "\n",
    "    return dr\n",
    "    \n",
    "    \n",
    "    "
   ]
  },
  {
   "cell_type": "code",
   "execution_count": 51,
   "metadata": {
    "scrolled": true
   },
   "outputs": [
    {
     "name": "stdout",
     "output_type": "stream",
     "text": [
      "38.19 %\n"
     ]
    }
   ],
   "source": [
    "dfx = df_[int(-df_.shape[0]/split):]\n",
    "\n",
    "ds = []\n",
    "\n",
    "X_ = X[-int(X.shape[0]/split):]\n",
    "\n",
    "prec = []\n",
    "\n",
    "i = 0\n",
    "\n",
    "y_true = []\n",
    "\n",
    "y_prec = []\n",
    "\n",
    "for row in X_test[1:]:    \n",
    "\n",
    "    p = model.predict([[row]])\n",
    "    \n",
    "    m = p[0].max()\n",
    "    \n",
    "    r = [1,0,0] if p[0,0] == m else [0,1,0] if p[0,1] == m else [0,0,1] if p[0,2] == m else [0,0,0]       \n",
    "    \n",
    "    a = 1 if (r == y_test[i]).all() else 0\n",
    "    \n",
    "    prec.append(r)   \n",
    "    \n",
    "    \n",
    "    i += 1\n",
    "    \n",
    "#     Cria um dataframe com os resultados para report\n",
    "    ds.append(a)    \n",
    "    \n",
    "print(round(((np.mean(ds))) * 100,2), '%')\n",
    "    "
   ]
  },
  {
   "cell_type": "code",
   "execution_count": 160,
   "metadata": {},
   "outputs": [],
   "source": [
    "from pandas_ml import ConfusionMatrix"
   ]
  },
  {
   "cell_type": "code",
   "execution_count": 164,
   "metadata": {},
   "outputs": [
    {
     "data": {
      "text/plain": [
       "(289, 3)"
      ]
     },
     "execution_count": 164,
     "metadata": {},
     "output_type": "execute_result"
    }
   ],
   "source": [
    "confusion_matrix = ConfusionMatrix(y_true, y_pred)"
   ]
  },
  {
   "cell_type": "code",
   "execution_count": 161,
   "metadata": {},
   "outputs": [
    {
     "ename": "Exception",
     "evalue": "Data must be 1-dimensional",
     "output_type": "error",
     "traceback": [
      "\u001b[1;31m---------------------------------------------------------------------------\u001b[0m",
      "\u001b[1;31mException\u001b[0m                                 Traceback (most recent call last)",
      "\u001b[1;32m<ipython-input-161-b400850492e8>\u001b[0m in \u001b[0;36m<module>\u001b[1;34m\u001b[0m\n\u001b[1;32m----> 1\u001b[1;33m \u001b[0mconfusion_matrix\u001b[0m \u001b[1;33m=\u001b[0m \u001b[0mConfusionMatrix\u001b[0m\u001b[1;33m(\u001b[0m\u001b[0my_test\u001b[0m\u001b[1;33m,\u001b[0m \u001b[0mprec\u001b[0m\u001b[1;33m)\u001b[0m\u001b[1;33m\u001b[0m\u001b[1;33m\u001b[0m\u001b[0m\n\u001b[0m",
      "\u001b[1;32m~\\AppData\\Local\\conda\\conda\\envs\\tensorflow-gpu\\lib\\site-packages\\pandas_ml\\confusion_matrix\\cm.py\u001b[0m in \u001b[0;36m__new__\u001b[1;34m(cls, y_true, y_pred, *args, **kwargs)\u001b[0m\n\u001b[0;32m     21\u001b[0m             \u001b[1;32mif\u001b[0m \u001b[0mlen\u001b[0m\u001b[1;33m(\u001b[0m\u001b[0mset\u001b[0m\u001b[1;33m(\u001b[0m\u001b[0muniq_true\u001b[0m\u001b[1;33m)\u001b[0m \u001b[1;33m-\u001b[0m \u001b[0mset\u001b[0m\u001b[1;33m(\u001b[0m\u001b[0muniq_pred\u001b[0m\u001b[1;33m)\u001b[0m\u001b[1;33m)\u001b[0m \u001b[1;33m==\u001b[0m \u001b[1;36m0\u001b[0m\u001b[1;33m:\u001b[0m\u001b[1;33m\u001b[0m\u001b[1;33m\u001b[0m\u001b[0m\n\u001b[0;32m     22\u001b[0m                 \u001b[1;32mfrom\u001b[0m \u001b[0mpandas_ml\u001b[0m\u001b[1;33m.\u001b[0m\u001b[0mconfusion_matrix\u001b[0m\u001b[1;33m.\u001b[0m\u001b[0mbcm\u001b[0m \u001b[1;32mimport\u001b[0m \u001b[0mBinaryConfusionMatrix\u001b[0m\u001b[1;33m\u001b[0m\u001b[1;33m\u001b[0m\u001b[0m\n\u001b[1;32m---> 23\u001b[1;33m                 \u001b[1;32mreturn\u001b[0m \u001b[0mBinaryConfusionMatrix\u001b[0m\u001b[1;33m(\u001b[0m\u001b[0my_true\u001b[0m\u001b[1;33m,\u001b[0m \u001b[0my_pred\u001b[0m\u001b[1;33m,\u001b[0m \u001b[1;33m*\u001b[0m\u001b[0margs\u001b[0m\u001b[1;33m,\u001b[0m \u001b[1;33m**\u001b[0m\u001b[0mkwargs\u001b[0m\u001b[1;33m)\u001b[0m\u001b[1;33m\u001b[0m\u001b[1;33m\u001b[0m\u001b[0m\n\u001b[0m\u001b[0;32m     24\u001b[0m         \u001b[1;32mreturn\u001b[0m \u001b[0mLabeledConfusionMatrix\u001b[0m\u001b[1;33m(\u001b[0m\u001b[0my_true\u001b[0m\u001b[1;33m,\u001b[0m \u001b[0my_pred\u001b[0m\u001b[1;33m,\u001b[0m \u001b[1;33m*\u001b[0m\u001b[0margs\u001b[0m\u001b[1;33m,\u001b[0m \u001b[1;33m**\u001b[0m\u001b[0mkwargs\u001b[0m\u001b[1;33m)\u001b[0m\u001b[1;33m\u001b[0m\u001b[1;33m\u001b[0m\u001b[0m\n\u001b[0;32m     25\u001b[0m \u001b[1;33m\u001b[0m\u001b[0m\n",
      "\u001b[1;32m~\\AppData\\Local\\conda\\conda\\envs\\tensorflow-gpu\\lib\\site-packages\\pandas_ml\\confusion_matrix\\bcm.py\u001b[0m in \u001b[0;36m__init__\u001b[1;34m(self, *args, **kwargs)\u001b[0m\n\u001b[0;32m     19\u001b[0m     \u001b[1;32mdef\u001b[0m \u001b[0m__init__\u001b[0m\u001b[1;33m(\u001b[0m\u001b[0mself\u001b[0m\u001b[1;33m,\u001b[0m \u001b[1;33m*\u001b[0m\u001b[0margs\u001b[0m\u001b[1;33m,\u001b[0m \u001b[1;33m**\u001b[0m\u001b[0mkwargs\u001b[0m\u001b[1;33m)\u001b[0m\u001b[1;33m:\u001b[0m\u001b[1;33m\u001b[0m\u001b[1;33m\u001b[0m\u001b[0m\n\u001b[0;32m     20\u001b[0m         \u001b[1;31m# super(BinaryConfusionMatrix, self).__init__(y_true, y_pred)\u001b[0m\u001b[1;33m\u001b[0m\u001b[1;33m\u001b[0m\u001b[1;33m\u001b[0m\u001b[0m\n\u001b[1;32m---> 21\u001b[1;33m         \u001b[0msuper\u001b[0m\u001b[1;33m(\u001b[0m\u001b[0mBinaryConfusionMatrix\u001b[0m\u001b[1;33m,\u001b[0m \u001b[0mself\u001b[0m\u001b[1;33m)\u001b[0m\u001b[1;33m.\u001b[0m\u001b[0m__init__\u001b[0m\u001b[1;33m(\u001b[0m\u001b[1;33m*\u001b[0m\u001b[0margs\u001b[0m\u001b[1;33m,\u001b[0m \u001b[1;33m**\u001b[0m\u001b[0mkwargs\u001b[0m\u001b[1;33m)\u001b[0m\u001b[1;33m\u001b[0m\u001b[1;33m\u001b[0m\u001b[0m\n\u001b[0m\u001b[0;32m     22\u001b[0m         \u001b[1;32massert\u001b[0m \u001b[0mself\u001b[0m\u001b[1;33m.\u001b[0m\u001b[0mlen\u001b[0m\u001b[1;33m(\u001b[0m\u001b[1;33m)\u001b[0m \u001b[1;33m==\u001b[0m \u001b[1;36m2\u001b[0m\u001b[1;33m,\u001b[0m\u001b[0;31m \u001b[0m\u001b[0;31m\\\u001b[0m\u001b[1;33m\u001b[0m\u001b[1;33m\u001b[0m\u001b[0m\n\u001b[0;32m     23\u001b[0m             \u001b[0;31m\"\u001b[0m\u001b[0mBinary\u001b[0m \u001b[0mconfusion\u001b[0m \u001b[0mmatrix\u001b[0m \u001b[0mmust\u001b[0m \u001b[0mhave\u001b[0m \u001b[0mlen\u001b[0m\u001b[1;33m=\u001b[0m\u001b[1;36m2\u001b[0m \u001b[0mbut\u001b[0m\u001b[0;31m \u001b[0m\u001b[0;31m\\\u001b[0m\u001b[1;33m\u001b[0m\u001b[1;33m\u001b[0m\u001b[0m\n",
      "\u001b[1;32m~\\AppData\\Local\\conda\\conda\\envs\\tensorflow-gpu\\lib\\site-packages\\pandas_ml\\confusion_matrix\\abstract.py\u001b[0m in \u001b[0;36m__init__\u001b[1;34m(self, y_true, y_pred, labels, display_sum, backend, true_name, pred_name)\u001b[0m\n\u001b[0;32m     31\u001b[0m             \u001b[0mself\u001b[0m\u001b[1;33m.\u001b[0m\u001b[0m_y_true\u001b[0m\u001b[1;33m.\u001b[0m\u001b[0mname\u001b[0m \u001b[1;33m=\u001b[0m \u001b[0mself\u001b[0m\u001b[1;33m.\u001b[0m\u001b[0mtrue_name\u001b[0m\u001b[1;33m\u001b[0m\u001b[1;33m\u001b[0m\u001b[0m\n\u001b[0;32m     32\u001b[0m         \u001b[1;32melse\u001b[0m\u001b[1;33m:\u001b[0m\u001b[1;33m\u001b[0m\u001b[1;33m\u001b[0m\u001b[0m\n\u001b[1;32m---> 33\u001b[1;33m             \u001b[0mself\u001b[0m\u001b[1;33m.\u001b[0m\u001b[0m_y_true\u001b[0m \u001b[1;33m=\u001b[0m \u001b[0mpd\u001b[0m\u001b[1;33m.\u001b[0m\u001b[0mSeries\u001b[0m\u001b[1;33m(\u001b[0m\u001b[0my_true\u001b[0m\u001b[1;33m,\u001b[0m \u001b[0mname\u001b[0m\u001b[1;33m=\u001b[0m\u001b[0mself\u001b[0m\u001b[1;33m.\u001b[0m\u001b[0mtrue_name\u001b[0m\u001b[1;33m)\u001b[0m\u001b[1;33m\u001b[0m\u001b[1;33m\u001b[0m\u001b[0m\n\u001b[0m\u001b[0;32m     34\u001b[0m \u001b[1;33m\u001b[0m\u001b[0m\n\u001b[0;32m     35\u001b[0m         \u001b[1;32mif\u001b[0m \u001b[0misinstance\u001b[0m\u001b[1;33m(\u001b[0m\u001b[0my_pred\u001b[0m\u001b[1;33m,\u001b[0m \u001b[0mpd\u001b[0m\u001b[1;33m.\u001b[0m\u001b[0mSeries\u001b[0m\u001b[1;33m)\u001b[0m\u001b[1;33m:\u001b[0m\u001b[1;33m\u001b[0m\u001b[1;33m\u001b[0m\u001b[0m\n",
      "\u001b[1;32m~\\AppData\\Local\\conda\\conda\\envs\\tensorflow-gpu\\lib\\site-packages\\pandas\\core\\series.py\u001b[0m in \u001b[0;36m__init__\u001b[1;34m(self, data, index, dtype, name, copy, fastpath)\u001b[0m\n\u001b[0;32m    273\u001b[0m             \u001b[1;32melse\u001b[0m\u001b[1;33m:\u001b[0m\u001b[1;33m\u001b[0m\u001b[1;33m\u001b[0m\u001b[0m\n\u001b[0;32m    274\u001b[0m                 data = _sanitize_array(data, index, dtype, copy,\n\u001b[1;32m--> 275\u001b[1;33m                                        raise_cast_failure=True)\n\u001b[0m\u001b[0;32m    276\u001b[0m \u001b[1;33m\u001b[0m\u001b[0m\n\u001b[0;32m    277\u001b[0m                 \u001b[0mdata\u001b[0m \u001b[1;33m=\u001b[0m \u001b[0mSingleBlockManager\u001b[0m\u001b[1;33m(\u001b[0m\u001b[0mdata\u001b[0m\u001b[1;33m,\u001b[0m \u001b[0mindex\u001b[0m\u001b[1;33m,\u001b[0m \u001b[0mfastpath\u001b[0m\u001b[1;33m=\u001b[0m\u001b[1;32mTrue\u001b[0m\u001b[1;33m)\u001b[0m\u001b[1;33m\u001b[0m\u001b[1;33m\u001b[0m\u001b[0m\n",
      "\u001b[1;32m~\\AppData\\Local\\conda\\conda\\envs\\tensorflow-gpu\\lib\\site-packages\\pandas\\core\\series.py\u001b[0m in \u001b[0;36m_sanitize_array\u001b[1;34m(data, index, dtype, copy, raise_cast_failure)\u001b[0m\n\u001b[0;32m   4163\u001b[0m     \u001b[1;32melif\u001b[0m \u001b[0msubarr\u001b[0m\u001b[1;33m.\u001b[0m\u001b[0mndim\u001b[0m \u001b[1;33m>\u001b[0m \u001b[1;36m1\u001b[0m\u001b[1;33m:\u001b[0m\u001b[1;33m\u001b[0m\u001b[1;33m\u001b[0m\u001b[0m\n\u001b[0;32m   4164\u001b[0m         \u001b[1;32mif\u001b[0m \u001b[0misinstance\u001b[0m\u001b[1;33m(\u001b[0m\u001b[0mdata\u001b[0m\u001b[1;33m,\u001b[0m \u001b[0mnp\u001b[0m\u001b[1;33m.\u001b[0m\u001b[0mndarray\u001b[0m\u001b[1;33m)\u001b[0m\u001b[1;33m:\u001b[0m\u001b[1;33m\u001b[0m\u001b[1;33m\u001b[0m\u001b[0m\n\u001b[1;32m-> 4165\u001b[1;33m             \u001b[1;32mraise\u001b[0m \u001b[0mException\u001b[0m\u001b[1;33m(\u001b[0m\u001b[1;34m'Data must be 1-dimensional'\u001b[0m\u001b[1;33m)\u001b[0m\u001b[1;33m\u001b[0m\u001b[1;33m\u001b[0m\u001b[0m\n\u001b[0m\u001b[0;32m   4166\u001b[0m         \u001b[1;32melse\u001b[0m\u001b[1;33m:\u001b[0m\u001b[1;33m\u001b[0m\u001b[1;33m\u001b[0m\u001b[0m\n\u001b[0;32m   4167\u001b[0m             \u001b[0msubarr\u001b[0m \u001b[1;33m=\u001b[0m \u001b[0mcom\u001b[0m\u001b[1;33m.\u001b[0m\u001b[0m_asarray_tuplesafe\u001b[0m\u001b[1;33m(\u001b[0m\u001b[0mdata\u001b[0m\u001b[1;33m,\u001b[0m \u001b[0mdtype\u001b[0m\u001b[1;33m=\u001b[0m\u001b[0mdtype\u001b[0m\u001b[1;33m)\u001b[0m\u001b[1;33m\u001b[0m\u001b[1;33m\u001b[0m\u001b[0m\n",
      "\u001b[1;31mException\u001b[0m: Data must be 1-dimensional"
     ]
    }
   ],
   "source": [
    "confusion_matrix = ConfusionMatrix(y_test, prec)"
   ]
  },
  {
   "cell_type": "code",
   "execution_count": null,
   "metadata": {},
   "outputs": [],
   "source": [
    "dfs[dfs['Concurso']=='Concurso 825 (05/11/2018)']"
   ]
  },
  {
   "cell_type": "code",
   "execution_count": null,
   "metadata": {},
   "outputs": [],
   "source": [
    "dfs[dfs['S']==dfs['Res']].groupby(['Concurso'])['Concurso'].value_counts()"
   ]
  },
  {
   "cell_type": "code",
   "execution_count": null,
   "metadata": {},
   "outputs": [],
   "source": [
    "# Considera os duplos e triplos\n",
    "# RC1\tRCM\tRC2\tAC1\tACM\tAC2\n",
    "dfs[((dfs['RC1']==dfs['AC1'])&(dfs['RC1']=='X')) | ((dfs['RC2']==dfs['AC2'])&(dfs['RC2']=='X')) | ((dfs['RCM']==dfs['ACM'])&(dfs['RCM']=='X'))].groupby(['Concurso'])['Concurso'].value_counts()"
   ]
  },
  {
   "cell_type": "code",
   "execution_count": null,
   "metadata": {},
   "outputs": [],
   "source": [
    "# Preço das apostas\n",
    "2**dfs[dfs['D']=='D'].groupby(['Concurso'])['Concurso'].value_counts()"
   ]
  },
  {
   "cell_type": "markdown",
   "metadata": {},
   "source": [
    "### Lista de times"
   ]
  },
  {
   "cell_type": "code",
   "execution_count": null,
   "metadata": {},
   "outputs": [],
   "source": [
    "vocab"
   ]
  },
  {
   "cell_type": "markdown",
   "metadata": {},
   "source": [
    "### Realizar previsão"
   ]
  },
  {
   "cell_type": "code",
   "execution_count": null,
   "metadata": {},
   "outputs": [],
   "source": [
    "H = 'LIVERPOOL/ING'\n",
    "A = 'TOTTENHAM/ING'\n",
    "\n",
    "prep = [prepare(H,A,1)]\n",
    "    \n",
    "prepx = np.array(prep).reshape(np.array(prep).shape[0],np.array(prep).shape[1])\n",
    "    \n",
    "p = model.predict(prepx)\n",
    "\n",
    "\n",
    "print(p)\n"
   ]
  },
  {
   "cell_type": "code",
   "execution_count": null,
   "metadata": {},
   "outputs": [],
   "source": [
    "p[0,2]"
   ]
  },
  {
   "cell_type": "code",
   "execution_count": null,
   "metadata": {},
   "outputs": [],
   "source": [
    "p.mean()"
   ]
  },
  {
   "cell_type": "code",
   "execution_count": null,
   "metadata": {},
   "outputs": [],
   "source": []
  }
 ],
 "metadata": {
  "kernelspec": {
   "display_name": "Python 3",
   "language": "python",
   "name": "python3"
  },
  "language_info": {
   "codemirror_mode": {
    "name": "ipython",
    "version": 3
   },
   "file_extension": ".py",
   "mimetype": "text/x-python",
   "name": "python",
   "nbconvert_exporter": "python",
   "pygments_lexer": "ipython3",
   "version": "3.6.7"
  }
 },
 "nbformat": 4,
 "nbformat_minor": 2
}
