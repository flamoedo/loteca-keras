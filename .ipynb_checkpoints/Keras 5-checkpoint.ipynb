{
 "cells": [
  {
   "cell_type": "markdown",
   "metadata": {},
   "source": [
    "# Loteca"
   ]
  },
  {
   "cell_type": "code",
   "execution_count": 2,
   "metadata": {},
   "outputs": [],
   "source": [
    "import keras\n",
    "import pandas as pd\n",
    "import numpy as np\n",
    "import math\n",
    "import matplotlib.pyplot as plt\n",
    "from sklearn.model_selection import train_test_split"
   ]
  },
  {
   "cell_type": "markdown",
   "metadata": {},
   "source": [
    "### Ler arquivo"
   ]
  },
  {
   "cell_type": "code",
   "execution_count": 3,
   "metadata": {},
   "outputs": [],
   "source": [
    "df = np.load('arquivo.npy')"
   ]
  },
  {
   "cell_type": "code",
   "execution_count": 4,
   "metadata": {},
   "outputs": [],
   "source": [
    "# Define o ganhador H = casa, A = Vizitante, D = empate\n",
    "for i in range(len(df)):\n",
    "    df[i,8] = 'H' if (int(df[i,2]) - int(df[i,6])) > 0 else 'A' if (int(df[i,2]) - int(df[i,6])) < 0 else 'D'"
   ]
  },
  {
   "cell_type": "code",
   "execution_count": 5,
   "metadata": {},
   "outputs": [],
   "source": [
    "# Cria um data frame para receber os valores\n",
    "df_ = pd.DataFrame(df,columns=['Concurso','Jogo','HG','Home','S','Away','AG','Dia','Res'])"
   ]
  },
  {
   "cell_type": "code",
   "execution_count": 6,
   "metadata": {},
   "outputs": [],
   "source": [
    "# Transforma as colunas de gols em inteiros\n",
    "df_ = df_.astype({\"HG\": int, \"AG\": int})"
   ]
  },
  {
   "cell_type": "code",
   "execution_count": 7,
   "metadata": {},
   "outputs": [
    {
     "data": {
      "text/html": [
       "<div>\n",
       "<style scoped>\n",
       "    .dataframe tbody tr th:only-of-type {\n",
       "        vertical-align: middle;\n",
       "    }\n",
       "\n",
       "    .dataframe tbody tr th {\n",
       "        vertical-align: top;\n",
       "    }\n",
       "\n",
       "    .dataframe thead th {\n",
       "        text-align: right;\n",
       "    }\n",
       "</style>\n",
       "<table border=\"1\" class=\"dataframe\">\n",
       "  <thead>\n",
       "    <tr style=\"text-align: right;\">\n",
       "      <th></th>\n",
       "      <th>Concurso</th>\n",
       "      <th>Jogo</th>\n",
       "      <th>HG</th>\n",
       "      <th>Home</th>\n",
       "      <th>S</th>\n",
       "      <th>Away</th>\n",
       "      <th>AG</th>\n",
       "      <th>Dia</th>\n",
       "      <th>Res</th>\n",
       "    </tr>\n",
       "  </thead>\n",
       "  <tbody>\n",
       "    <tr>\n",
       "      <th>0</th>\n",
       "      <td>Concurso 1 (18/02/2002)</td>\n",
       "      <td>1</td>\n",
       "      <td>2</td>\n",
       "      <td>FLAMENGO/RJ</td>\n",
       "      <td></td>\n",
       "      <td>S. PAULO/SP</td>\n",
       "      <td>4</td>\n",
       "      <td>Domingo</td>\n",
       "      <td>A</td>\n",
       "    </tr>\n",
       "    <tr>\n",
       "      <th>1</th>\n",
       "      <td>Concurso 1 (18/02/2002)</td>\n",
       "      <td>2</td>\n",
       "      <td>3</td>\n",
       "      <td>VASCO/RJ</td>\n",
       "      <td></td>\n",
       "      <td>AMERICANO/RJ</td>\n",
       "      <td>0</td>\n",
       "      <td>Domingo</td>\n",
       "      <td>H</td>\n",
       "    </tr>\n",
       "    <tr>\n",
       "      <th>2</th>\n",
       "      <td>Concurso 1 (18/02/2002)</td>\n",
       "      <td>3</td>\n",
       "      <td>2</td>\n",
       "      <td>SANTOS/SP</td>\n",
       "      <td></td>\n",
       "      <td>SÃO CAETANO/SP</td>\n",
       "      <td>1</td>\n",
       "      <td>Domingo</td>\n",
       "      <td>H</td>\n",
       "    </tr>\n",
       "    <tr>\n",
       "      <th>3</th>\n",
       "      <td>Concurso 1 (18/02/2002)</td>\n",
       "      <td>4</td>\n",
       "      <td>1</td>\n",
       "      <td>P. DESPORTOS/SP</td>\n",
       "      <td></td>\n",
       "      <td>CORINTHIANS/SP</td>\n",
       "      <td>4</td>\n",
       "      <td>Domingo</td>\n",
       "      <td>A</td>\n",
       "    </tr>\n",
       "    <tr>\n",
       "      <th>4</th>\n",
       "      <td>Concurso 1 (18/02/2002)</td>\n",
       "      <td>5</td>\n",
       "      <td>7</td>\n",
       "      <td>CRUZEIRO/MG</td>\n",
       "      <td></td>\n",
       "      <td>AMÉRICA/MG</td>\n",
       "      <td>0</td>\n",
       "      <td>Sábado</td>\n",
       "      <td>H</td>\n",
       "    </tr>\n",
       "  </tbody>\n",
       "</table>\n",
       "</div>"
      ],
      "text/plain": [
       "                  Concurso Jogo  HG             Home  S            Away  AG  \\\n",
       "0  Concurso 1 (18/02/2002)    1   2      FLAMENGO/RJ        S. PAULO/SP   4   \n",
       "1  Concurso 1 (18/02/2002)    2   3         VASCO/RJ       AMERICANO/RJ   0   \n",
       "2  Concurso 1 (18/02/2002)    3   2        SANTOS/SP     SÃO CAETANO/SP   1   \n",
       "3  Concurso 1 (18/02/2002)    4   1  P. DESPORTOS/SP     CORINTHIANS/SP   4   \n",
       "4  Concurso 1 (18/02/2002)    5   7      CRUZEIRO/MG         AMÉRICA/MG   0   \n",
       "\n",
       "        Dia Res  \n",
       "0  Domingo    A  \n",
       "1  Domingo    H  \n",
       "2  Domingo    H  \n",
       "3  Domingo    A  \n",
       "4   Sábado    H  "
      ]
     },
     "execution_count": 7,
     "metadata": {},
     "output_type": "execute_result"
    }
   ],
   "source": [
    "df_.head()"
   ]
  },
  {
   "cell_type": "markdown",
   "metadata": {},
   "source": [
    "### Frequencia de vitórias em casa (H), empates (D) e visitantes (A)"
   ]
  },
  {
   "cell_type": "code",
   "execution_count": 8,
   "metadata": {},
   "outputs": [
    {
     "data": {
      "text/plain": [
       "<BarContainer object of 3 artists>"
      ]
     },
     "execution_count": 8,
     "metadata": {},
     "output_type": "execute_result"
    },
    {
     "data": {
      "image/png": "[encoded data removed]",
      "text/plain": [
       "<Figure size 432x288 with 1 Axes>"
      ]
     },
     "metadata": {
      "needs_background": "light"
     },
     "output_type": "display_data"
    }
   ],
   "source": [
    "plt.bar(df_['Res'].value_counts().keys(),df_['Res'].value_counts())"
   ]
  },
  {
   "cell_type": "markdown",
   "metadata": {},
   "source": [
    "### Média de gols dos últimos jogos"
   ]
  },
  {
   "cell_type": "code",
   "execution_count": 9,
   "metadata": {},
   "outputs": [],
   "source": [
    "# Calcula a soma de gols feitos das ultimas n (window) partidas\n",
    "def get_rolling_mean(dataFrame, equip, pos, window, HG_AG):   \n",
    "    HA = 'Home' if HG_AG == 'HG' else 'Away' if HG_AG == 'AG' else ''\n",
    "    s = dataFrame[-pos-window:-window][dataFrame[HA] == equip][HG_AG].mean()\n",
    "    return s if not(np.isnan(s)) else 0\n",
    "\n",
    "# Calcula a soma de gols recebidos das ultimas n (window) partidas\n",
    "def get_rolling_received(dataFrame, equip, pos, window, HG_AG):   \n",
    "    HA = 'Home' if HG_AG == 'HG' else 'Away' if HG_AG == 'AG' else ''\n",
    "    HG_AG_ = 'HG' if HG_AG == 'AG' else 'AG' if HG_AG == 'HG' else ''\n",
    "    s = dataFrame[-pos-window:-window][dataFrame[HA] == equip][HG_AG_].mean()\n",
    "    return s if not(np.isnan(s)) else 0\n",
    "\n",
    "    "
   ]
  },
  {
   "cell_type": "markdown",
   "metadata": {},
   "source": [
    "### Nomes dos times"
   ]
  },
  {
   "cell_type": "code",
   "execution_count": 10,
   "metadata": {},
   "outputs": [],
   "source": [
    "# Cria uma lista de nomes dos times\n",
    "vocab = np.unique(np.concatenate((np.array(df_['Home'].unique()), np.array(df_['Away'].unique()))))"
   ]
  },
  {
   "cell_type": "markdown",
   "metadata": {},
   "source": [
    "### Nomes dos times"
   ]
  },
  {
   "cell_type": "code",
   "execution_count": 11,
   "metadata": {},
   "outputs": [],
   "source": [
    "vocab = np.unique(np.concatenate((np.array(df_['Home'].unique()), np.array(df_['Away'].unique()))))"
   ]
  },
  {
   "cell_type": "code",
   "execution_count": 12,
   "metadata": {},
   "outputs": [],
   "source": [
    "# Cria o indice de times\n",
    "word2idx = {word: i for i, word in enumerate(vocab)}"
   ]
  },
  {
   "cell_type": "code",
   "execution_count": 13,
   "metadata": {},
   "outputs": [],
   "source": [
    "# Retorna o indice de um time:\n",
    "def word2vector(word):\n",
    "    m = np.zeros(len(word2idx))\n",
    "    idx = word2idx.get(word)\n",
    "    if idx == '':\n",
    "        raise ValueError('Time não encontrado no indice: ' + word)\n",
    "\n",
    "    m[word2idx.get(word)] = 1\n",
    "    return m.tolist()"
   ]
  },
  {
   "cell_type": "code",
   "execution_count": 18,
   "metadata": {},
   "outputs": [],
   "source": [
    "# Transforma os dois times em um vetor com o flag do time correspondente e a média de gols\n",
    "def prepare(H,A,pos):\n",
    "    \n",
    "    vector = []\n",
    "    \n",
    "    for x in word2vector(H):\n",
    "        if math.isnan(x):\n",
    "            raise ValueError('Time não encontrado no indice: ' + H)\n",
    "\n",
    "        vector.append(x)\n",
    "        \n",
    "    for x in word2vector(A):\n",
    "        if math.isnan(x):\n",
    "            raise ValueError('Time não encontrado no indice: ' + A)\n",
    "            \n",
    "        vector.append(x)\n",
    "        \n",
    "\n",
    "    \n",
    "#     vector.append(get_rolling_mean(df_, H, pos, 20, 'HG'))\n",
    "#     vector.append(get_rolling_mean(df_, A, pos, 20, 'AG'))\n",
    "    \n",
    "#     vector.append(get_rolling_received(df_, H, pos, 10, 'HG'))\n",
    "#     vector.append(get_rolling_received(df_, A, pos, 10, 'AG'))\n",
    "\n",
    "    \n",
    "\n",
    "    return vector"
   ]
  },
  {
   "cell_type": "markdown",
   "metadata": {},
   "source": [
    "### Indexar os resultados"
   ]
  },
  {
   "cell_type": "code",
   "execution_count": 19,
   "metadata": {},
   "outputs": [],
   "source": [
    "X = []\n",
    "y = []\n",
    "\n",
    "for ind_, row in df_.iterrows():\n",
    "    \n",
    "    s = []\n",
    "    \n",
    "    r = prepare(row['Home'], row['Away'], ind_)\n",
    "    \n",
    "    s.append(row['Concurso'])\n",
    "    \n",
    "    for r_ in r:\n",
    "           s.append(r_)\n",
    "            \n",
    "    X.append(s)        \n",
    "    \n",
    "    ry = [1,0,0] if int(row['HG']) > int(row['AG']) else \\\n",
    "    [0,1,0] if int(row['HG']) == int(row['AG']) else \\\n",
    "    [0,0,1] if int(row['HG']) < int(row['AG']) else [0,0,0]\n",
    "\n",
    "    y.append(ry)\n",
    "\n",
    "y = np.array(y).reshape(np.array(y).shape[0],3)\n",
    "\n",
    "X = np.array(X)\n",
    "\n",
    "# Normalizar gols\n",
    "# X[:,-4:-3] = X[:,-4:-3]/X[:,-4:-3].max()\n",
    "# X[:,-3:-2] = X[:,-3:-2]/X[:,-3:-2].max()\n",
    "# X[:,-2] = X[:,-2]/X[:,-2].max()\n",
    "# X[:,-1] = X[:,-1]/X[:,-1].max()\n",
    "\n"
   ]
  },
  {
   "cell_type": "code",
   "execution_count": 32,
   "metadata": {},
   "outputs": [
    {
     "data": {
      "text/plain": [
       "array([['Concurso 1 (18/02/2002)', '0.0', '0.0', ..., '0.0', '0.0',\n",
       "        '0.0'],\n",
       "       ['Concurso 1 (18/02/2002)', '0.0', '0.0', ..., '0.0', '0.0',\n",
       "        '0.0'],\n",
       "       ['Concurso 1 (18/02/2002)', '0.0', '0.0', ..., '0.0', '0.0',\n",
       "        '0.0'],\n",
       "       ...,\n",
       "       ['Concurso 826 (12/11/2018)', '0.0', '0.0', ..., '0.0', '0.0',\n",
       "        '0.0'],\n",
       "       ['Concurso 826 (12/11/2018)', '0.0', '0.0', ..., '0.0', '0.0',\n",
       "        '0.0'],\n",
       "       ['Concurso 826 (12/11/2018)', '0.0', '0.0', ..., '0.0', '0.0',\n",
       "        '0.0']], dtype='<U25')"
      ]
     },
     "execution_count": 32,
     "metadata": {},
     "output_type": "execute_result"
    }
   ],
   "source": [
    "X"
   ]
  },
  {
   "cell_type": "markdown",
   "metadata": {},
   "source": [
    "### Modelo"
   ]
  },
  {
   "cell_type": "code",
   "execution_count": 33,
   "metadata": {},
   "outputs": [],
   "source": [
    "from keras.models import Sequential\n",
    "from keras.layers import Dense, Activation, Flatten, Dropout\n",
    "\n",
    "model = Sequential()\n",
    "model.add(Dense(124, input_shape=(np.array(X)[:,1:].shape[1],), activation='relu'))\n",
    "model.add(Dropout(0.2))\n",
    "model.add(Dense(62, activation='relu'))\n",
    "model.add(Dropout(0.2))\n",
    "model.add(Dense(62, activation='relu'))\n",
    "model.add(Dropout(0.2))\n",
    "model.add(Dense(10, activation='relu'))\n",
    "# model.add(Dropout(0.5))\n",
    "# model.add(Flatten())\n",
    "model.add(Dense(3))\n",
    "model.add(Activation('sigmoid'))"
   ]
  },
  {
   "cell_type": "code",
   "execution_count": 34,
   "metadata": {},
   "outputs": [],
   "source": [
    "model.compile(optimizer='adam',\n",
    "              loss='binary_crossentropy',\n",
    "              metrics=['accuracy'])\n"
   ]
  },
  {
   "cell_type": "markdown",
   "metadata": {},
   "source": [
    "### Separar os datasets de treinamento e teste"
   ]
  },
  {
   "cell_type": "code",
   "execution_count": 20,
   "metadata": {},
   "outputs": [],
   "source": [
    "# X_train, X_test, y_train, y_test = train_test_split(X, y, test_size=0.33, shuffle=True)"
   ]
  },
  {
   "cell_type": "code",
   "execution_count": 23,
   "metadata": {},
   "outputs": [],
   "source": [
    "split = 80"
   ]
  },
  {
   "cell_type": "code",
   "execution_count": 24,
   "metadata": {},
   "outputs": [],
   "source": [
    "X_train, y_train, X_test, y_test = X[:-int(X.shape[0]/split)], y[:-int(y.shape[0]/split)], X[-int(X.shape[0]/split):], y[-int(y.shape[0]/split):],"
   ]
  },
  {
   "cell_type": "code",
   "execution_count": 30,
   "metadata": {},
   "outputs": [
    {
     "data": {
      "text/plain": [
       "array([['Concurso 1 (18/02/2002)', '0.0', '0.0', ..., '0.0', '0.0',\n",
       "        '0.0'],\n",
       "       ['Concurso 1 (18/02/2002)', '0.0', '0.0', ..., '0.0', '0.0',\n",
       "        '0.0'],\n",
       "       ['Concurso 1 (18/02/2002)', '0.0', '0.0', ..., '0.0', '0.0',\n",
       "        '0.0'],\n",
       "       ...,\n",
       "       ['Concurso 816 (03/09/2018)', '0.0', '0.0', ..., '0.0', '0.0',\n",
       "        '0.0'],\n",
       "       ['Concurso 816 (03/09/2018)', '0.0', '0.0', ..., '0.0', '0.0',\n",
       "        '0.0'],\n",
       "       ['Concurso 816 (03/09/2018)', '0.0', '0.0', ..., '0.0', '0.0',\n",
       "        '0.0']], dtype='<U25')"
      ]
     },
     "execution_count": 30,
     "metadata": {},
     "output_type": "execute_result"
    }
   ],
   "source": [
    "X_train"
   ]
  },
  {
   "cell_type": "code",
   "execution_count": 27,
   "metadata": {},
   "outputs": [
    {
     "data": {
      "text/plain": [
       "144"
      ]
     },
     "execution_count": 27,
     "metadata": {},
     "output_type": "execute_result"
    }
   ],
   "source": [
    "len(y_test)"
   ]
  },
  {
   "cell_type": "code",
   "execution_count": 25,
   "metadata": {},
   "outputs": [],
   "source": [
    "# Cria uma matriz de pesos da massa de treino\n",
    "weights = []\n",
    "weights = np.zeros(y_train.shape[0])"
   ]
  },
  {
   "cell_type": "code",
   "execution_count": 26,
   "metadata": {},
   "outputs": [],
   "source": [
    "# split = 40\n",
    "# X_train, y_train, X_test, y_test = X[:-int(np.array(X).shape[0]/split)], y[:-int(np.array(y).shape[0]/split)], X[-int(np.array(X).shape[0]/split):], y[-int(np.array(y).shape[0]/split):]"
   ]
  },
  {
   "cell_type": "markdown",
   "metadata": {},
   "source": [
    "### Treinar o modelo"
   ]
  },
  {
   "cell_type": "code",
   "execution_count": null,
   "metadata": {
    "scrolled": true
   },
   "outputs": [
    {
     "name": "stdout",
     "output_type": "stream",
     "text": [
      "Epoch 1/500\n",
      " 7500/11416 [==================>...........] - ETA: 10s - loss: 0.6799 - acc: 0.6388"
     ]
    }
   ],
   "source": [
    "model.fit(X_train[:,1:], y_train, epochs=500, batch_size=500)"
   ]
  },
  {
   "cell_type": "code",
   "execution_count": 19,
   "metadata": {},
   "outputs": [
    {
     "name": "stdout",
     "output_type": "stream",
     "text": [
      "289/289 [==============================] - 0s 513us/step\n"
     ]
    },
    {
     "data": {
      "text/plain": [
       "[2.049778726274167, 0.6274509936261754]"
      ]
     },
     "execution_count": 19,
     "metadata": {},
     "output_type": "execute_result"
    }
   ],
   "source": [
    "model.evaluate(X_test[:,1:], y_test, verbose=1)"
   ]
  },
  {
   "cell_type": "markdown",
   "metadata": {},
   "source": [
    "### Avaliar precisão"
   ]
  },
  {
   "cell_type": "code",
   "execution_count": 112,
   "metadata": {
    "scrolled": true
   },
   "outputs": [
    {
     "name": "stdout",
     "output_type": "stream",
     "text": [
      "40.0 %\n"
     ]
    }
   ],
   "source": [
    "prec = []\n",
    "\n",
    "dl = []\n",
    "\n",
    "i=0\n",
    "for row in X_test:   \n",
    "   \n",
    "    p = model.predict([[row[1:]]])    \n",
    "        \n",
    "    px = [1,0,0] if p[0,0] == p.max() else [0,0,1] if p[0,2] == p.max() else [0,1,0] if p[0,1] == p.max() else [0,0,0]\n",
    "    \n",
    "    prec.append(1 if np.all(px == y_test[i]) else 0)    \n",
    "    \n",
    "    dr = []\n",
    "    \n",
    "    dr.append(row[0])\n",
    "    \n",
    "    px_ = 'H' if p[0,0] == p.max() else 'A' if p[0,2] == p.max() else 'D' if p[0,1] == p.max() else ''\n",
    "    \n",
    "    dr.append(px_)\n",
    "        \n",
    "    y_ = 'H' if y_test[i,0] == 1 else 'A' if y_test[i,2] == 1 else 'D' if y_test[i,1] == 1 else ''\n",
    "    \n",
    "    dr.append(y_)\n",
    "        \n",
    "    i += 1    \n",
    "        \n",
    "    dl.append(dr)\n",
    "    \n",
    "dfs = pd.DataFrame(dl,columns=['Concurso','Prev','Res'])\n",
    "\n",
    "print(round((abs(np.mean(prec))) * 100,0), '%')\n",
    "    "
   ]
  },
  {
   "cell_type": "code",
   "execution_count": 113,
   "metadata": {},
   "outputs": [
    {
     "data": {
      "text/html": [
       "<div>\n",
       "<style scoped>\n",
       "    .dataframe tbody tr th:only-of-type {\n",
       "        vertical-align: middle;\n",
       "    }\n",
       "\n",
       "    .dataframe tbody tr th {\n",
       "        vertical-align: top;\n",
       "    }\n",
       "\n",
       "    .dataframe thead th {\n",
       "        text-align: right;\n",
       "    }\n",
       "</style>\n",
       "<table border=\"1\" class=\"dataframe\">\n",
       "  <thead>\n",
       "    <tr style=\"text-align: right;\">\n",
       "      <th></th>\n",
       "      <th>Concurso</th>\n",
       "      <th>Prev</th>\n",
       "      <th>Res</th>\n",
       "    </tr>\n",
       "  </thead>\n",
       "  <tbody>\n",
       "    <tr>\n",
       "      <th>0</th>\n",
       "      <td>Concurso 806 (28/06/2018)</td>\n",
       "      <td>A</td>\n",
       "      <td>A</td>\n",
       "    </tr>\n",
       "    <tr>\n",
       "      <th>1</th>\n",
       "      <td>Concurso 806 (28/06/2018)</td>\n",
       "      <td>A</td>\n",
       "      <td>H</td>\n",
       "    </tr>\n",
       "    <tr>\n",
       "      <th>2</th>\n",
       "      <td>Concurso 806 (28/06/2018)</td>\n",
       "      <td>A</td>\n",
       "      <td>A</td>\n",
       "    </tr>\n",
       "    <tr>\n",
       "      <th>3</th>\n",
       "      <td>Concurso 806 (28/06/2018)</td>\n",
       "      <td>A</td>\n",
       "      <td>A</td>\n",
       "    </tr>\n",
       "    <tr>\n",
       "      <th>4</th>\n",
       "      <td>Concurso 806 (28/06/2018)</td>\n",
       "      <td>A</td>\n",
       "      <td>D</td>\n",
       "    </tr>\n",
       "  </tbody>\n",
       "</table>\n",
       "</div>"
      ],
      "text/plain": [
       "                    Concurso Prev Res\n",
       "0  Concurso 806 (28/06/2018)    A   A\n",
       "1  Concurso 806 (28/06/2018)    A   H\n",
       "2  Concurso 806 (28/06/2018)    A   A\n",
       "3  Concurso 806 (28/06/2018)    A   A\n",
       "4  Concurso 806 (28/06/2018)    A   D"
      ]
     },
     "execution_count": 113,
     "metadata": {},
     "output_type": "execute_result"
    }
   ],
   "source": [
    "dfs.head()"
   ]
  },
  {
   "cell_type": "code",
   "execution_count": 120,
   "metadata": {},
   "outputs": [
    {
     "data": {
      "text/plain": [
       "Concurso                   Concurso                 \n",
       "Concurso 806 (28/06/2018)  Concurso 806 (28/06/2018)    4\n",
       "Concurso 807 (02/07/2018)  Concurso 807 (02/07/2018)    3\n",
       "Concurso 808 (09/07/2018)  Concurso 808 (09/07/2018)    7\n",
       "Concurso 809 (16/07/2018)  Concurso 809 (16/07/2018)    5\n",
       "Concurso 810 (23/07/2018)  Concurso 810 (23/07/2018)    7\n",
       "Concurso 811 (30/07/2018)  Concurso 811 (30/07/2018)    8\n",
       "Concurso 812 (06/08/2018)  Concurso 812 (06/08/2018)    4\n",
       "Concurso 813 (13/08/2018)  Concurso 813 (13/08/2018)    6\n",
       "Concurso 814 (20/08/2018)  Concurso 814 (20/08/2018)    6\n",
       "Concurso 815 (27/08/2018)  Concurso 815 (27/08/2018)    5\n",
       "Concurso 816 (03/09/2018)  Concurso 816 (03/09/2018)    5\n",
       "Concurso 817 (10/09/2018)  Concurso 817 (10/09/2018)    7\n",
       "Concurso 818 (17/09/2018)  Concurso 818 (17/09/2018)    5\n",
       "Concurso 819 (25/09/2018)  Concurso 819 (25/09/2018)    7\n",
       "Concurso 820 (01/10/2018)  Concurso 820 (01/10/2018)    7\n",
       "Concurso 821 (08/10/2018)  Concurso 821 (08/10/2018)    4\n",
       "Concurso 822 (15/10/2018)  Concurso 822 (15/10/2018)    7\n",
       "Concurso 823 (22/10/2018)  Concurso 823 (22/10/2018)    6\n",
       "Concurso 824 (29/10/2018)  Concurso 824 (29/10/2018)    6\n",
       "Concurso 825 (05/11/2018)  Concurso 825 (05/11/2018)    6\n",
       "Concurso 826 (12/11/2018)  Concurso 826 (12/11/2018)    2\n",
       "Name: Concurso, dtype: int64"
      ]
     },
     "execution_count": 120,
     "metadata": {},
     "output_type": "execute_result"
    }
   ],
   "source": [
    "dfs[dfs['Prev']==dfs['Res']].groupby(['Concurso'])['Concurso'].value_counts()"
   ]
  },
  {
   "cell_type": "markdown",
   "metadata": {},
   "source": [
    "### Lista de times"
   ]
  },
  {
   "cell_type": "code",
   "execution_count": 150,
   "metadata": {},
   "outputs": [
    {
     "data": {
      "text/plain": [
       "914"
      ]
     },
     "execution_count": 150,
     "metadata": {},
     "output_type": "execute_result"
    }
   ],
   "source": [
    "len(vocab)"
   ]
  },
  {
   "cell_type": "code",
   "execution_count": 121,
   "metadata": {},
   "outputs": [
    {
     "data": {
      "text/plain": [
       "Concurso                   Concurso                 \n",
       "Concurso 806 (28/06/2018)  Concurso 806 (28/06/2018)     2\n",
       "Concurso 807 (02/07/2018)  Concurso 807 (02/07/2018)     4\n",
       "Concurso 809 (16/07/2018)  Concurso 809 (16/07/2018)     4\n",
       "Concurso 810 (23/07/2018)  Concurso 810 (23/07/2018)     4\n",
       "Concurso 811 (30/07/2018)  Concurso 811 (30/07/2018)    16\n",
       "Concurso 812 (06/08/2018)  Concurso 812 (06/08/2018)     4\n",
       "Concurso 813 (13/08/2018)  Concurso 813 (13/08/2018)     4\n",
       "Concurso 814 (20/08/2018)  Concurso 814 (20/08/2018)    16\n",
       "Concurso 815 (27/08/2018)  Concurso 815 (27/08/2018)    16\n",
       "Concurso 816 (03/09/2018)  Concurso 816 (03/09/2018)    32\n",
       "Concurso 817 (10/09/2018)  Concurso 817 (10/09/2018)    16\n",
       "Concurso 818 (17/09/2018)  Concurso 818 (17/09/2018)     4\n",
       "Concurso 819 (25/09/2018)  Concurso 819 (25/09/2018)     4\n",
       "Concurso 820 (01/10/2018)  Concurso 820 (01/10/2018)     4\n",
       "Concurso 821 (08/10/2018)  Concurso 821 (08/10/2018)     8\n",
       "Concurso 822 (15/10/2018)  Concurso 822 (15/10/2018)     8\n",
       "Concurso 823 (22/10/2018)  Concurso 823 (22/10/2018)     4\n",
       "Concurso 824 (29/10/2018)  Concurso 824 (29/10/2018)    16\n",
       "Concurso 825 (05/11/2018)  Concurso 825 (05/11/2018)     8\n",
       "Concurso 826 (12/11/2018)  Concurso 826 (12/11/2018)    16\n",
       "Name: Concurso, dtype: int64"
      ]
     },
     "execution_count": 33,
     "metadata": {},
     "output_type": "execute_result"
    }
   ],
   "source": [
    "jogos = [['CRUZEIRO/MG'\t\t\t,'FLAMENGO/RJ'\t\t],\t\n",
    "['INTERNACIONAL/RS'\t\t,'FLUMINENSE/RJ'    ],\n",
    "['CORINTHIANS/SP'\t\t,'CHAPECOENSE/SC'   ],\n",
    "['RIVER PLATE/ARG'\t\t,'BOCA JUNIORS/ARG' ],\n",
    "['CRICIÚMA/SC'\t\t   ,'SAMPAIO CORRÊA/MA' ],\n",
    "['GUARANI/SP'\t\t   ,'LONDRINA/PR'       ],\n",
    "['PAYSANDU/PA'\t\t   ,'ATLÉTICO/GO'\t\t],\n",
    "['CRB/AL'\t\t\t   ,'FIGUEIRENSE/SC'    ],\n",
    "['SANTOS/SP'\t\t   ,'ATLÉTICO/MG'       ],\n",
    "['ATLÉTICO/PR'\t\t   ,'CEARÁ/CE'          ],\n",
    "['VASCO DA GAMA/RJ'\t\t,'PALMEIRAS/SP'     ],\n",
    "['VITÓRIA/BA'\t\t   ,'GRÊMIO/RS'         ],\n",
    "['AMÉRICA/MG'\t\t   ,'BAHIA/BA'\t\t\t],\n",
    "['BOTAFOGO/RJ'\t\t\t,'PARANÁ/PR'\t\t]]\n",
    "\n"
   ]
  },
  {
   "cell_type": "code",
   "execution_count": 142,
   "metadata": {},
   "outputs": [
    {
     "data": {
      "text/plain": [
       "[['CRUZEIRO/MG', 'FLAMENGO/RJ'],\n",
       " ['INTERNACIONAL/RS', 'FLUMINENSE/RJ'],\n",
       " ['CORINTHIANS/SP', 'CHAPECOENSE/SC'],\n",
       " ['RIVER PLATE/ARG', 'BOCA JUNIORS/ARG'],\n",
       " ['CRICIÚMA/SC', 'SAMPAIO CORRÊA/MA'],\n",
       " ['GUARANI/SP', 'LONDRINA/PR'],\n",
       " ['PAYSANDU/PA', 'ATLÉTICO/GO'],\n",
       " ['CRB/AL', 'FIGUEIRENSE/SC'],\n",
       " ['SANTOS/SP', 'ATLÉTICO/MG'],\n",
       " ['ATLÉTICO/PR', 'CEARÁ/CE'],\n",
       " ['VASCO DA GAMA/RJ', 'PALMEIRAS/SP'],\n",
       " ['VITÓRIA/BA', 'GRÊMIO/RS'],\n",
       " ['AMÉRICA/MG', 'BAHIA/BA'],\n",
       " ['BOTAFOGO/RJ', 'PARANÁ/PR']]"
      ]
     },
     "execution_count": 142,
     "metadata": {},
     "output_type": "execute_result"
    }
   ],
   "source": [
    "jogos"
   ]
  },
  {
   "cell_type": "code",
   "execution_count": 149,
   "metadata": {},
   "outputs": [
    {
     "name": "stdout",
     "output_type": "stream",
     "text": [
      "[[0.82 0.16 0.01]\n",
      " [0.37 0.34 0.28]\n",
      " [0.49 0.48 0.02]\n",
      " [1.   0.   0.  ]\n",
      " [0.84 0.   0.15]\n",
      " [0.48 0.   0.6 ]\n",
      " [0.   1.   0.  ]\n",
      " [0.18 0.09 0.73]\n",
      " [0.61 0.18 0.21]\n",
      " [0.99 0.01 0.  ]\n",
      " [0.34 0.39 0.28]\n",
      " [0.6  0.23 0.19]\n",
      " [0.51 0.45 0.01]\n",
      " [0.93 0.06 0.  ]]\n"
     ]
    }
   ],
   "source": [
    "jogos_ = []\n",
    "\n",
    "for jog in jogos:\n",
    "    jogos_.append(prepare(jog[0],jog[1],1))\n",
    "    \n",
    "p = model.predict(np.array(jogos_))\n",
    "\n",
    "print(p.round(2))"
   ]
  },
  {
   "cell_type": "markdown",
   "metadata": {},
   "source": [
    "### Realizar previsão"
   ]
  },
  {
   "cell_type": "code",
   "execution_count": 147,
   "metadata": {},
   "outputs": [
    {
     "name": "stdout",
     "output_type": "stream",
     "text": [
      "[[ 82.        16.         1.      ]\n",
      " [ 37.        34.        28.      ]\n",
      " [ 49.        48.         2.      ]\n",
      " [100.         0.         0.      ]\n",
      " [ 84.         0.        15.000001]\n",
      " [ 48.         0.        60.000004]\n",
      " [  0.       100.         0.      ]\n",
      " [ 18.         9.        73.      ]\n",
      " [ 61.        18.        21.      ]\n",
      " [ 99.         1.         0.      ]\n",
      " [ 34.        39.        28.      ]\n",
      " [ 60.000004  23.        19.      ]\n",
      " [ 51.        45.         1.      ]\n",
      " [ 93.         6.         0.      ]]\n"
     ]
    }
   ],
   "source": [
    "# H = 'LIVERPOOL/ING'\n",
    "# A = 'TOTTENHAM/ING'\n",
    "\n",
    "# prep = [prepare(H,A,1)]\n",
    "    \n",
    "# prepx = np.array(prep).reshape(np.array(prep).shape[0],np.array(prep).shape[1])\n",
    "    \n",
    "p = model.predict(np.array(jogos_))\n",
    "\n",
    "\n",
    "print(p.round(2) * 100)\n"
   ]
  },
  {
   "cell_type": "code",
   "execution_count": null,
   "metadata": {},
   "outputs": [],
   "source": []
  }
 ],
 "metadata": {
  "kernelspec": {
   "display_name": "Python 3",
   "language": "python",
   "name": "python3"
  },
  "language_info": {
   "codemirror_mode": {
    "name": "ipython",
    "version": 3
   },
   "file_extension": ".py",
   "mimetype": "text/x-python",
   "name": "python",
   "nbconvert_exporter": "python",
   "pygments_lexer": "ipython3",
   "version": "3.6.7"
  }
 },
 "nbformat": 4,
 "nbformat_minor": 2
}
