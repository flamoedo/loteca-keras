{
 "cells": [
  {
   "cell_type": "markdown",
   "metadata": {},
   "source": [
    "# Loteca"
   ]
  },
  {
   "cell_type": "code",
   "execution_count": 77,
   "metadata": {},
   "outputs": [],
   "source": [
    "import keras\n",
    "import pandas as pd\n",
    "import numpy as np\n",
    "import math\n",
    "import matplotlib.pyplot as plt\n",
    "# from sklearn.model_selection import train_test_split"
   ]
  },
  {
   "cell_type": "markdown",
   "metadata": {},
   "source": [
    "### Ler arquivo"
   ]
  },
  {
   "cell_type": "code",
   "execution_count": 78,
   "metadata": {},
   "outputs": [],
   "source": [
    "# df = np.load('arquivo.npy')"
   ]
  },
  {
   "cell_type": "code",
   "execution_count": 79,
   "metadata": {},
   "outputs": [],
   "source": [
    "# Define o ganhador H = casa, A = Vizitante, D = empate\n",
    "# for i in range(len(df)):\n",
    "#     df[i,8] = 'H' if (int(df[i,2]) - int(df[i,6])) > 0 else 'A' if (int(df[i,2]) - int(df[i,6])) < 0 else 'D'"
   ]
  },
  {
   "cell_type": "code",
   "execution_count": 80,
   "metadata": {},
   "outputs": [],
   "source": [
    "# Cria um data frame para receber os valores\n",
    "# df_ = pd.DataFrame(df,columns=['Concurso','Jogo','HG','Home','S','Away','AG','Dia','Res'])"
   ]
  },
  {
   "cell_type": "code",
   "execution_count": 81,
   "metadata": {},
   "outputs": [],
   "source": [
    "# Transforma as colunas de gols em inteiros\n",
    "# df_ = df_.astype({\"HG\": int, \"AG\": int})"
   ]
  },
  {
   "cell_type": "code",
   "execution_count": 82,
   "metadata": {},
   "outputs": [],
   "source": [
    "# df_.head()"
   ]
  },
  {
   "cell_type": "markdown",
   "metadata": {},
   "source": [
    "### Frequencia de vitórias em casa (H), empates (D) e visitantes (A)"
   ]
  },
  {
   "cell_type": "code",
   "execution_count": 83,
   "metadata": {},
   "outputs": [],
   "source": [
    "# plt.bar(df_['Res'].value_counts().keys(),df_['Res'].value_counts())"
   ]
  },
  {
   "cell_type": "markdown",
   "metadata": {},
   "source": [
    "### Média de gols dos últimos jogos"
   ]
  },
  {
   "cell_type": "code",
   "execution_count": 84,
   "metadata": {},
   "outputs": [],
   "source": [
    "# Calcula a soma de gols feitos das ultimas n (window) partidas\n",
    "# def get_rolling_goals(dataFrame, equip, pos, window, HG_AG):   \n",
    "#     HA = 'Home' if HG_AG == 'HG' else 'Away' if HG_AG == 'AG' else ''\n",
    "#     s = dataFrame[:pos][dataFrame[HA] == equip][HG_AG][-window:].sum()\n",
    "#     return s if not(np.isnan(s)) else 0\n",
    "\n",
    "# Calcula a soma de gols recebidos das ultimas n (window) partidas\n",
    "# def get_rolling_received(dataFrame, equip, pos, window, HG_AG):   \n",
    "#     HA = 'Home' if HG_AG == 'HG' else 'Away' if HG_AG == 'AG' else ''\n",
    "#     HG_AG_ = 'HG' if HG_AG == 'AG' else 'AG' if HG_AG == 'HG' else ''\n",
    "#     s = dataFrame[:pos][dataFrame[HA] == equip][HG_AG_][-window:].sum()\n",
    "#     return s if not(np.isnan(s)) else 0\n",
    "\n",
    "    "
   ]
  },
  {
   "cell_type": "code",
   "execution_count": 85,
   "metadata": {},
   "outputs": [],
   "source": [
    "# dfg = []\n",
    "# for idx, row in df_.iterrows():\n",
    "#     row['H_Goals_Scored'] = get_rolling_goals(df_, row['Home'], idx, 20, 'HG')\n",
    "#     row['A_Goals_Scored'] = get_rolling_goals(df_, row['Away'], idx, 20, 'AG')\n",
    "#     row['H_Goals_Against'] = get_rolling_received(df_, row['Home'], idx, 20, 'HG')\n",
    "#     row['A_Goals_Against'] = get_rolling_received(df_, row['Away'], idx, 20, 'AG')\n",
    "#     dfg.append(row)\n",
    "    \n",
    "    \n",
    "    \n",
    "    "
   ]
  },
  {
   "cell_type": "code",
   "execution_count": 86,
   "metadata": {},
   "outputs": [],
   "source": [
    "# dfgs = pd.DataFrame(dfg)"
   ]
  },
  {
   "cell_type": "code",
   "execution_count": 87,
   "metadata": {},
   "outputs": [],
   "source": [
    "# dfgs[dfgs['Concurso']=='Concurso 800 (21/05/2018)']"
   ]
  },
  {
   "cell_type": "code",
   "execution_count": 88,
   "metadata": {},
   "outputs": [],
   "source": [
    "# dfgs.to_csv('arquivo_loteca1.csv')"
   ]
  },
  {
   "cell_type": "code",
   "execution_count": 89,
   "metadata": {},
   "outputs": [],
   "source": [
    "df_ = pd.read_csv('arquivo_loteca1.csv')"
   ]
  },
  {
   "cell_type": "code",
   "execution_count": 90,
   "metadata": {},
   "outputs": [
    {
     "data": {
      "text/html": [
       "<div>\n",
       "<style scoped>\n",
       "    .dataframe tbody tr th:only-of-type {\n",
       "        vertical-align: middle;\n",
       "    }\n",
       "\n",
       "    .dataframe tbody tr th {\n",
       "        vertical-align: top;\n",
       "    }\n",
       "\n",
       "    .dataframe thead th {\n",
       "        text-align: right;\n",
       "    }\n",
       "</style>\n",
       "<table border=\"1\" class=\"dataframe\">\n",
       "  <thead>\n",
       "    <tr style=\"text-align: right;\">\n",
       "      <th></th>\n",
       "      <th>Unnamed: 0</th>\n",
       "      <th>Concurso</th>\n",
       "      <th>Jogo</th>\n",
       "      <th>HG</th>\n",
       "      <th>Home</th>\n",
       "      <th>S</th>\n",
       "      <th>Away</th>\n",
       "      <th>AG</th>\n",
       "      <th>Dia</th>\n",
       "      <th>Res</th>\n",
       "      <th>H_Goals_Scored</th>\n",
       "      <th>A_Goals_Scored</th>\n",
       "      <th>H_Goals_Against</th>\n",
       "      <th>A_Goals_Against</th>\n",
       "    </tr>\n",
       "  </thead>\n",
       "  <tbody>\n",
       "    <tr>\n",
       "      <th>0</th>\n",
       "      <td>0</td>\n",
       "      <td>Concurso 1 (18/02/2002)</td>\n",
       "      <td>1</td>\n",
       "      <td>2</td>\n",
       "      <td>FLAMENGO/RJ</td>\n",
       "      <td></td>\n",
       "      <td>S. PAULO/SP</td>\n",
       "      <td>4</td>\n",
       "      <td>Domingo</td>\n",
       "      <td>A</td>\n",
       "      <td>0</td>\n",
       "      <td>0</td>\n",
       "      <td>0</td>\n",
       "      <td>0</td>\n",
       "    </tr>\n",
       "    <tr>\n",
       "      <th>1</th>\n",
       "      <td>1</td>\n",
       "      <td>Concurso 1 (18/02/2002)</td>\n",
       "      <td>2</td>\n",
       "      <td>3</td>\n",
       "      <td>VASCO/RJ</td>\n",
       "      <td></td>\n",
       "      <td>AMERICANO/RJ</td>\n",
       "      <td>0</td>\n",
       "      <td>Domingo</td>\n",
       "      <td>H</td>\n",
       "      <td>0</td>\n",
       "      <td>0</td>\n",
       "      <td>0</td>\n",
       "      <td>0</td>\n",
       "    </tr>\n",
       "    <tr>\n",
       "      <th>2</th>\n",
       "      <td>2</td>\n",
       "      <td>Concurso 1 (18/02/2002)</td>\n",
       "      <td>3</td>\n",
       "      <td>2</td>\n",
       "      <td>SANTOS/SP</td>\n",
       "      <td></td>\n",
       "      <td>SÃO CAETANO/SP</td>\n",
       "      <td>1</td>\n",
       "      <td>Domingo</td>\n",
       "      <td>H</td>\n",
       "      <td>0</td>\n",
       "      <td>0</td>\n",
       "      <td>0</td>\n",
       "      <td>0</td>\n",
       "    </tr>\n",
       "    <tr>\n",
       "      <th>3</th>\n",
       "      <td>3</td>\n",
       "      <td>Concurso 1 (18/02/2002)</td>\n",
       "      <td>4</td>\n",
       "      <td>1</td>\n",
       "      <td>P. DESPORTOS/SP</td>\n",
       "      <td></td>\n",
       "      <td>CORINTHIANS/SP</td>\n",
       "      <td>4</td>\n",
       "      <td>Domingo</td>\n",
       "      <td>A</td>\n",
       "      <td>0</td>\n",
       "      <td>0</td>\n",
       "      <td>0</td>\n",
       "      <td>0</td>\n",
       "    </tr>\n",
       "    <tr>\n",
       "      <th>4</th>\n",
       "      <td>4</td>\n",
       "      <td>Concurso 1 (18/02/2002)</td>\n",
       "      <td>5</td>\n",
       "      <td>7</td>\n",
       "      <td>CRUZEIRO/MG</td>\n",
       "      <td></td>\n",
       "      <td>AMÉRICA/MG</td>\n",
       "      <td>0</td>\n",
       "      <td>Sábado</td>\n",
       "      <td>H</td>\n",
       "      <td>0</td>\n",
       "      <td>0</td>\n",
       "      <td>0</td>\n",
       "      <td>0</td>\n",
       "    </tr>\n",
       "  </tbody>\n",
       "</table>\n",
       "</div>"
      ],
      "text/plain": [
       "   Unnamed: 0                 Concurso  Jogo  HG             Home  S  \\\n",
       "0           0  Concurso 1 (18/02/2002)     1   2      FLAMENGO/RJ      \n",
       "1           1  Concurso 1 (18/02/2002)     2   3         VASCO/RJ      \n",
       "2           2  Concurso 1 (18/02/2002)     3   2        SANTOS/SP      \n",
       "3           3  Concurso 1 (18/02/2002)     4   1  P. DESPORTOS/SP      \n",
       "4           4  Concurso 1 (18/02/2002)     5   7      CRUZEIRO/MG      \n",
       "\n",
       "             Away  AG       Dia Res  H_Goals_Scored  A_Goals_Scored  \\\n",
       "0     S. PAULO/SP   4  Domingo    A               0               0   \n",
       "1    AMERICANO/RJ   0  Domingo    H               0               0   \n",
       "2  SÃO CAETANO/SP   1  Domingo    H               0               0   \n",
       "3  CORINTHIANS/SP   4  Domingo    A               0               0   \n",
       "4      AMÉRICA/MG   0   Sábado    H               0               0   \n",
       "\n",
       "   H_Goals_Against  A_Goals_Against  \n",
       "0                0                0  \n",
       "1                0                0  \n",
       "2                0                0  \n",
       "3                0                0  \n",
       "4                0                0  "
      ]
     },
     "execution_count": 90,
     "metadata": {},
     "output_type": "execute_result"
    }
   ],
   "source": [
    "df_.head()"
   ]
  },
  {
   "cell_type": "markdown",
   "metadata": {},
   "source": [
    "### Nomes dos times"
   ]
  },
  {
   "cell_type": "code",
   "execution_count": 91,
   "metadata": {},
   "outputs": [],
   "source": [
    "# Cria uma lista de nomes dos times\n",
    "vocab = np.unique(np.concatenate((np.array(df_['Home'].unique()), np.array(df_['Away'].unique()))))"
   ]
  },
  {
   "cell_type": "code",
   "execution_count": 92,
   "metadata": {},
   "outputs": [],
   "source": [
    "# Cria o indice de times\n",
    "word2idx = {word: i for i, word in enumerate(vocab)}"
   ]
  },
  {
   "cell_type": "code",
   "execution_count": 93,
   "metadata": {},
   "outputs": [],
   "source": [
    "# Retorna o indice de um time:\n",
    "def word2vector(word):\n",
    "    m = np.zeros(len(word2idx))\n",
    "    idx = word2idx.get(word)\n",
    "    if idx == '':\n",
    "        raise ValueError('Time não encontrado no indice: ' + word)\n",
    "\n",
    "    m[word2idx.get(word)] = 1\n",
    "    return m"
   ]
  },
  {
   "cell_type": "code",
   "execution_count": 94,
   "metadata": {},
   "outputs": [],
   "source": [
    "# Transforma os dois times em um vetor com o flag do time correspondente e a média de gols\n",
    "def prepare(H,A):\n",
    "    \n",
    "    vector = []\n",
    "    \n",
    "    for x in word2vector(H):\n",
    "        if math.isnan(x):\n",
    "            raise ValueError('Time não encontrado no indice: ' + H)\n",
    "\n",
    "        vector.append(x)\n",
    "        \n",
    "    for x in word2vector(A):\n",
    "        if math.isnan(x):\n",
    "            raise ValueError('Time não encontrado no indice: ' + A)\n",
    "            \n",
    "        vector.append(x)\n",
    "                \n",
    "\n",
    "#     Cálculo das médias de gols\n",
    "#     vector.append(get_rolling_goals(df_, H, pos, 10, 'HG'))\n",
    "#     vector.append(get_rolling_goals(df_, A, pos, 10, 'AG'))\n",
    "    \n",
    "#     vector.append(get_rolling_received(df_, H, pos, 10, 'HG'))\n",
    "#     vector.append(get_rolling_received(df_, A, pos, 10, 'AG'))\n",
    "\n",
    "    \n",
    "\n",
    "    return vector"
   ]
  },
  {
   "cell_type": "markdown",
   "metadata": {},
   "source": [
    "### Indexar os resultados"
   ]
  },
  {
   "cell_type": "code",
   "execution_count": 95,
   "metadata": {},
   "outputs": [],
   "source": [
    "X = []\n",
    "y = []\n",
    "\n",
    "for ind_, row in df_.iterrows():\n",
    "    \n",
    "    vec = [word2vector(row['Home']), word2vector(row['Away'])]\n",
    "    \n",
    "    vec = np.array(vec).reshape(np.array(vec).shape[1]*2)\n",
    "    \n",
    "#     vec = np.append(vec, row['H_Goals_Scored'])\n",
    "#     vec = np.append(vec, row['A_Goals_Scored'])\n",
    "    \n",
    "    \n",
    "    X.append(vec)        \n",
    "    \n",
    "    ry = [1,0,0] if int(row['HG']) > int(row['AG']) else \\\n",
    "    [0,1,0] if int(row['HG']) == int(row['AG']) else \\\n",
    "    [0,0,1] if int(row['HG']) < int(row['AG']) else [0,0,0]\n",
    "\n",
    "    y.append(ry)\n",
    "\n",
    "y = np.array(y).reshape(np.array(y).shape[0],3)\n",
    "\n",
    "X = np.array(X)\n",
    "\n",
    "# Normalizar gols\n",
    "# X[:,-4:-3] = X[:,-4:-3]/X[:,-4:-3].max()\n",
    "# X[:,-3:-2] = X[:,-3:-2]/X[:,-3:-2].max()\n",
    "# X[:,-2:-1] = X[:,-2:-1]/X[:,-2:-1].max()\n",
    "# X[:,-1:] = X[:,-1:]/X[:,-1:].max()\n",
    "\n"
   ]
  },
  {
   "cell_type": "markdown",
   "metadata": {},
   "source": [
    "### Modelo"
   ]
  },
  {
   "cell_type": "code",
   "execution_count": 96,
   "metadata": {},
   "outputs": [],
   "source": [
    "from keras.models import Sequential\n",
    "from keras.layers import Dense, Dropout, TimeDistributed\n",
    "from keras.layers import Embedding, Activation\n",
    "from keras.layers import LSTM\n",
    "\n",
    "model = Sequential()\n",
    "model.add(LSTM(64, return_sequences=True))  # returns a sequence of vectors of dimension 32\n",
    "model.add(LSTM(64, return_sequences=True))  # returns a sequence of vectors of dimension 32\n",
    "model.add(LSTM(64))  # return a single vector of dimension 32model.add(Dropout(0.5))\n",
    "model.add(Dense(3, activation='softmax'))\n",
    "\n",
    "\n",
    "model.compile(loss='binary_crossentropy',\n",
    "              optimizer='rmsprop',\n",
    "              metrics=['accuracy'])"
   ]
  },
  {
   "cell_type": "markdown",
   "metadata": {},
   "source": [
    "### Separar os datasets de treinamento e teste"
   ]
  },
  {
   "cell_type": "code",
   "execution_count": 97,
   "metadata": {},
   "outputs": [],
   "source": [
    "xin = []\n",
    "frame_size = 50\n",
    "for i in range(X.shape[0]):\n",
    "    \n",
    "    x_=(X[i-frame_size:i])\n",
    "    \n",
    "    xin.append(x_)\n",
    "    \n",
    "    \n",
    "    \n",
    "\n",
    "xin = np.array(xin[frame_size:])\n",
    "yin = y[frame_size:]\n"
   ]
  },
  {
   "cell_type": "code",
   "execution_count": 98,
   "metadata": {},
   "outputs": [
    {
     "data": {
      "text/plain": [
       "(11510, 50, 1828)"
      ]
     },
     "execution_count": 98,
     "metadata": {},
     "output_type": "execute_result"
    }
   ],
   "source": [
    "xin.shape"
   ]
  },
  {
   "cell_type": "code",
   "execution_count": 99,
   "metadata": {},
   "outputs": [],
   "source": [
    "split = 40"
   ]
  },
  {
   "cell_type": "code",
   "execution_count": 100,
   "metadata": {},
   "outputs": [],
   "source": [
    "X_train, y_train, X_test, y_test = xin[:-int(xin.shape[0]/split)], yin[:-int(yin.shape[0]/split)], xin[-int(xin.shape[0]/split):], yin[-int(yin.shape[0]/split):],"
   ]
  },
  {
   "cell_type": "markdown",
   "metadata": {},
   "source": [
    "### Treinar o modelo"
   ]
  },
  {
   "cell_type": "code",
   "execution_count": 101,
   "metadata": {
    "scrolled": true
   },
   "outputs": [
    {
     "name": "stdout",
     "output_type": "stream",
     "text": [
      "Epoch 1/300\n",
      "11223/11223 [==============================] - 26s 2ms/step - loss: 0.6149 - acc: 0.6674\n",
      "Epoch 2/300\n",
      "11223/11223 [==============================] - 16s 1ms/step - loss: 0.6106 - acc: 0.6707\n",
      "Epoch 3/300\n",
      "11223/11223 [==============================] - 16s 1ms/step - loss: 0.6088 - acc: 0.6717\n",
      "Epoch 4/300\n",
      "11223/11223 [==============================] - 16s 1ms/step - loss: 0.6048 - acc: 0.6791\n",
      "Epoch 5/300\n",
      "11223/11223 [==============================] - 16s 1ms/step - loss: 0.6004 - acc: 0.6822\n",
      "Epoch 6/300\n",
      "11223/11223 [==============================] - 16s 1ms/step - loss: 0.5972 - acc: 0.6867\n",
      "Epoch 7/300\n",
      "11223/11223 [==============================] - 16s 1ms/step - loss: 0.5935 - acc: 0.6892\n",
      "Epoch 8/300\n",
      "11223/11223 [==============================] - 16s 1ms/step - loss: 0.5911 - acc: 0.6897\n",
      "Epoch 9/300\n",
      "11223/11223 [==============================] - 16s 1ms/step - loss: 0.5891 - acc: 0.6916\n",
      "Epoch 10/300\n",
      "11223/11223 [==============================] - 16s 1ms/step - loss: 0.5859 - acc: 0.6947\n",
      "Epoch 11/300\n",
      "11223/11223 [==============================] - 16s 1ms/step - loss: 0.5844 - acc: 0.6946\n",
      "Epoch 12/300\n",
      "11223/11223 [==============================] - 16s 1ms/step - loss: 0.5812 - acc: 0.6975\n",
      "Epoch 13/300\n",
      "11223/11223 [==============================] - 16s 1ms/step - loss: 0.5793 - acc: 0.6979\n",
      "Epoch 14/300\n",
      "11223/11223 [==============================] - 16s 1ms/step - loss: 0.5778 - acc: 0.7000\n",
      "Epoch 15/300\n",
      "11223/11223 [==============================] - 16s 1ms/step - loss: 0.5751 - acc: 0.7020\n",
      "Epoch 16/300\n",
      "11223/11223 [==============================] - 16s 1ms/step - loss: 0.5727 - acc: 0.7018\n",
      "Epoch 17/300\n",
      "11223/11223 [==============================] - 16s 1ms/step - loss: 0.5712 - acc: 0.7017\n",
      "Epoch 18/300\n",
      "11223/11223 [==============================] - 16s 1ms/step - loss: 0.5693 - acc: 0.7033\n",
      "Epoch 19/300\n",
      "11223/11223 [==============================] - 16s 1ms/step - loss: 0.5674 - acc: 0.7045\n",
      "Epoch 20/300\n",
      "11223/11223 [==============================] - 16s 1ms/step - loss: 0.5653 - acc: 0.7062\n",
      "Epoch 21/300\n",
      "11223/11223 [==============================] - 16s 1ms/step - loss: 0.5641 - acc: 0.7069\n",
      "Epoch 22/300\n",
      "11223/11223 [==============================] - 16s 1ms/step - loss: 0.5623 - acc: 0.7088\n",
      "Epoch 23/300\n",
      "11223/11223 [==============================] - 16s 1ms/step - loss: 0.5591 - acc: 0.7123\n",
      "Epoch 24/300\n",
      "11223/11223 [==============================] - 16s 1ms/step - loss: 0.5584 - acc: 0.7123\n",
      "Epoch 25/300\n",
      "11223/11223 [==============================] - 16s 1ms/step - loss: 0.5574 - acc: 0.7116\n",
      "Epoch 26/300\n",
      "11223/11223 [==============================] - 16s 1ms/step - loss: 0.5556 - acc: 0.7126\n",
      "Epoch 27/300\n",
      "11223/11223 [==============================] - 16s 1ms/step - loss: 0.5528 - acc: 0.7134\n",
      "Epoch 28/300\n",
      "11223/11223 [==============================] - 16s 1ms/step - loss: 0.5515 - acc: 0.7165\n",
      "Epoch 29/300\n",
      "11223/11223 [==============================] - 16s 1ms/step - loss: 0.5507 - acc: 0.7172\n",
      "Epoch 30/300\n",
      "11223/11223 [==============================] - 16s 1ms/step - loss: 0.5474 - acc: 0.7192\n",
      "Epoch 31/300\n",
      "11223/11223 [==============================] - 16s 1ms/step - loss: 0.5468 - acc: 0.7178\n",
      "Epoch 32/300\n",
      "11223/11223 [==============================] - 16s 1ms/step - loss: 0.5440 - acc: 0.7204\n",
      "Epoch 33/300\n",
      "11223/11223 [==============================] - 16s 1ms/step - loss: 0.5426 - acc: 0.7200\n",
      "Epoch 34/300\n",
      "11223/11223 [==============================] - 16s 1ms/step - loss: 0.5407 - acc: 0.7212\n",
      "Epoch 35/300\n",
      "11223/11223 [==============================] - 16s 1ms/step - loss: 0.5389 - acc: 0.7231\n",
      "Epoch 36/300\n",
      "11223/11223 [==============================] - 16s 1ms/step - loss: 0.5380 - acc: 0.7243\n",
      "Epoch 37/300\n",
      "11223/11223 [==============================] - 16s 1ms/step - loss: 0.5352 - acc: 0.7239\n",
      "Epoch 38/300\n",
      "11223/11223 [==============================] - 16s 1ms/step - loss: 0.5338 - acc: 0.7247\n",
      "Epoch 39/300\n",
      "11223/11223 [==============================] - 16s 1ms/step - loss: 0.5317 - acc: 0.7255\n",
      "Epoch 40/300\n",
      "11223/11223 [==============================] - 16s 1ms/step - loss: 0.5302 - acc: 0.7264\n",
      "Epoch 41/300\n",
      "11223/11223 [==============================] - 16s 1ms/step - loss: 0.5278 - acc: 0.7292\n",
      "Epoch 42/300\n",
      "11223/11223 [==============================] - 17s 1ms/step - loss: 0.5261 - acc: 0.7292\n",
      "Epoch 43/300\n",
      "11223/11223 [==============================] - 17s 1ms/step - loss: 0.5241 - acc: 0.7301\n",
      "Epoch 44/300\n",
      "11223/11223 [==============================] - 16s 1ms/step - loss: 0.5205 - acc: 0.7334\n",
      "Epoch 45/300\n",
      "11223/11223 [==============================] - 16s 1ms/step - loss: 0.5196 - acc: 0.7327\n",
      "Epoch 46/300\n",
      "11223/11223 [==============================] - 16s 1ms/step - loss: 0.5165 - acc: 0.7356\n",
      "Epoch 47/300\n",
      "11223/11223 [==============================] - 16s 1ms/step - loss: 0.5140 - acc: 0.7348\n",
      "Epoch 48/300\n",
      "11223/11223 [==============================] - 16s 1ms/step - loss: 0.5135 - acc: 0.7356\n",
      "Epoch 49/300\n",
      "11223/11223 [==============================] - 16s 1ms/step - loss: 0.5091 - acc: 0.7381\n",
      "Epoch 50/300\n",
      "11223/11223 [==============================] - 16s 1ms/step - loss: 0.5067 - acc: 0.7414\n",
      "Epoch 51/300\n",
      "11223/11223 [==============================] - 16s 1ms/step - loss: 0.5033 - acc: 0.7431\n",
      "Epoch 52/300\n",
      "11223/11223 [==============================] - 16s 1ms/step - loss: 0.5014 - acc: 0.7429\n",
      "Epoch 53/300\n",
      "11223/11223 [==============================] - 16s 1ms/step - loss: 0.4996 - acc: 0.7434\n",
      "Epoch 54/300\n",
      "11223/11223 [==============================] - 16s 1ms/step - loss: 0.4973 - acc: 0.7459\n",
      "Epoch 55/300\n",
      "11223/11223 [==============================] - 16s 1ms/step - loss: 0.4932 - acc: 0.7487\n",
      "Epoch 56/300\n",
      "11223/11223 [==============================] - 16s 1ms/step - loss: 0.4905 - acc: 0.7501\n",
      "Epoch 57/300\n",
      "11223/11223 [==============================] - 16s 1ms/step - loss: 0.4870 - acc: 0.7516\n",
      "Epoch 58/300\n",
      "11223/11223 [==============================] - 17s 1ms/step - loss: 0.4843 - acc: 0.7516\n",
      "Epoch 59/300\n",
      "11223/11223 [==============================] - 17s 1ms/step - loss: 0.4810 - acc: 0.7541\n",
      "Epoch 60/300\n",
      "11223/11223 [==============================] - 16s 1ms/step - loss: 0.4777 - acc: 0.7549\n",
      "Epoch 61/300\n",
      "11223/11223 [==============================] - 16s 1ms/step - loss: 0.4757 - acc: 0.7559\n",
      "Epoch 62/300\n",
      "11223/11223 [==============================] - 16s 1ms/step - loss: 0.4725 - acc: 0.7605\n",
      "Epoch 63/300\n",
      "11223/11223 [==============================] - 16s 1ms/step - loss: 0.4682 - acc: 0.7628\n",
      "Epoch 64/300\n",
      "11223/11223 [==============================] - 16s 1ms/step - loss: 0.4664 - acc: 0.7633\n",
      "Epoch 65/300\n",
      "11223/11223 [==============================] - 16s 1ms/step - loss: 0.4623 - acc: 0.7638\n",
      "Epoch 66/300\n",
      "11223/11223 [==============================] - 16s 1ms/step - loss: 0.4613 - acc: 0.7663\n",
      "Epoch 67/300\n",
      "11223/11223 [==============================] - 16s 1ms/step - loss: 0.4582 - acc: 0.7680\n",
      "Epoch 68/300\n",
      "11223/11223 [==============================] - 16s 1ms/step - loss: 0.4541 - acc: 0.7687\n",
      "Epoch 69/300\n",
      "11223/11223 [==============================] - 16s 1ms/step - loss: 0.4519 - acc: 0.7708\n",
      "Epoch 70/300\n",
      "11223/11223 [==============================] - 16s 1ms/step - loss: 0.4495 - acc: 0.7729\n",
      "Epoch 71/300\n",
      "11223/11223 [==============================] - 16s 1ms/step - loss: 0.4461 - acc: 0.7739\n",
      "Epoch 72/300\n",
      "11223/11223 [==============================] - 16s 1ms/step - loss: 0.4419 - acc: 0.7771\n",
      "Epoch 73/300\n",
      "11223/11223 [==============================] - 16s 1ms/step - loss: 0.4398 - acc: 0.7784\n",
      "Epoch 74/300\n",
      "11223/11223 [==============================] - 16s 1ms/step - loss: 0.4389 - acc: 0.7772\n",
      "Epoch 75/300\n",
      "11223/11223 [==============================] - 17s 1ms/step - loss: 0.4361 - acc: 0.7812\n",
      "Epoch 76/300\n",
      "11223/11223 [==============================] - 16s 1ms/step - loss: 0.4339 - acc: 0.7805\n",
      "Epoch 77/300\n",
      "11223/11223 [==============================] - 16s 1ms/step - loss: 0.4289 - acc: 0.7829\n",
      "Epoch 78/300\n",
      "11223/11223 [==============================] - 16s 1ms/step - loss: 0.4256 - acc: 0.7859\n",
      "Epoch 79/300\n",
      "11223/11223 [==============================] - 16s 1ms/step - loss: 0.4223 - acc: 0.7884\n",
      "Epoch 80/300\n",
      "11223/11223 [==============================] - 16s 1ms/step - loss: 0.4199 - acc: 0.7906\n",
      "Epoch 81/300\n"
     ]
    },
    {
     "name": "stdout",
     "output_type": "stream",
     "text": [
      "11223/11223 [==============================] - 16s 1ms/step - loss: 0.4207 - acc: 0.7881\n",
      "Epoch 82/300\n",
      "11223/11223 [==============================] - 16s 1ms/step - loss: 0.4134 - acc: 0.7922\n",
      "Epoch 83/300\n",
      "11223/11223 [==============================] - 16s 1ms/step - loss: 0.4113 - acc: 0.7936\n",
      "Epoch 84/300\n",
      "11223/11223 [==============================] - 16s 1ms/step - loss: 0.4086 - acc: 0.7954\n",
      "Epoch 85/300\n",
      "11223/11223 [==============================] - 16s 1ms/step - loss: 0.4056 - acc: 0.7982\n",
      "Epoch 86/300\n",
      "11223/11223 [==============================] - 16s 1ms/step - loss: 0.4039 - acc: 0.7980\n",
      "Epoch 87/300\n",
      "11223/11223 [==============================] - 16s 1ms/step - loss: 0.4022 - acc: 0.7986\n",
      "Epoch 88/300\n",
      "11223/11223 [==============================] - 16s 1ms/step - loss: 0.3983 - acc: 0.8008\n",
      "Epoch 89/300\n",
      "11223/11223 [==============================] - 16s 1ms/step - loss: 0.3985 - acc: 0.8017\n",
      "Epoch 90/300\n",
      "11223/11223 [==============================] - 16s 1ms/step - loss: 0.3933 - acc: 0.8041\n",
      "Epoch 91/300\n",
      "11223/11223 [==============================] - 16s 1ms/step - loss: 0.3919 - acc: 0.8054\n",
      "Epoch 92/300\n",
      "11223/11223 [==============================] - 16s 1ms/step - loss: 0.3874 - acc: 0.8074\n",
      "Epoch 93/300\n",
      "11223/11223 [==============================] - 16s 1ms/step - loss: 0.3849 - acc: 0.8097\n",
      "Epoch 94/300\n",
      "11223/11223 [==============================] - 17s 1ms/step - loss: 0.3841 - acc: 0.8113\n",
      "Epoch 95/300\n",
      "11223/11223 [==============================] - 17s 2ms/step - loss: 0.3775 - acc: 0.8145\n",
      "Epoch 96/300\n",
      "11223/11223 [==============================] - 16s 1ms/step - loss: 0.3788 - acc: 0.8132\n",
      "Epoch 97/300\n",
      "11223/11223 [==============================] - 16s 1ms/step - loss: 0.3715 - acc: 0.8164\n",
      "Epoch 98/300\n",
      "11223/11223 [==============================] - 16s 1ms/step - loss: 0.3725 - acc: 0.8161\n",
      "Epoch 99/300\n",
      "11223/11223 [==============================] - 16s 1ms/step - loss: 0.3684 - acc: 0.8192\n",
      "Epoch 100/300\n",
      "11223/11223 [==============================] - 16s 1ms/step - loss: 0.3662 - acc: 0.8197\n",
      "Epoch 101/300\n",
      "11223/11223 [==============================] - 16s 1ms/step - loss: 0.3672 - acc: 0.8199\n",
      "Epoch 102/300\n",
      "11223/11223 [==============================] - 16s 1ms/step - loss: 0.3601 - acc: 0.8228\n",
      "Epoch 103/300\n",
      "11223/11223 [==============================] - 17s 1ms/step - loss: 0.3565 - acc: 0.8268\n",
      "Epoch 104/300\n",
      "11223/11223 [==============================] - 17s 1ms/step - loss: 0.3557 - acc: 0.8245\n",
      "Epoch 105/300\n",
      "11223/11223 [==============================] - 17s 1ms/step - loss: 0.3516 - acc: 0.8267\n",
      "Epoch 106/300\n",
      "11223/11223 [==============================] - 17s 2ms/step - loss: 0.3487 - acc: 0.8299\n",
      "Epoch 107/300\n",
      "11223/11223 [==============================] - 17s 1ms/step - loss: 0.3508 - acc: 0.8281\n",
      "Epoch 108/300\n",
      "11223/11223 [==============================] - 17s 1ms/step - loss: 0.3432 - acc: 0.8333\n",
      "Epoch 109/300\n",
      "11223/11223 [==============================] - 17s 2ms/step - loss: 0.3423 - acc: 0.8344\n",
      "Epoch 110/300\n",
      "11223/11223 [==============================] - 17s 1ms/step - loss: 0.3378 - acc: 0.8360\n",
      "Epoch 111/300\n",
      "11223/11223 [==============================] - 17s 1ms/step - loss: 0.3391 - acc: 0.8357\n",
      "Epoch 112/300\n",
      "11223/11223 [==============================] - 16s 1ms/step - loss: 0.3343 - acc: 0.8385\n",
      "Epoch 113/300\n",
      "11223/11223 [==============================] - 16s 1ms/step - loss: 0.3295 - acc: 0.8422\n",
      "Epoch 114/300\n",
      "11223/11223 [==============================] - 17s 2ms/step - loss: 0.3331 - acc: 0.8404\n",
      "Epoch 115/300\n",
      "11223/11223 [==============================] - 16s 1ms/step - loss: 0.3269 - acc: 0.8426\n",
      "Epoch 116/300\n",
      "11223/11223 [==============================] - 17s 1ms/step - loss: 0.3230 - acc: 0.8451\n",
      "Epoch 117/300\n",
      "11223/11223 [==============================] - 16s 1ms/step - loss: 0.3205 - acc: 0.8479\n",
      "Epoch 118/300\n",
      "11223/11223 [==============================] - 16s 1ms/step - loss: 0.3200 - acc: 0.8471\n",
      "Epoch 119/300\n",
      "11223/11223 [==============================] - 16s 1ms/step - loss: 0.3160 - acc: 0.8490\n",
      "Epoch 120/300\n",
      "11223/11223 [==============================] - 16s 1ms/step - loss: 0.3168 - acc: 0.8483\n",
      "Epoch 121/300\n",
      "11223/11223 [==============================] - 16s 1ms/step - loss: 0.3123 - acc: 0.8505\n",
      "Epoch 122/300\n",
      "11223/11223 [==============================] - 16s 1ms/step - loss: 0.3119 - acc: 0.8521\n",
      "Epoch 123/300\n",
      "11223/11223 [==============================] - 16s 1ms/step - loss: 0.3041 - acc: 0.8548\n",
      "Epoch 124/300\n",
      "11223/11223 [==============================] - 16s 1ms/step - loss: 0.3056 - acc: 0.8550\n",
      "Epoch 125/300\n",
      "11223/11223 [==============================] - 16s 1ms/step - loss: 0.3050 - acc: 0.8544\n",
      "Epoch 126/300\n",
      "11223/11223 [==============================] - 16s 1ms/step - loss: 0.2999 - acc: 0.8589\n",
      "Epoch 127/300\n",
      "11223/11223 [==============================] - 16s 1ms/step - loss: 0.2962 - acc: 0.8613\n",
      "Epoch 128/300\n",
      "11223/11223 [==============================] - 16s 1ms/step - loss: 0.2947 - acc: 0.8611\n",
      "Epoch 129/300\n",
      "11223/11223 [==============================] - 16s 1ms/step - loss: 0.2911 - acc: 0.8621\n",
      "Epoch 130/300\n",
      "11223/11223 [==============================] - 16s 1ms/step - loss: 0.2925 - acc: 0.8609\n",
      "Epoch 131/300\n",
      "11223/11223 [==============================] - 16s 1ms/step - loss: 0.2861 - acc: 0.8657\n",
      "Epoch 132/300\n",
      "11223/11223 [==============================] - 16s 1ms/step - loss: 0.2895 - acc: 0.8640\n",
      "Epoch 133/300\n",
      "11223/11223 [==============================] - 16s 1ms/step - loss: 0.2796 - acc: 0.8690\n",
      "Epoch 134/300\n",
      "11223/11223 [==============================] - 16s 1ms/step - loss: 0.2782 - acc: 0.8699\n",
      "Epoch 135/300\n",
      "11223/11223 [==============================] - 16s 1ms/step - loss: 0.2745 - acc: 0.8724\n",
      "Epoch 136/300\n",
      "11223/11223 [==============================] - 16s 1ms/step - loss: 0.2793 - acc: 0.8693\n",
      "Epoch 137/300\n",
      "11223/11223 [==============================] - 17s 2ms/step - loss: 0.2720 - acc: 0.8724\n",
      "Epoch 138/300\n",
      "11223/11223 [==============================] - 17s 1ms/step - loss: 0.2742 - acc: 0.8719\n",
      "Epoch 139/300\n",
      "11223/11223 [==============================] - 17s 2ms/step - loss: 0.2655 - acc: 0.8768\n",
      "Epoch 140/300\n",
      "11223/11223 [==============================] - 17s 1ms/step - loss: 0.2664 - acc: 0.8762\n",
      "Epoch 141/300\n",
      "11223/11223 [==============================] - 17s 1ms/step - loss: 0.2631 - acc: 0.8790\n",
      "Epoch 142/300\n",
      "11223/11223 [==============================] - 17s 1ms/step - loss: 0.2629 - acc: 0.8791\n",
      "Epoch 143/300\n",
      "11223/11223 [==============================] - 17s 1ms/step - loss: 0.2525 - acc: 0.8850\n",
      "Epoch 144/300\n",
      "11223/11223 [==============================] - 16s 1ms/step - loss: 0.2585 - acc: 0.8814\n",
      "Epoch 145/300\n",
      "11223/11223 [==============================] - 17s 2ms/step - loss: 0.2541 - acc: 0.8840\n",
      "Epoch 146/300\n",
      "11223/11223 [==============================] - 17s 1ms/step - loss: 0.2513 - acc: 0.8838\n",
      "Epoch 147/300\n",
      "11223/11223 [==============================] - 16s 1ms/step - loss: 0.2481 - acc: 0.8874\n",
      "Epoch 148/300\n",
      "11223/11223 [==============================] - 17s 1ms/step - loss: 0.2472 - acc: 0.8855\n",
      "Epoch 149/300\n",
      "11223/11223 [==============================] - 16s 1ms/step - loss: 0.2468 - acc: 0.8875\n",
      "Epoch 150/300\n",
      "11223/11223 [==============================] - 16s 1ms/step - loss: 0.2446 - acc: 0.8894\n",
      "Epoch 151/300\n",
      "11223/11223 [==============================] - 17s 2ms/step - loss: 0.2362 - acc: 0.8913\n",
      "Epoch 152/300\n",
      "11223/11223 [==============================] - 17s 2ms/step - loss: 0.2347 - acc: 0.8930\n",
      "Epoch 153/300\n",
      "11223/11223 [==============================] - 17s 2ms/step - loss: 0.2368 - acc: 0.8924\n",
      "Epoch 154/300\n",
      "11223/11223 [==============================] - 17s 2ms/step - loss: 0.2378 - acc: 0.8939\n",
      "Epoch 155/300\n",
      "11223/11223 [==============================] - 17s 2ms/step - loss: 0.2306 - acc: 0.8967\n",
      "Epoch 156/300\n",
      "11223/11223 [==============================] - 17s 2ms/step - loss: 0.2268 - acc: 0.8977\n",
      "Epoch 157/300\n",
      "11223/11223 [==============================] - 17s 2ms/step - loss: 0.2330 - acc: 0.8955\n",
      "Epoch 158/300\n",
      "11223/11223 [==============================] - 17s 1ms/step - loss: 0.2265 - acc: 0.8978\n",
      "Epoch 159/300\n",
      "11223/11223 [==============================] - 17s 2ms/step - loss: 0.2181 - acc: 0.9018\n",
      "Epoch 160/300\n"
     ]
    },
    {
     "name": "stdout",
     "output_type": "stream",
     "text": [
      "11223/11223 [==============================] - 17s 2ms/step - loss: 0.2266 - acc: 0.9001\n",
      "Epoch 161/300\n",
      "11223/11223 [==============================] - 17s 2ms/step - loss: 0.2152 - acc: 0.9053\n",
      "Epoch 162/300\n",
      "11223/11223 [==============================] - 17s 2ms/step - loss: 0.2181 - acc: 0.9024\n",
      "Epoch 163/300\n",
      "11223/11223 [==============================] - 17s 2ms/step - loss: 0.2081 - acc: 0.9082\n",
      "Epoch 164/300\n",
      "11223/11223 [==============================] - 17s 2ms/step - loss: 0.2124 - acc: 0.9071\n",
      "Epoch 165/300\n",
      "11223/11223 [==============================] - 17s 1ms/step - loss: 0.2142 - acc: 0.9059\n",
      "Epoch 166/300\n",
      "11223/11223 [==============================] - 17s 2ms/step - loss: 0.2030 - acc: 0.9115\n",
      "Epoch 167/300\n",
      "11223/11223 [==============================] - 17s 2ms/step - loss: 0.2096 - acc: 0.9080\n",
      "Epoch 168/300\n",
      "11223/11223 [==============================] - 17s 2ms/step - loss: 0.1965 - acc: 0.9142\n",
      "Epoch 169/300\n",
      "11223/11223 [==============================] - 17s 2ms/step - loss: 0.1989 - acc: 0.9126\n",
      "Epoch 170/300\n",
      "11223/11223 [==============================] - 17s 2ms/step - loss: 0.1968 - acc: 0.9146\n",
      "Epoch 171/300\n",
      "11223/11223 [==============================] - 17s 1ms/step - loss: 0.1946 - acc: 0.9164\n",
      "Epoch 172/300\n",
      "11223/11223 [==============================] - 17s 2ms/step - loss: 0.1919 - acc: 0.9167\n",
      "Epoch 173/300\n",
      "11223/11223 [==============================] - 17s 2ms/step - loss: 0.1893 - acc: 0.9181\n",
      "Epoch 174/300\n",
      "11223/11223 [==============================] - 17s 2ms/step - loss: 0.1911 - acc: 0.9179\n",
      "Epoch 175/300\n",
      "11223/11223 [==============================] - 17s 2ms/step - loss: 0.1885 - acc: 0.9175\n",
      "Epoch 176/300\n",
      "11223/11223 [==============================] - 17s 2ms/step - loss: 0.1830 - acc: 0.9196\n",
      "Epoch 177/300\n",
      "11223/11223 [==============================] - 17s 2ms/step - loss: 0.1850 - acc: 0.9215\n",
      "Epoch 178/300\n",
      "11223/11223 [==============================] - 17s 2ms/step - loss: 0.1781 - acc: 0.9241\n",
      "Epoch 179/300\n",
      "11223/11223 [==============================] - 17s 1ms/step - loss: 0.1818 - acc: 0.9227\n",
      "Epoch 180/300\n",
      "11223/11223 [==============================] - 17s 2ms/step - loss: 0.1781 - acc: 0.9246\n",
      "Epoch 181/300\n",
      "11223/11223 [==============================] - 17s 2ms/step - loss: 0.1714 - acc: 0.9275\n",
      "Epoch 182/300\n",
      "11223/11223 [==============================] - 17s 1ms/step - loss: 0.1752 - acc: 0.9270\n",
      "Epoch 183/300\n",
      "11223/11223 [==============================] - 17s 1ms/step - loss: 0.1644 - acc: 0.9307\n",
      "Epoch 184/300\n",
      "11223/11223 [==============================] - 17s 1ms/step - loss: 0.1724 - acc: 0.9275\n",
      "Epoch 185/300\n",
      "11223/11223 [==============================] - 17s 1ms/step - loss: 0.1600 - acc: 0.9325\n",
      "Epoch 186/300\n",
      "11223/11223 [==============================] - 17s 1ms/step - loss: 0.1681 - acc: 0.9290\n",
      "Epoch 187/300\n",
      "11223/11223 [==============================] - 17s 1ms/step - loss: 0.1572 - acc: 0.9342\n",
      "Epoch 188/300\n",
      "11223/11223 [==============================] - 17s 1ms/step - loss: 0.1707 - acc: 0.9274\n",
      "Epoch 189/300\n",
      "11223/11223 [==============================] - 17s 2ms/step - loss: 0.1525 - acc: 0.9372\n",
      "Epoch 190/300\n",
      "11223/11223 [==============================] - 17s 1ms/step - loss: 0.1574 - acc: 0.9348\n",
      "Epoch 191/300\n",
      "11223/11223 [==============================] - 16s 1ms/step - loss: 0.1565 - acc: 0.9343\n",
      "Epoch 192/300\n",
      "11223/11223 [==============================] - 17s 1ms/step - loss: 0.1497 - acc: 0.9380\n",
      "Epoch 193/300\n",
      "11223/11223 [==============================] - 17s 2ms/step - loss: 0.1514 - acc: 0.9358\n",
      "Epoch 194/300\n",
      "11223/11223 [==============================] - 17s 2ms/step - loss: 0.1515 - acc: 0.9358\n",
      "Epoch 195/300\n",
      "11223/11223 [==============================] - 17s 2ms/step - loss: 0.1475 - acc: 0.9386\n",
      "Epoch 196/300\n",
      "11223/11223 [==============================] - 17s 2ms/step - loss: 0.1431 - acc: 0.9413\n",
      "Epoch 197/300\n",
      "11223/11223 [==============================] - 17s 2ms/step - loss: 0.1429 - acc: 0.9413\n",
      "Epoch 198/300\n",
      "11223/11223 [==============================] - 17s 2ms/step - loss: 0.1416 - acc: 0.9407\n",
      "Epoch 199/300\n",
      "11223/11223 [==============================] - 17s 2ms/step - loss: 0.1489 - acc: 0.9386\n",
      "Epoch 200/300\n",
      "11223/11223 [==============================] - 17s 2ms/step - loss: 0.1342 - acc: 0.9450\n",
      "Epoch 201/300\n",
      "11223/11223 [==============================] - 17s 2ms/step - loss: 0.1367 - acc: 0.9439\n",
      "Epoch 202/300\n",
      "11223/11223 [==============================] - 17s 2ms/step - loss: 0.1415 - acc: 0.9419\n",
      "Epoch 203/300\n",
      "11223/11223 [==============================] - 17s 2ms/step - loss: 0.1261 - acc: 0.9484\n",
      "Epoch 204/300\n",
      "11223/11223 [==============================] - 17s 1ms/step - loss: 0.1292 - acc: 0.9483\n",
      "Epoch 205/300\n",
      "11223/11223 [==============================] - 17s 2ms/step - loss: 0.1317 - acc: 0.9464\n",
      "Epoch 206/300\n",
      "11223/11223 [==============================] - 17s 2ms/step - loss: 0.1357 - acc: 0.9462\n",
      "Epoch 207/300\n",
      "11223/11223 [==============================] - 17s 2ms/step - loss: 0.1205 - acc: 0.9506\n",
      "Epoch 208/300\n",
      "11223/11223 [==============================] - 17s 2ms/step - loss: 0.1340 - acc: 0.9469\n",
      "Epoch 209/300\n",
      "11223/11223 [==============================] - 17s 2ms/step - loss: 0.1184 - acc: 0.9530\n",
      "Epoch 210/300\n",
      "11223/11223 [==============================] - 17s 2ms/step - loss: 0.1227 - acc: 0.9494\n",
      "Epoch 211/300\n",
      "11223/11223 [==============================] - 17s 2ms/step - loss: 0.1196 - acc: 0.9519\n",
      "Epoch 212/300\n",
      "11223/11223 [==============================] - 17s 2ms/step - loss: 0.1256 - acc: 0.9500\n",
      "Epoch 213/300\n",
      "11223/11223 [==============================] - 17s 2ms/step - loss: 0.1138 - acc: 0.9545\n",
      "Epoch 214/300\n",
      "11223/11223 [==============================] - 17s 2ms/step - loss: 0.1112 - acc: 0.9558\n",
      "Epoch 215/300\n",
      "11223/11223 [==============================] - 17s 2ms/step - loss: 0.1106 - acc: 0.9573\n",
      "Epoch 216/300\n",
      "11223/11223 [==============================] - 17s 2ms/step - loss: 0.1215 - acc: 0.9504\n",
      "Epoch 217/300\n",
      "11223/11223 [==============================] - 17s 2ms/step - loss: 0.1177 - acc: 0.9535\n",
      "Epoch 218/300\n",
      "11223/11223 [==============================] - 17s 2ms/step - loss: 0.1006 - acc: 0.9618\n",
      "Epoch 219/300\n",
      "11223/11223 [==============================] - 18s 2ms/step - loss: 0.1156 - acc: 0.9552\n",
      "Epoch 220/300\n",
      "11223/11223 [==============================] - 17s 2ms/step - loss: 0.1105 - acc: 0.9574\n",
      "Epoch 221/300\n",
      "11223/11223 [==============================] - 17s 2ms/step - loss: 0.1010 - acc: 0.9612\n",
      "Epoch 222/300\n",
      "11223/11223 [==============================] - 17s 2ms/step - loss: 0.1055 - acc: 0.9586\n",
      "Epoch 223/300\n",
      "11223/11223 [==============================] - 16s 1ms/step - loss: 0.1076 - acc: 0.9582\n",
      "Epoch 224/300\n",
      "11223/11223 [==============================] - 16s 1ms/step - loss: 0.0992 - acc: 0.9629\n",
      "Epoch 225/300\n",
      "11223/11223 [==============================] - 16s 1ms/step - loss: 0.1034 - acc: 0.9600\n",
      "Epoch 226/300\n",
      "11223/11223 [==============================] - 16s 1ms/step - loss: 0.0935 - acc: 0.9631\n",
      "Epoch 227/300\n",
      "11223/11223 [==============================] - 17s 1ms/step - loss: 0.1077 - acc: 0.9585\n",
      "Epoch 228/300\n",
      "11223/11223 [==============================] - 17s 1ms/step - loss: 0.0945 - acc: 0.9639\n",
      "Epoch 229/300\n",
      "11223/11223 [==============================] - 16s 1ms/step - loss: 0.1009 - acc: 0.9621\n",
      "Epoch 230/300\n",
      "11223/11223 [==============================] - 16s 1ms/step - loss: 0.0882 - acc: 0.9673\n",
      "Epoch 231/300\n",
      "11223/11223 [==============================] - 17s 1ms/step - loss: 0.0973 - acc: 0.9637\n",
      "Epoch 232/300\n",
      "11223/11223 [==============================] - 17s 2ms/step - loss: 0.0817 - acc: 0.9702\n",
      "Epoch 233/300\n",
      "11223/11223 [==============================] - 17s 2ms/step - loss: 0.0965 - acc: 0.9633\n",
      "Epoch 234/300\n",
      "11223/11223 [==============================] - 17s 2ms/step - loss: 0.0874 - acc: 0.9688\n",
      "Epoch 235/300\n",
      "11223/11223 [==============================] - 17s 2ms/step - loss: 0.0926 - acc: 0.9647\n",
      "Epoch 236/300\n",
      "11223/11223 [==============================] - 17s 2ms/step - loss: 0.0878 - acc: 0.9682\n",
      "Epoch 237/300\n",
      "11223/11223 [==============================] - 17s 2ms/step - loss: 0.0867 - acc: 0.9672\n",
      "Epoch 238/300\n",
      "11223/11223 [==============================] - 17s 2ms/step - loss: 0.0903 - acc: 0.9660\n",
      "Epoch 239/300\n"
     ]
    },
    {
     "name": "stdout",
     "output_type": "stream",
     "text": [
      "11223/11223 [==============================] - 18s 2ms/step - loss: 0.0722 - acc: 0.9730\n",
      "Epoch 240/300\n",
      "11223/11223 [==============================] - 17s 2ms/step - loss: 0.0912 - acc: 0.9663\n",
      "Epoch 241/300\n",
      "11223/11223 [==============================] - 17s 2ms/step - loss: 0.0776 - acc: 0.9712\n",
      "Epoch 242/300\n",
      "11223/11223 [==============================] - 17s 2ms/step - loss: 0.0832 - acc: 0.9687\n",
      "Epoch 243/300\n",
      "11223/11223 [==============================] - 17s 2ms/step - loss: 0.0784 - acc: 0.9711\n",
      "Epoch 244/300\n",
      "11223/11223 [==============================] - 17s 2ms/step - loss: 0.0718 - acc: 0.9739\n",
      "Epoch 245/300\n",
      "11223/11223 [==============================] - 17s 2ms/step - loss: 0.0775 - acc: 0.9726\n",
      "Epoch 246/300\n",
      "11223/11223 [==============================] - 17s 2ms/step - loss: 0.0794 - acc: 0.9718\n",
      "Epoch 247/300\n",
      "11223/11223 [==============================] - 17s 2ms/step - loss: 0.0706 - acc: 0.9755\n",
      "Epoch 248/300\n",
      "11223/11223 [==============================] - 17s 1ms/step - loss: 0.0750 - acc: 0.9739\n",
      "Epoch 249/300\n",
      "11223/11223 [==============================] - 16s 1ms/step - loss: 0.0717 - acc: 0.9745\n",
      "Epoch 250/300\n",
      "11223/11223 [==============================] - 16s 1ms/step - loss: 0.0625 - acc: 0.9781\n",
      "Epoch 251/300\n",
      "11223/11223 [==============================] - 16s 1ms/step - loss: 0.0757 - acc: 0.9733\n",
      "Epoch 252/300\n",
      "11223/11223 [==============================] - 16s 1ms/step - loss: 0.0673 - acc: 0.9766\n",
      "Epoch 253/300\n",
      "11223/11223 [==============================] - 16s 1ms/step - loss: 0.0690 - acc: 0.9760\n",
      "Epoch 254/300\n",
      "11223/11223 [==============================] - 16s 1ms/step - loss: 0.0659 - acc: 0.9761\n",
      "Epoch 255/300\n",
      "11223/11223 [==============================] - 16s 1ms/step - loss: 0.0660 - acc: 0.9766\n",
      "Epoch 256/300\n",
      "11223/11223 [==============================] - 16s 1ms/step - loss: 0.0649 - acc: 0.9762\n",
      "Epoch 257/300\n",
      "11223/11223 [==============================] - 16s 1ms/step - loss: 0.0723 - acc: 0.9751\n",
      "Epoch 258/300\n",
      "11223/11223 [==============================] - 16s 1ms/step - loss: 0.0669 - acc: 0.9765\n",
      "Epoch 259/300\n",
      "11223/11223 [==============================] - 16s 1ms/step - loss: 0.0618 - acc: 0.9800\n",
      "Epoch 260/300\n",
      "11223/11223 [==============================] - 17s 2ms/step - loss: 0.0605 - acc: 0.9785\n",
      "Epoch 261/300\n",
      "11223/11223 [==============================] - 16s 1ms/step - loss: 0.0717 - acc: 0.9762\n",
      "Epoch 262/300\n",
      "11223/11223 [==============================] - 16s 1ms/step - loss: 0.0582 - acc: 0.9813\n",
      "Epoch 263/300\n",
      "11223/11223 [==============================] - 16s 1ms/step - loss: 0.0557 - acc: 0.9815\n",
      "Epoch 264/300\n",
      "11223/11223 [==============================] - 16s 1ms/step - loss: 0.0540 - acc: 0.9826\n",
      "Epoch 265/300\n",
      "11223/11223 [==============================] - 17s 1ms/step - loss: 0.0743 - acc: 0.9739\n",
      "Epoch 266/300\n",
      "11223/11223 [==============================] - 16s 1ms/step - loss: 0.0479 - acc: 0.9830\n",
      "Epoch 267/300\n",
      "11223/11223 [==============================] - 16s 1ms/step - loss: 0.0565 - acc: 0.9816\n",
      "Epoch 268/300\n",
      "11223/11223 [==============================] - 16s 1ms/step - loss: 0.0561 - acc: 0.9804\n",
      "Epoch 269/300\n",
      "11223/11223 [==============================] - 16s 1ms/step - loss: 0.0563 - acc: 0.9814\n",
      "Epoch 270/300\n",
      "11223/11223 [==============================] - 16s 1ms/step - loss: 0.0587 - acc: 0.9797\n",
      "Epoch 271/300\n",
      "11223/11223 [==============================] - 16s 1ms/step - loss: 0.0493 - acc: 0.9848\n",
      "Epoch 272/300\n",
      "11223/11223 [==============================] - 16s 1ms/step - loss: 0.0481 - acc: 0.9846\n",
      "Epoch 273/300\n",
      "11223/11223 [==============================] - 16s 1ms/step - loss: 0.0556 - acc: 0.9813\n",
      "Epoch 274/300\n",
      "11223/11223 [==============================] - 16s 1ms/step - loss: 0.0565 - acc: 0.9806\n",
      "Epoch 275/300\n",
      "11223/11223 [==============================] - 16s 1ms/step - loss: 0.0451 - acc: 0.9859\n",
      "Epoch 276/300\n",
      "11223/11223 [==============================] - 17s 1ms/step - loss: 0.0518 - acc: 0.9836\n",
      "Epoch 277/300\n",
      "11223/11223 [==============================] - 16s 1ms/step - loss: 0.0549 - acc: 0.9826\n",
      "Epoch 278/300\n",
      "11223/11223 [==============================] - 17s 1ms/step - loss: 0.0421 - acc: 0.9869\n",
      "Epoch 279/300\n",
      "11223/11223 [==============================] - 16s 1ms/step - loss: 0.0508 - acc: 0.9830\n",
      "Epoch 280/300\n",
      "11223/11223 [==============================] - 16s 1ms/step - loss: 0.0494 - acc: 0.9830\n",
      "Epoch 281/300\n",
      "11223/11223 [==============================] - 16s 1ms/step - loss: 0.0609 - acc: 0.9794\n",
      "Epoch 282/300\n",
      "11223/11223 [==============================] - 16s 1ms/step - loss: 0.0359 - acc: 0.9891\n",
      "Epoch 283/300\n",
      "11223/11223 [==============================] - 16s 1ms/step - loss: 0.0518 - acc: 0.9830\n",
      "Epoch 284/300\n",
      "11223/11223 [==============================] - 16s 1ms/step - loss: 0.0447 - acc: 0.9852\n",
      "Epoch 285/300\n",
      "11223/11223 [==============================] - 16s 1ms/step - loss: 0.0408 - acc: 0.9872\n",
      "Epoch 286/300\n",
      "11223/11223 [==============================] - 16s 1ms/step - loss: 0.0498 - acc: 0.9837\n",
      "Epoch 287/300\n",
      "11223/11223 [==============================] - 16s 1ms/step - loss: 0.0449 - acc: 0.9872\n",
      "Epoch 288/300\n",
      "11223/11223 [==============================] - 16s 1ms/step - loss: 0.0444 - acc: 0.9862\n",
      "Epoch 289/300\n",
      "11223/11223 [==============================] - 16s 1ms/step - loss: 0.0500 - acc: 0.9839\n",
      "Epoch 290/300\n",
      "11223/11223 [==============================] - 16s 1ms/step - loss: 0.0380 - acc: 0.9885\n",
      "Epoch 291/300\n",
      "11223/11223 [==============================] - 16s 1ms/step - loss: 0.0415 - acc: 0.9862\n",
      "Epoch 292/300\n",
      "11223/11223 [==============================] - 16s 1ms/step - loss: 0.0460 - acc: 0.9860\n",
      "Epoch 293/300\n",
      "11223/11223 [==============================] - 16s 1ms/step - loss: 0.0467 - acc: 0.9859\n",
      "Epoch 294/300\n",
      "11223/11223 [==============================] - 16s 1ms/step - loss: 0.0397 - acc: 0.9875\n",
      "Epoch 295/300\n",
      "11223/11223 [==============================] - 16s 1ms/step - loss: 0.0368 - acc: 0.9876\n",
      "Epoch 296/300\n",
      "11223/11223 [==============================] - 16s 1ms/step - loss: 0.0391 - acc: 0.9879\n",
      "Epoch 297/300\n",
      "11223/11223 [==============================] - 16s 1ms/step - loss: 0.0389 - acc: 0.9879\n",
      "Epoch 298/300\n",
      "11223/11223 [==============================] - 17s 2ms/step - loss: 0.0339 - acc: 0.9892\n",
      "Epoch 299/300\n",
      "11223/11223 [==============================] - 16s 1ms/step - loss: 0.0407 - acc: 0.9886\n",
      "Epoch 300/300\n",
      "11223/11223 [==============================] - 17s 2ms/step - loss: 0.0420 - acc: 0.9856\n"
     ]
    }
   ],
   "source": [
    "history = model.fit(X_train, y_train, epochs=300, batch_size=500, shuffle=True)"
   ]
  },
  {
   "cell_type": "code",
   "execution_count": 106,
   "metadata": {},
   "outputs": [],
   "source": [
    "model.save('model_lstm.h5')"
   ]
  },
  {
   "cell_type": "code",
   "execution_count": 102,
   "metadata": {},
   "outputs": [
    {
     "data": {
      "text/plain": [
       "[<matplotlib.lines.Line2D at 0x19eb6ba4cf8>]"
      ]
     },
     "execution_count": 102,
     "metadata": {},
     "output_type": "execute_result"
    },
    {
     "data": {
      "image/png": "[encoded data removed]",
      "text/plain": [
       "<Figure size 432x288 with 1 Axes>"
      ]
     },
     "metadata": {
      "needs_background": "light"
     },
     "output_type": "display_data"
    }
   ],
   "source": [
    "plt.plot(history.history['acc'])"
   ]
  },
  {
   "cell_type": "code",
   "execution_count": 104,
   "metadata": {},
   "outputs": [
    {
     "name": "stdout",
     "output_type": "stream",
     "text": [
      "287/287 [==============================] - 2s 9ms/step\n"
     ]
    },
    {
     "data": {
      "text/plain": [
       "[2.882275353740732, 0.5865273043669059]"
      ]
     },
     "execution_count": 104,
     "metadata": {},
     "output_type": "execute_result"
    }
   ],
   "source": [
    "model.evaluate(X_test, \n",
    "               y_test, verbose=1)"
   ]
  },
  {
   "cell_type": "markdown",
   "metadata": {},
   "source": [
    "### Avaliar precisão"
   ]
  },
  {
   "cell_type": "code",
   "execution_count": 124,
   "metadata": {},
   "outputs": [],
   "source": [
    "# Cria as colunas com os resultados reais e as apostas\n",
    "def aposta(dr,p):\n",
    "    dr['RC1'] = 'X' if dr['HG'] > dr['AG'] else ''\n",
    "    dr['RCM'] = 'X' if dr['HG'] == dr['AG'] else ''\n",
    "    dr['RC2'] = 'X' if dr['HG'] < dr['AG'] else ''\n",
    "    \n",
    "    \n",
    "#     Criar apostas com jogos simples, duplos e triplos:\n",
    "    c=0\n",
    "    if p[0,0] > p.mean():\n",
    "        dr['AC1'] = 'X' \n",
    "        c += 1\n",
    "    else:\n",
    "        dr['AC1'] = ''\n",
    "    \n",
    "\n",
    "    if p[0,1] > p.mean():\n",
    "        dr['ACM'] = 'X' \n",
    "        c += 1\n",
    "    else:\n",
    "        dr['ACM'] = ''\n",
    "\n",
    "    if p[0,2] > p.mean():\n",
    "        dr['AC2'] = 'X' \n",
    "        c += 1\n",
    "    else:\n",
    "        dr['AC2'] = ''\n",
    "        \n",
    "#         Criar marcador de jogos duplos e triplos\n",
    "    if c==2:\n",
    "        dr['D']='D'\n",
    "    else:\n",
    "        dr['D']=''\n",
    "    if c==3:\n",
    "        dr['T']='T'\n",
    "    else:\n",
    "        dr['T']=''\n",
    "        \n",
    "\n",
    "    return dr\n",
    "    \n",
    "    \n",
    "    "
   ]
  },
  {
   "cell_type": "code",
   "execution_count": 105,
   "metadata": {
    "scrolled": true
   },
   "outputs": [
    {
     "name": "stdout",
     "output_type": "stream",
     "text": [
      "37.98 %\n"
     ]
    }
   ],
   "source": [
    "dfx = df_[int(-df_.shape[0]/split):]\n",
    "\n",
    "ds = []\n",
    "\n",
    "X_ = X[-int(X.shape[0]/split):]\n",
    "\n",
    "prec = []\n",
    "\n",
    "i = 0\n",
    "\n",
    "y_true = []\n",
    "\n",
    "y_prec = []\n",
    "\n",
    "for row in X_test:    \n",
    "\n",
    "    p = model.predict([[row]])\n",
    "    \n",
    "    m = p[0].max()\n",
    "    \n",
    "    r = [1,0,0] if p[0,0] == m else [0,1,0] if p[0,1] == m else [0,0,1] if p[0,2] == m else [0,0,0]       \n",
    "    \n",
    "    a = 1 if (r == y_test[i]).all() else 0\n",
    "    \n",
    "    prec.append(r)   \n",
    "    \n",
    "    \n",
    "    i += 1\n",
    "    \n",
    "#     Cria um dataframe com os resultados para report\n",
    "    ds.append(a)    \n",
    "    \n",
    "print(round(((np.mean(ds))) * 100,2), '%')\n",
    "    "
   ]
  },
  {
   "cell_type": "code",
   "execution_count": 160,
   "metadata": {},
   "outputs": [],
   "source": [
    "from pandas_ml import ConfusionMatrix"
   ]
  },
  {
   "cell_type": "code",
   "execution_count": 164,
   "metadata": {},
   "outputs": [
    {
     "data": {
      "text/plain": [
       "(289, 3)"
      ]
     },
     "execution_count": 164,
     "metadata": {},
     "output_type": "execute_result"
    }
   ],
   "source": [
    "confusion_matrix = ConfusionMatrix(y_true, y_pred)"
   ]
  },
  {
   "cell_type": "code",
   "execution_count": 161,
   "metadata": {},
   "outputs": [
    {
     "ename": "Exception",
     "evalue": "Data must be 1-dimensional",
     "output_type": "error",
     "traceback": [
      "\u001b[1;31m---------------------------------------------------------------------------\u001b[0m",
      "\u001b[1;31mException\u001b[0m                                 Traceback (most recent call last)",
      "\u001b[1;32m<ipython-input-161-b400850492e8>\u001b[0m in \u001b[0;36m<module>\u001b[1;34m\u001b[0m\n\u001b[1;32m----> 1\u001b[1;33m \u001b[0mconfusion_matrix\u001b[0m \u001b[1;33m=\u001b[0m \u001b[0mConfusionMatrix\u001b[0m\u001b[1;33m(\u001b[0m\u001b[0my_test\u001b[0m\u001b[1;33m,\u001b[0m \u001b[0mprec\u001b[0m\u001b[1;33m)\u001b[0m\u001b[1;33m\u001b[0m\u001b[1;33m\u001b[0m\u001b[0m\n\u001b[0m",
      "\u001b[1;32m~\\AppData\\Local\\conda\\conda\\envs\\tensorflow-gpu\\lib\\site-packages\\pandas_ml\\confusion_matrix\\cm.py\u001b[0m in \u001b[0;36m__new__\u001b[1;34m(cls, y_true, y_pred, *args, **kwargs)\u001b[0m\n\u001b[0;32m     21\u001b[0m             \u001b[1;32mif\u001b[0m \u001b[0mlen\u001b[0m\u001b[1;33m(\u001b[0m\u001b[0mset\u001b[0m\u001b[1;33m(\u001b[0m\u001b[0muniq_true\u001b[0m\u001b[1;33m)\u001b[0m \u001b[1;33m-\u001b[0m \u001b[0mset\u001b[0m\u001b[1;33m(\u001b[0m\u001b[0muniq_pred\u001b[0m\u001b[1;33m)\u001b[0m\u001b[1;33m)\u001b[0m \u001b[1;33m==\u001b[0m \u001b[1;36m0\u001b[0m\u001b[1;33m:\u001b[0m\u001b[1;33m\u001b[0m\u001b[1;33m\u001b[0m\u001b[0m\n\u001b[0;32m     22\u001b[0m                 \u001b[1;32mfrom\u001b[0m \u001b[0mpandas_ml\u001b[0m\u001b[1;33m.\u001b[0m\u001b[0mconfusion_matrix\u001b[0m\u001b[1;33m.\u001b[0m\u001b[0mbcm\u001b[0m \u001b[1;32mimport\u001b[0m \u001b[0mBinaryConfusionMatrix\u001b[0m\u001b[1;33m\u001b[0m\u001b[1;33m\u001b[0m\u001b[0m\n\u001b[1;32m---> 23\u001b[1;33m                 \u001b[1;32mreturn\u001b[0m \u001b[0mBinaryConfusionMatrix\u001b[0m\u001b[1;33m(\u001b[0m\u001b[0my_true\u001b[0m\u001b[1;33m,\u001b[0m \u001b[0my_pred\u001b[0m\u001b[1;33m,\u001b[0m \u001b[1;33m*\u001b[0m\u001b[0margs\u001b[0m\u001b[1;33m,\u001b[0m \u001b[1;33m**\u001b[0m\u001b[0mkwargs\u001b[0m\u001b[1;33m)\u001b[0m\u001b[1;33m\u001b[0m\u001b[1;33m\u001b[0m\u001b[0m\n\u001b[0m\u001b[0;32m     24\u001b[0m         \u001b[1;32mreturn\u001b[0m \u001b[0mLabeledConfusionMatrix\u001b[0m\u001b[1;33m(\u001b[0m\u001b[0my_true\u001b[0m\u001b[1;33m,\u001b[0m \u001b[0my_pred\u001b[0m\u001b[1;33m,\u001b[0m \u001b[1;33m*\u001b[0m\u001b[0margs\u001b[0m\u001b[1;33m,\u001b[0m \u001b[1;33m**\u001b[0m\u001b[0mkwargs\u001b[0m\u001b[1;33m)\u001b[0m\u001b[1;33m\u001b[0m\u001b[1;33m\u001b[0m\u001b[0m\n\u001b[0;32m     25\u001b[0m \u001b[1;33m\u001b[0m\u001b[0m\n",
      "\u001b[1;32m~\\AppData\\Local\\conda\\conda\\envs\\tensorflow-gpu\\lib\\site-packages\\pandas_ml\\confusion_matrix\\bcm.py\u001b[0m in \u001b[0;36m__init__\u001b[1;34m(self, *args, **kwargs)\u001b[0m\n\u001b[0;32m     19\u001b[0m     \u001b[1;32mdef\u001b[0m \u001b[0m__init__\u001b[0m\u001b[1;33m(\u001b[0m\u001b[0mself\u001b[0m\u001b[1;33m,\u001b[0m \u001b[1;33m*\u001b[0m\u001b[0margs\u001b[0m\u001b[1;33m,\u001b[0m \u001b[1;33m**\u001b[0m\u001b[0mkwargs\u001b[0m\u001b[1;33m)\u001b[0m\u001b[1;33m:\u001b[0m\u001b[1;33m\u001b[0m\u001b[1;33m\u001b[0m\u001b[0m\n\u001b[0;32m     20\u001b[0m         \u001b[1;31m# super(BinaryConfusionMatrix, self).__init__(y_true, y_pred)\u001b[0m\u001b[1;33m\u001b[0m\u001b[1;33m\u001b[0m\u001b[1;33m\u001b[0m\u001b[0m\n\u001b[1;32m---> 21\u001b[1;33m         \u001b[0msuper\u001b[0m\u001b[1;33m(\u001b[0m\u001b[0mBinaryConfusionMatrix\u001b[0m\u001b[1;33m,\u001b[0m \u001b[0mself\u001b[0m\u001b[1;33m)\u001b[0m\u001b[1;33m.\u001b[0m\u001b[0m__init__\u001b[0m\u001b[1;33m(\u001b[0m\u001b[1;33m*\u001b[0m\u001b[0margs\u001b[0m\u001b[1;33m,\u001b[0m \u001b[1;33m**\u001b[0m\u001b[0mkwargs\u001b[0m\u001b[1;33m)\u001b[0m\u001b[1;33m\u001b[0m\u001b[1;33m\u001b[0m\u001b[0m\n\u001b[0m\u001b[0;32m     22\u001b[0m         \u001b[1;32massert\u001b[0m \u001b[0mself\u001b[0m\u001b[1;33m.\u001b[0m\u001b[0mlen\u001b[0m\u001b[1;33m(\u001b[0m\u001b[1;33m)\u001b[0m \u001b[1;33m==\u001b[0m \u001b[1;36m2\u001b[0m\u001b[1;33m,\u001b[0m\u001b[0;31m \u001b[0m\u001b[0;31m\\\u001b[0m\u001b[1;33m\u001b[0m\u001b[1;33m\u001b[0m\u001b[0m\n\u001b[0;32m     23\u001b[0m             \u001b[0;31m\"\u001b[0m\u001b[0mBinary\u001b[0m \u001b[0mconfusion\u001b[0m \u001b[0mmatrix\u001b[0m \u001b[0mmust\u001b[0m \u001b[0mhave\u001b[0m \u001b[0mlen\u001b[0m\u001b[1;33m=\u001b[0m\u001b[1;36m2\u001b[0m \u001b[0mbut\u001b[0m\u001b[0;31m \u001b[0m\u001b[0;31m\\\u001b[0m\u001b[1;33m\u001b[0m\u001b[1;33m\u001b[0m\u001b[0m\n",
      "\u001b[1;32m~\\AppData\\Local\\conda\\conda\\envs\\tensorflow-gpu\\lib\\site-packages\\pandas_ml\\confusion_matrix\\abstract.py\u001b[0m in \u001b[0;36m__init__\u001b[1;34m(self, y_true, y_pred, labels, display_sum, backend, true_name, pred_name)\u001b[0m\n\u001b[0;32m     31\u001b[0m             \u001b[0mself\u001b[0m\u001b[1;33m.\u001b[0m\u001b[0m_y_true\u001b[0m\u001b[1;33m.\u001b[0m\u001b[0mname\u001b[0m \u001b[1;33m=\u001b[0m \u001b[0mself\u001b[0m\u001b[1;33m.\u001b[0m\u001b[0mtrue_name\u001b[0m\u001b[1;33m\u001b[0m\u001b[1;33m\u001b[0m\u001b[0m\n\u001b[0;32m     32\u001b[0m         \u001b[1;32melse\u001b[0m\u001b[1;33m:\u001b[0m\u001b[1;33m\u001b[0m\u001b[1;33m\u001b[0m\u001b[0m\n\u001b[1;32m---> 33\u001b[1;33m             \u001b[0mself\u001b[0m\u001b[1;33m.\u001b[0m\u001b[0m_y_true\u001b[0m \u001b[1;33m=\u001b[0m \u001b[0mpd\u001b[0m\u001b[1;33m.\u001b[0m\u001b[0mSeries\u001b[0m\u001b[1;33m(\u001b[0m\u001b[0my_true\u001b[0m\u001b[1;33m,\u001b[0m \u001b[0mname\u001b[0m\u001b[1;33m=\u001b[0m\u001b[0mself\u001b[0m\u001b[1;33m.\u001b[0m\u001b[0mtrue_name\u001b[0m\u001b[1;33m)\u001b[0m\u001b[1;33m\u001b[0m\u001b[1;33m\u001b[0m\u001b[0m\n\u001b[0m\u001b[0;32m     34\u001b[0m \u001b[1;33m\u001b[0m\u001b[0m\n\u001b[0;32m     35\u001b[0m         \u001b[1;32mif\u001b[0m \u001b[0misinstance\u001b[0m\u001b[1;33m(\u001b[0m\u001b[0my_pred\u001b[0m\u001b[1;33m,\u001b[0m \u001b[0mpd\u001b[0m\u001b[1;33m.\u001b[0m\u001b[0mSeries\u001b[0m\u001b[1;33m)\u001b[0m\u001b[1;33m:\u001b[0m\u001b[1;33m\u001b[0m\u001b[1;33m\u001b[0m\u001b[0m\n",
      "\u001b[1;32m~\\AppData\\Local\\conda\\conda\\envs\\tensorflow-gpu\\lib\\site-packages\\pandas\\core\\series.py\u001b[0m in \u001b[0;36m__init__\u001b[1;34m(self, data, index, dtype, name, copy, fastpath)\u001b[0m\n\u001b[0;32m    273\u001b[0m             \u001b[1;32melse\u001b[0m\u001b[1;33m:\u001b[0m\u001b[1;33m\u001b[0m\u001b[1;33m\u001b[0m\u001b[0m\n\u001b[0;32m    274\u001b[0m                 data = _sanitize_array(data, index, dtype, copy,\n\u001b[1;32m--> 275\u001b[1;33m                                        raise_cast_failure=True)\n\u001b[0m\u001b[0;32m    276\u001b[0m \u001b[1;33m\u001b[0m\u001b[0m\n\u001b[0;32m    277\u001b[0m                 \u001b[0mdata\u001b[0m \u001b[1;33m=\u001b[0m \u001b[0mSingleBlockManager\u001b[0m\u001b[1;33m(\u001b[0m\u001b[0mdata\u001b[0m\u001b[1;33m,\u001b[0m \u001b[0mindex\u001b[0m\u001b[1;33m,\u001b[0m \u001b[0mfastpath\u001b[0m\u001b[1;33m=\u001b[0m\u001b[1;32mTrue\u001b[0m\u001b[1;33m)\u001b[0m\u001b[1;33m\u001b[0m\u001b[1;33m\u001b[0m\u001b[0m\n",
      "\u001b[1;32m~\\AppData\\Local\\conda\\conda\\envs\\tensorflow-gpu\\lib\\site-packages\\pandas\\core\\series.py\u001b[0m in \u001b[0;36m_sanitize_array\u001b[1;34m(data, index, dtype, copy, raise_cast_failure)\u001b[0m\n\u001b[0;32m   4163\u001b[0m     \u001b[1;32melif\u001b[0m \u001b[0msubarr\u001b[0m\u001b[1;33m.\u001b[0m\u001b[0mndim\u001b[0m \u001b[1;33m>\u001b[0m \u001b[1;36m1\u001b[0m\u001b[1;33m:\u001b[0m\u001b[1;33m\u001b[0m\u001b[1;33m\u001b[0m\u001b[0m\n\u001b[0;32m   4164\u001b[0m         \u001b[1;32mif\u001b[0m \u001b[0misinstance\u001b[0m\u001b[1;33m(\u001b[0m\u001b[0mdata\u001b[0m\u001b[1;33m,\u001b[0m \u001b[0mnp\u001b[0m\u001b[1;33m.\u001b[0m\u001b[0mndarray\u001b[0m\u001b[1;33m)\u001b[0m\u001b[1;33m:\u001b[0m\u001b[1;33m\u001b[0m\u001b[1;33m\u001b[0m\u001b[0m\n\u001b[1;32m-> 4165\u001b[1;33m             \u001b[1;32mraise\u001b[0m \u001b[0mException\u001b[0m\u001b[1;33m(\u001b[0m\u001b[1;34m'Data must be 1-dimensional'\u001b[0m\u001b[1;33m)\u001b[0m\u001b[1;33m\u001b[0m\u001b[1;33m\u001b[0m\u001b[0m\n\u001b[0m\u001b[0;32m   4166\u001b[0m         \u001b[1;32melse\u001b[0m\u001b[1;33m:\u001b[0m\u001b[1;33m\u001b[0m\u001b[1;33m\u001b[0m\u001b[0m\n\u001b[0;32m   4167\u001b[0m             \u001b[0msubarr\u001b[0m \u001b[1;33m=\u001b[0m \u001b[0mcom\u001b[0m\u001b[1;33m.\u001b[0m\u001b[0m_asarray_tuplesafe\u001b[0m\u001b[1;33m(\u001b[0m\u001b[0mdata\u001b[0m\u001b[1;33m,\u001b[0m \u001b[0mdtype\u001b[0m\u001b[1;33m=\u001b[0m\u001b[0mdtype\u001b[0m\u001b[1;33m)\u001b[0m\u001b[1;33m\u001b[0m\u001b[1;33m\u001b[0m\u001b[0m\n",
      "\u001b[1;31mException\u001b[0m: Data must be 1-dimensional"
     ]
    }
   ],
   "source": [
    "confusion_matrix = ConfusionMatrix(y_test, prec)"
   ]
  },
  {
   "cell_type": "code",
   "execution_count": null,
   "metadata": {},
   "outputs": [],
   "source": [
    "dfs[dfs['Concurso']=='Concurso 825 (05/11/2018)']"
   ]
  },
  {
   "cell_type": "code",
   "execution_count": null,
   "metadata": {},
   "outputs": [],
   "source": [
    "dfs[dfs['S']==dfs['Res']].groupby(['Concurso'])['Concurso'].value_counts()"
   ]
  },
  {
   "cell_type": "code",
   "execution_count": null,
   "metadata": {},
   "outputs": [],
   "source": [
    "# Considera os duplos e triplos\n",
    "# RC1\tRCM\tRC2\tAC1\tACM\tAC2\n",
    "dfs[((dfs['RC1']==dfs['AC1'])&(dfs['RC1']=='X')) | ((dfs['RC2']==dfs['AC2'])&(dfs['RC2']=='X')) | ((dfs['RCM']==dfs['ACM'])&(dfs['RCM']=='X'))].groupby(['Concurso'])['Concurso'].value_counts()"
   ]
  },
  {
   "cell_type": "code",
   "execution_count": null,
   "metadata": {},
   "outputs": [],
   "source": [
    "# Preço das apostas\n",
    "2**dfs[dfs['D']=='D'].groupby(['Concurso'])['Concurso'].value_counts()"
   ]
  },
  {
   "cell_type": "markdown",
   "metadata": {},
   "source": [
    "### Lista de times"
   ]
  },
  {
   "cell_type": "code",
   "execution_count": null,
   "metadata": {},
   "outputs": [],
   "source": [
    "vocab"
   ]
  },
  {
   "cell_type": "markdown",
   "metadata": {},
   "source": [
    "### Realizar previsão"
   ]
  },
  {
   "cell_type": "code",
   "execution_count": null,
   "metadata": {},
   "outputs": [],
   "source": [
    "H = 'LIVERPOOL/ING'\n",
    "A = 'TOTTENHAM/ING'\n",
    "\n",
    "prep = [prepare(H,A,1)]\n",
    "    \n",
    "prepx = np.array(prep).reshape(np.array(prep).shape[0],np.array(prep).shape[1])\n",
    "    \n",
    "p = model.predict(prepx)\n",
    "\n",
    "\n",
    "print(p)\n"
   ]
  },
  {
   "cell_type": "code",
   "execution_count": null,
   "metadata": {},
   "outputs": [],
   "source": [
    "p[0,2]"
   ]
  },
  {
   "cell_type": "code",
   "execution_count": null,
   "metadata": {},
   "outputs": [],
   "source": [
    "p.mean()"
   ]
  },
  {
   "cell_type": "code",
   "execution_count": null,
   "metadata": {},
   "outputs": [],
   "source": []
  }
 ],
 "metadata": {
  "kernelspec": {
   "display_name": "Python 3",
   "language": "python",
   "name": "python3"
  },
  "language_info": {
   "codemirror_mode": {
    "name": "ipython",
    "version": 3
   },
   "file_extension": ".py",
   "mimetype": "text/x-python",
   "name": "python",
   "nbconvert_exporter": "python",
   "pygments_lexer": "ipython3",
   "version": "3.6.7"
  }
 },
 "nbformat": 4,
 "nbformat_minor": 2
}
