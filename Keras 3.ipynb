{
 "cells": [
  {
   "cell_type": "markdown",
   "metadata": {},
   "source": [
    "# Loteca"
   ]
  },
  {
   "cell_type": "code",
   "execution_count": 1,
   "metadata": {},
   "outputs": [
    {
     "name": "stderr",
     "output_type": "stream",
     "text": [
      "Using TensorFlow backend.\n"
     ]
    }
   ],
   "source": [
    "import keras\n",
    "import pandas as pd\n",
    "import numpy as np\n",
    "import matplotlib.pyplot as plt\n",
    "from sklearn.model_selection import train_test_split"
   ]
  },
  {
   "cell_type": "markdown",
   "metadata": {},
   "source": [
    "### Ler arquivo"
   ]
  },
  {
   "cell_type": "code",
   "execution_count": 2,
   "metadata": {},
   "outputs": [],
   "source": [
    "df = np.load('arquivo.npy')"
   ]
  },
  {
   "cell_type": "code",
   "execution_count": 3,
   "metadata": {},
   "outputs": [],
   "source": [
    "for i in range(len(df)):\n",
    "    df[i,8] = 'H' if (int(df[i,2]) - int(df[i,6])) > 0 else 'A' if (int(df[i,2]) - int(df[i,6])) < 0 else 'D'\n"
   ]
  },
  {
   "cell_type": "code",
   "execution_count": 122,
   "metadata": {},
   "outputs": [],
   "source": [
    "df_ = pd.DataFrame(df,columns=['Concurso','Jogo','HG','Home','S','Away','AG','Dia','Res'])"
   ]
  },
  {
   "cell_type": "code",
   "execution_count": 123,
   "metadata": {},
   "outputs": [],
   "source": [
    "df_ = df_.astype({\"HG\": int, \"AG\": int})"
   ]
  },
  {
   "cell_type": "code",
   "execution_count": 124,
   "metadata": {},
   "outputs": [
    {
     "data": {
      "text/html": [
       "<div>\n",
       "<style scoped>\n",
       "    .dataframe tbody tr th:only-of-type {\n",
       "        vertical-align: middle;\n",
       "    }\n",
       "\n",
       "    .dataframe tbody tr th {\n",
       "        vertical-align: top;\n",
       "    }\n",
       "\n",
       "    .dataframe thead th {\n",
       "        text-align: right;\n",
       "    }\n",
       "</style>\n",
       "<table border=\"1\" class=\"dataframe\">\n",
       "  <thead>\n",
       "    <tr style=\"text-align: right;\">\n",
       "      <th></th>\n",
       "      <th>Concurso</th>\n",
       "      <th>Jogo</th>\n",
       "      <th>HG</th>\n",
       "      <th>Home</th>\n",
       "      <th>S</th>\n",
       "      <th>Away</th>\n",
       "      <th>AG</th>\n",
       "      <th>Dia</th>\n",
       "      <th>Res</th>\n",
       "    </tr>\n",
       "  </thead>\n",
       "  <tbody>\n",
       "    <tr>\n",
       "      <th>0</th>\n",
       "      <td>Concurso 1 (18/02/2002)</td>\n",
       "      <td>1</td>\n",
       "      <td>2</td>\n",
       "      <td>FLAMENGO/RJ</td>\n",
       "      <td></td>\n",
       "      <td>S. PAULO/SP</td>\n",
       "      <td>4</td>\n",
       "      <td>Domingo</td>\n",
       "      <td>A</td>\n",
       "    </tr>\n",
       "    <tr>\n",
       "      <th>1</th>\n",
       "      <td>Concurso 1 (18/02/2002)</td>\n",
       "      <td>2</td>\n",
       "      <td>3</td>\n",
       "      <td>VASCO/RJ</td>\n",
       "      <td></td>\n",
       "      <td>AMERICANO/RJ</td>\n",
       "      <td>0</td>\n",
       "      <td>Domingo</td>\n",
       "      <td>H</td>\n",
       "    </tr>\n",
       "    <tr>\n",
       "      <th>2</th>\n",
       "      <td>Concurso 1 (18/02/2002)</td>\n",
       "      <td>3</td>\n",
       "      <td>2</td>\n",
       "      <td>SANTOS/SP</td>\n",
       "      <td></td>\n",
       "      <td>SÃO CAETANO/SP</td>\n",
       "      <td>1</td>\n",
       "      <td>Domingo</td>\n",
       "      <td>H</td>\n",
       "    </tr>\n",
       "    <tr>\n",
       "      <th>3</th>\n",
       "      <td>Concurso 1 (18/02/2002)</td>\n",
       "      <td>4</td>\n",
       "      <td>1</td>\n",
       "      <td>P. DESPORTOS/SP</td>\n",
       "      <td></td>\n",
       "      <td>CORINTHIANS/SP</td>\n",
       "      <td>4</td>\n",
       "      <td>Domingo</td>\n",
       "      <td>A</td>\n",
       "    </tr>\n",
       "    <tr>\n",
       "      <th>4</th>\n",
       "      <td>Concurso 1 (18/02/2002)</td>\n",
       "      <td>5</td>\n",
       "      <td>7</td>\n",
       "      <td>CRUZEIRO/MG</td>\n",
       "      <td></td>\n",
       "      <td>AMÉRICA/MG</td>\n",
       "      <td>0</td>\n",
       "      <td>Sábado</td>\n",
       "      <td>H</td>\n",
       "    </tr>\n",
       "  </tbody>\n",
       "</table>\n",
       "</div>"
      ],
      "text/plain": [
       "                  Concurso Jogo  HG             Home  S            Away  AG  \\\n",
       "0  Concurso 1 (18/02/2002)    1   2      FLAMENGO/RJ        S. PAULO/SP   4   \n",
       "1  Concurso 1 (18/02/2002)    2   3         VASCO/RJ       AMERICANO/RJ   0   \n",
       "2  Concurso 1 (18/02/2002)    3   2        SANTOS/SP     SÃO CAETANO/SP   1   \n",
       "3  Concurso 1 (18/02/2002)    4   1  P. DESPORTOS/SP     CORINTHIANS/SP   4   \n",
       "4  Concurso 1 (18/02/2002)    5   7      CRUZEIRO/MG         AMÉRICA/MG   0   \n",
       "\n",
       "        Dia Res  \n",
       "0  Domingo    A  \n",
       "1  Domingo    H  \n",
       "2  Domingo    H  \n",
       "3  Domingo    A  \n",
       "4   Sábado    H  "
      ]
     },
     "execution_count": 124,
     "metadata": {},
     "output_type": "execute_result"
    }
   ],
   "source": [
    "df_.head()"
   ]
  },
  {
   "cell_type": "markdown",
   "metadata": {},
   "source": [
    "### Frequencia de vitórias em casa (H), empates (D) e visitantes (A)"
   ]
  },
  {
   "cell_type": "code",
   "execution_count": 83,
   "metadata": {},
   "outputs": [
    {
     "data": {
      "text/plain": [
       "<BarContainer object of 3 artists>"
      ]
     },
     "execution_count": 83,
     "metadata": {},
     "output_type": "execute_result"
    },
    {
     "data": {
      "image/png": "[encoded data removed]",
      "text/plain": [
       "<Figure size 432x288 with 1 Axes>"
      ]
     },
     "metadata": {
      "needs_background": "light"
     },
     "output_type": "display_data"
    }
   ],
   "source": [
    "plt.bar(df_['Res'].value_counts().keys(),df_['Res'].value_counts())"
   ]
  },
  {
   "cell_type": "markdown",
   "metadata": {},
   "source": [
    "### Nomes dos times"
   ]
  },
  {
   "cell_type": "code",
   "execution_count": 125,
   "metadata": {},
   "outputs": [],
   "source": [
    "vocab = np.unique(np.concatenate((np.array(df_['Home'].unique()), np.array(df_['Away'].unique()))))"
   ]
  },
  {
   "cell_type": "markdown",
   "metadata": {},
   "source": [
    "### Soma de gols dos últimos jogos"
   ]
  },
  {
   "cell_type": "code",
   "execution_count": 241,
   "metadata": {},
   "outputs": [],
   "source": [
    "# Calcula a soma de gols feitos das ultimas n (window) partidas\n",
    "\n",
    "def get_rolling_mean(dataFrame, equip, pos, window, HG_AG):   \n",
    "    HA = 'Home' if HG_AG == 'HG' else 'Away' if HG_AG == 'AG' else ''\n",
    "    s = dataFrame[-pos-window:-window][dataFrame[HA] == equip][HG_AG].sum()\n",
    "    return s if not(np.isnan(s)) else 0\n",
    "\n",
    "# Calcula a soma de gols recebidos das ultimas n (window) partidas\n",
    "def get_rolling_received(dataFrame, equip, pos, window, HG_AG):   \n",
    "    HA = 'Home' if HG_AG == 'HG' else 'Away' if HG_AG == 'AG' else ''\n",
    "    HG_AG_ = 'HG' if HG_AG == 'AG' else 'AG' if HG_AG == 'HG' else ''\n",
    "    s = dataFrame[-pos-window:-window][dataFrame[HA] == equip][HG_AG_].sum()\n",
    "    return s if not(np.isnan(s)) else 0\n",
    "\n",
    "    "
   ]
  },
  {
   "cell_type": "code",
   "execution_count": 243,
   "metadata": {},
   "outputs": [
    {
     "name": "stdout",
     "output_type": "stream",
     "text": [
      "12\n",
      "16\n"
     ]
    },
    {
     "name": "stderr",
     "output_type": "stream",
     "text": [
      "C:\\ProgramData\\Miniconda3\\envs\\loteca\\lib\\site-packages\\ipykernel_launcher.py:5: UserWarning: Boolean Series key will be reindexed to match DataFrame index.\n",
      "  \"\"\"\n",
      "C:\\ProgramData\\Miniconda3\\envs\\loteca\\lib\\site-packages\\ipykernel_launcher.py:12: UserWarning: Boolean Series key will be reindexed to match DataFrame index.\n",
      "  if sys.path[0] == '':\n"
     ]
    }
   ],
   "source": [
    "print(get_rolling_mean(df_, 'ATLÉTICO/MG', 500, 20, 'AG'))\n",
    "print(get_rolling_received(df_, 'ATLÉTICO/MG', 500, 20, 'AG'))\n"
   ]
  },
  {
   "cell_type": "code",
   "execution_count": 127,
   "metadata": {},
   "outputs": [],
   "source": [
    "# Cria o indice de times\n",
    "word2idx = {word: i for i, word in enumerate(vocab)}"
   ]
  },
  {
   "cell_type": "code",
   "execution_count": 128,
   "metadata": {},
   "outputs": [],
   "source": [
    "# Retorna o indice de um time:\n",
    "def word2vector(word):\n",
    "    m = np.zeros(len(word2idx))\n",
    "    m[word2idx.get(word)] = 1\n",
    "    return m.tolist()"
   ]
  },
  {
   "cell_type": "code",
   "execution_count": 246,
   "metadata": {},
   "outputs": [],
   "source": [
    "# Transforma os dois times em um vetor com o flag do time correspondente e a média de gols\n",
    "def prepare(H,A,pos):\n",
    "    \n",
    "    vector = []\n",
    "    \n",
    "    for x in word2vector(H):\n",
    "        vector.append(x)\n",
    "        \n",
    "    for x in word2vector(A):\n",
    "        vector.append(x)\n",
    "        \n",
    "    \n",
    "#     vector.append(word2vector(H))\n",
    "#     vector.append(word2vector(A))\n",
    "    \n",
    "#     vector = np.array(vector).reshape(1828)\n",
    "    \n",
    "    vector.append(get_rolling_mean(df_, H, pos, 10, 'HG'))\n",
    "    vector.append(get_rolling_mean(df_, A, pos, 10, 'AG'))\n",
    "    \n",
    "    vector.append(get_rolling_received(df_, H, pos, 10, 'HG'))\n",
    "    vector.append(get_rolling_received(df_, A, pos, 10, 'AG'))\n",
    "\n",
    "    \n",
    "#     return [vector, get_rolling_mean(df_, H, pos, 10, 'HG'), get_rolling_mean(df_, A, pos, 10, 'AG')]\n",
    "\n",
    "    return vector"
   ]
  },
  {
   "cell_type": "markdown",
   "metadata": {},
   "source": [
    "### Indexar os resultados"
   ]
  },
  {
   "cell_type": "code",
   "execution_count": 247,
   "metadata": {},
   "outputs": [
    {
     "name": "stderr",
     "output_type": "stream",
     "text": [
      "C:\\ProgramData\\Miniconda3\\envs\\loteca\\lib\\site-packages\\ipykernel_launcher.py:5: UserWarning: Boolean Series key will be reindexed to match DataFrame index.\n",
      "  \"\"\"\n",
      "C:\\ProgramData\\Miniconda3\\envs\\loteca\\lib\\site-packages\\ipykernel_launcher.py:12: UserWarning: Boolean Series key will be reindexed to match DataFrame index.\n",
      "  if sys.path[0] == '':\n"
     ]
    }
   ],
   "source": [
    "X = []\n",
    "y = []\n",
    "\n",
    "for ind_, row in df_.iterrows():\n",
    "    X.append(prepare(row['Home'], row['Away'], ind_))        \n",
    "    \n",
    "    ry = [1,0,0] if int(row['HG']) > int(row['AG']) else \\\n",
    "    [0,1,0] if int(row['HG']) == int(row['AG']) else \\\n",
    "    [0,0,1] if int(row['HG']) < int(row['AG']) else [0,0,0]\n",
    "\n",
    "    y.append(ry)\n",
    "\n",
    "y = np.array(y).reshape(np.array(y).shape[0],5)\n",
    "\n",
    "X = np.array(X)\n",
    "\n",
    "# Normalizar gols\n",
    "X[:,-4:-3] = X[:,-4:-3]/X[:,-4:-3].max()\n",
    "X[:,-3:-2] = X[:,-3:-2]/X[:,-3:-2].max()\n",
    "X[:,-2:-1] = X[:,-2:-1]/X[:,-2:-1].max()\n",
    "X[:,-1:] = X[:,-1:]/X[:,-1:].max()\n",
    "\n"
   ]
  },
  {
   "cell_type": "markdown",
   "metadata": {},
   "source": [
    "### Modelo"
   ]
  },
  {
   "cell_type": "code",
   "execution_count": 248,
   "metadata": {},
   "outputs": [],
   "source": [
    "from keras.models import Sequential\n",
    "from keras.layers import Dense, Activation, Flatten, Dropout\n",
    "\n",
    "model = Sequential()\n",
    "model.add(Dense(124, input_shape=(np.array(X).shape[1],), activation='relu'))\n",
    "model.add(Dropout(0.5))\n",
    "model.add(Dense(62, activation='relu'))\n",
    "model.add(Dropout(0.5))\n",
    "model.add(Dense(62, activation='relu'))\n",
    "model.add(Dropout(0.5))\n",
    "model.add(Dense(10, activation='relu'))\n",
    "# model.add(Dropout(0.5))\n",
    "# model.add(Flatten())\n",
    "model.add(Dense(5))\n",
    "model.add(Activation('sigmoid'))"
   ]
  },
  {
   "cell_type": "code",
   "execution_count": 249,
   "metadata": {},
   "outputs": [],
   "source": [
    "model.compile(optimizer='adam',\n",
    "              loss='binary_crossentropy',\n",
    "              metrics=['accuracy'])\n"
   ]
  },
  {
   "cell_type": "markdown",
   "metadata": {},
   "source": [
    "### Separar os datasets de treinamento e teste"
   ]
  },
  {
   "cell_type": "code",
   "execution_count": 250,
   "metadata": {},
   "outputs": [],
   "source": [
    "X_train, X_test, y_train, y_test = train_test_split(X, y, test_size=0.33, shuffle=True)"
   ]
  },
  {
   "cell_type": "markdown",
   "metadata": {},
   "source": [
    "### Treinar o modelo"
   ]
  },
  {
   "cell_type": "code",
   "execution_count": 251,
   "metadata": {},
   "outputs": [
    {
     "ename": "ValueError",
     "evalue": "Error when checking target: expected activation_10 to have shape (5,) but got array with shape (3,)",
     "output_type": "error",
     "traceback": [
      "\u001b[1;31m---------------------------------------------------------------------------\u001b[0m",
      "\u001b[1;31mValueError\u001b[0m                                Traceback (most recent call last)",
      "\u001b[1;32m<ipython-input-251-94dba563bdd6>\u001b[0m in \u001b[0;36m<module>\u001b[1;34m\u001b[0m\n\u001b[1;32m----> 1\u001b[1;33m \u001b[0mmodel\u001b[0m\u001b[1;33m.\u001b[0m\u001b[0mfit\u001b[0m\u001b[1;33m(\u001b[0m\u001b[0mX_train\u001b[0m\u001b[1;33m,\u001b[0m \u001b[0my_train\u001b[0m\u001b[1;33m,\u001b[0m \u001b[0mepochs\u001b[0m\u001b[1;33m=\u001b[0m\u001b[1;36m2000\u001b[0m\u001b[1;33m,\u001b[0m \u001b[0mbatch_size\u001b[0m\u001b[1;33m=\u001b[0m\u001b[1;36m4000\u001b[0m\u001b[1;33m)\u001b[0m\u001b[1;33m\u001b[0m\u001b[0m\n\u001b[0m",
      "\u001b[1;32mC:\\ProgramData\\Miniconda3\\envs\\loteca\\lib\\site-packages\\keras\\engine\\training.py\u001b[0m in \u001b[0;36mfit\u001b[1;34m(self, x, y, batch_size, epochs, verbose, callbacks, validation_split, validation_data, shuffle, class_weight, sample_weight, initial_epoch, steps_per_epoch, validation_steps, **kwargs)\u001b[0m\n\u001b[0;32m    950\u001b[0m             \u001b[0msample_weight\u001b[0m\u001b[1;33m=\u001b[0m\u001b[0msample_weight\u001b[0m\u001b[1;33m,\u001b[0m\u001b[1;33m\u001b[0m\u001b[0m\n\u001b[0;32m    951\u001b[0m             \u001b[0mclass_weight\u001b[0m\u001b[1;33m=\u001b[0m\u001b[0mclass_weight\u001b[0m\u001b[1;33m,\u001b[0m\u001b[1;33m\u001b[0m\u001b[0m\n\u001b[1;32m--> 952\u001b[1;33m             batch_size=batch_size)\n\u001b[0m\u001b[0;32m    953\u001b[0m         \u001b[1;31m# Prepare validation data.\u001b[0m\u001b[1;33m\u001b[0m\u001b[1;33m\u001b[0m\u001b[0m\n\u001b[0;32m    954\u001b[0m         \u001b[0mdo_validation\u001b[0m \u001b[1;33m=\u001b[0m \u001b[1;32mFalse\u001b[0m\u001b[1;33m\u001b[0m\u001b[0m\n",
      "\u001b[1;32mC:\\ProgramData\\Miniconda3\\envs\\loteca\\lib\\site-packages\\keras\\engine\\training.py\u001b[0m in \u001b[0;36m_standardize_user_data\u001b[1;34m(self, x, y, sample_weight, class_weight, check_array_lengths, batch_size)\u001b[0m\n\u001b[0;32m    787\u001b[0m                 \u001b[0mfeed_output_shapes\u001b[0m\u001b[1;33m,\u001b[0m\u001b[1;33m\u001b[0m\u001b[0m\n\u001b[0;32m    788\u001b[0m                 \u001b[0mcheck_batch_axis\u001b[0m\u001b[1;33m=\u001b[0m\u001b[1;32mFalse\u001b[0m\u001b[1;33m,\u001b[0m  \u001b[1;31m# Don't enforce the batch size.\u001b[0m\u001b[1;33m\u001b[0m\u001b[0m\n\u001b[1;32m--> 789\u001b[1;33m                 exception_prefix='target')\n\u001b[0m\u001b[0;32m    790\u001b[0m \u001b[1;33m\u001b[0m\u001b[0m\n\u001b[0;32m    791\u001b[0m             \u001b[1;31m# Generate sample-wise weight values given the `sample_weight` and\u001b[0m\u001b[1;33m\u001b[0m\u001b[1;33m\u001b[0m\u001b[0m\n",
      "\u001b[1;32mC:\\ProgramData\\Miniconda3\\envs\\loteca\\lib\\site-packages\\keras\\engine\\training_utils.py\u001b[0m in \u001b[0;36mstandardize_input_data\u001b[1;34m(data, names, shapes, check_batch_axis, exception_prefix)\u001b[0m\n\u001b[0;32m    136\u001b[0m                             \u001b[1;34m': expected '\u001b[0m \u001b[1;33m+\u001b[0m \u001b[0mnames\u001b[0m\u001b[1;33m[\u001b[0m\u001b[0mi\u001b[0m\u001b[1;33m]\u001b[0m \u001b[1;33m+\u001b[0m \u001b[1;34m' to have shape '\u001b[0m \u001b[1;33m+\u001b[0m\u001b[1;33m\u001b[0m\u001b[0m\n\u001b[0;32m    137\u001b[0m                             \u001b[0mstr\u001b[0m\u001b[1;33m(\u001b[0m\u001b[0mshape\u001b[0m\u001b[1;33m)\u001b[0m \u001b[1;33m+\u001b[0m \u001b[1;34m' but got array with shape '\u001b[0m \u001b[1;33m+\u001b[0m\u001b[1;33m\u001b[0m\u001b[0m\n\u001b[1;32m--> 138\u001b[1;33m                             str(data_shape))\n\u001b[0m\u001b[0;32m    139\u001b[0m     \u001b[1;32mreturn\u001b[0m \u001b[0mdata\u001b[0m\u001b[1;33m\u001b[0m\u001b[0m\n\u001b[0;32m    140\u001b[0m \u001b[1;33m\u001b[0m\u001b[0m\n",
      "\u001b[1;31mValueError\u001b[0m: Error when checking target: expected activation_10 to have shape (5,) but got array with shape (3,)"
     ]
    }
   ],
   "source": [
    "model.fit(X_train, y_train, epochs=2000, batch_size=4000)"
   ]
  },
  {
   "cell_type": "code",
   "execution_count": 225,
   "metadata": {},
   "outputs": [
    {
     "name": "stdout",
     "output_type": "stream",
     "text": [
      "3815/3815 [==============================] - 1s 179us/step\n"
     ]
    },
    {
     "data": {
      "text/plain": [
       "[1.7304257945339458, 0.6259502097944757]"
      ]
     },
     "execution_count": 225,
     "metadata": {},
     "output_type": "execute_result"
    }
   ],
   "source": [
    "model.evaluate(X_test, y_test, verbose=1)"
   ]
  },
  {
   "cell_type": "code",
   "execution_count": 226,
   "metadata": {},
   "outputs": [
    {
     "data": {
      "text/plain": [
       "array([[0.62420875, 0.15302078, 0.24175502]], dtype=float32)"
      ]
     },
     "execution_count": 226,
     "metadata": {},
     "output_type": "execute_result"
    }
   ],
   "source": [
    "model.predict(X_[0].reshape(1,1830))"
   ]
  },
  {
   "cell_type": "markdown",
   "metadata": {},
   "source": [
    "### Avaliar precisão"
   ]
  },
  {
   "cell_type": "code",
   "execution_count": 227,
   "metadata": {
    "scrolled": true
   },
   "outputs": [
    {
     "name": "stdout",
     "output_type": "stream",
     "text": [
      "47.0 %\n"
     ]
    }
   ],
   "source": [
    "dfx = df_[int(-df_.shape[0]/20):]\n",
    "\n",
    "ds = []\n",
    "\n",
    "X_ = X[-int(X.shape[0]/20):]\n",
    "\n",
    "prec = []\n",
    "\n",
    "i=0\n",
    "for idx, dfr in dfx.iterrows():\n",
    "\n",
    "    p = model.predict(X_[i].reshape(1,X_.shape[1]))\n",
    "    \n",
    "    i =+ 1\n",
    "    \n",
    "    if p[0,0] > p[0,1] and p[0,0] > p[0,2]:\n",
    "        px = 'H'\n",
    "        \n",
    "    if p[0,2] > p[0,1] and p[0,2] > p[0,0]:\n",
    "        px = 'A'\n",
    "        \n",
    "    if p[0,1] > p[0,0] and p[0,1] > p[0,2]:\n",
    "        px = 'D'\n",
    "    \n",
    "    prec.append(1 if px == dfr['Res'] else 0)\n",
    "    \n",
    "    dfr['S'] = 'G' if px == dfr['Res'] else 'P'\n",
    "    \n",
    "    ds.append(dfr)\n",
    "    \n",
    "dfs = pd.DataFrame(ds)\n",
    "\n",
    "print(round((abs(np.mean(prec))) * 100,0), '%')\n",
    "    "
   ]
  },
  {
   "cell_type": "code",
   "execution_count": 228,
   "metadata": {},
   "outputs": [
    {
     "data": {
      "text/html": [
       "<div>\n",
       "<style scoped>\n",
       "    .dataframe tbody tr th:only-of-type {\n",
       "        vertical-align: middle;\n",
       "    }\n",
       "\n",
       "    .dataframe tbody tr th {\n",
       "        vertical-align: top;\n",
       "    }\n",
       "\n",
       "    .dataframe thead th {\n",
       "        text-align: right;\n",
       "    }\n",
       "</style>\n",
       "<table border=\"1\" class=\"dataframe\">\n",
       "  <thead>\n",
       "    <tr style=\"text-align: right;\">\n",
       "      <th></th>\n",
       "      <th>Concurso</th>\n",
       "      <th>Jogo</th>\n",
       "      <th>HG</th>\n",
       "      <th>Home</th>\n",
       "      <th>S</th>\n",
       "      <th>Away</th>\n",
       "      <th>AG</th>\n",
       "      <th>Dia</th>\n",
       "      <th>Res</th>\n",
       "    </tr>\n",
       "  </thead>\n",
       "  <tbody>\n",
       "    <tr>\n",
       "      <th>10982</th>\n",
       "      <td>Concurso 785 (05/02/2018)</td>\n",
       "      <td>11</td>\n",
       "      <td>0</td>\n",
       "      <td>CRICIÚMA/SC</td>\n",
       "      <td>P</td>\n",
       "      <td>AVAÍ/SC</td>\n",
       "      <td>1</td>\n",
       "      <td>Domingo</td>\n",
       "      <td>A</td>\n",
       "    </tr>\n",
       "    <tr>\n",
       "      <th>10983</th>\n",
       "      <td>Concurso 785 (05/02/2018)</td>\n",
       "      <td>12</td>\n",
       "      <td>3</td>\n",
       "      <td>MONACO/FRA</td>\n",
       "      <td>G</td>\n",
       "      <td>LYON/FRA</td>\n",
       "      <td>2</td>\n",
       "      <td>Domingo</td>\n",
       "      <td>H</td>\n",
       "    </tr>\n",
       "    <tr>\n",
       "      <th>10984</th>\n",
       "      <td>Concurso 785 (05/02/2018)</td>\n",
       "      <td>13</td>\n",
       "      <td>5</td>\n",
       "      <td>ARSENAL/ING</td>\n",
       "      <td>G</td>\n",
       "      <td>EVERTON/ING</td>\n",
       "      <td>1</td>\n",
       "      <td>Sábado</td>\n",
       "      <td>H</td>\n",
       "    </tr>\n",
       "    <tr>\n",
       "      <th>10985</th>\n",
       "      <td>Concurso 785 (05/02/2018)</td>\n",
       "      <td>14</td>\n",
       "      <td>2</td>\n",
       "      <td>LIVERPOOL/ING</td>\n",
       "      <td>P</td>\n",
       "      <td>TOTTENHAM/ING</td>\n",
       "      <td>2</td>\n",
       "      <td>Domingo</td>\n",
       "      <td>D</td>\n",
       "    </tr>\n",
       "    <tr>\n",
       "      <th>10986</th>\n",
       "      <td>Concurso 786 (14/02/2018)</td>\n",
       "      <td>1</td>\n",
       "      <td>0</td>\n",
       "      <td>MIRASSOL/SP</td>\n",
       "      <td>P</td>\n",
       "      <td>PALMEIRAS/SP</td>\n",
       "      <td>2</td>\n",
       "      <td>Sábado</td>\n",
       "      <td>A</td>\n",
       "    </tr>\n",
       "  </tbody>\n",
       "</table>\n",
       "</div>"
      ],
      "text/plain": [
       "                        Concurso Jogo  HG           Home  S           Away  \\\n",
       "10982  Concurso 785 (05/02/2018)   11   0    CRICIÚMA/SC  P        AVAÍ/SC   \n",
       "10983  Concurso 785 (05/02/2018)   12   3     MONACO/FRA  G       LYON/FRA   \n",
       "10984  Concurso 785 (05/02/2018)   13   5    ARSENAL/ING  G    EVERTON/ING   \n",
       "10985  Concurso 785 (05/02/2018)   14   2  LIVERPOOL/ING  P  TOTTENHAM/ING   \n",
       "10986  Concurso 786 (14/02/2018)    1   0    MIRASSOL/SP  P   PALMEIRAS/SP   \n",
       "\n",
       "       AG       Dia Res  \n",
       "10982   1  Domingo    A  \n",
       "10983   2  Domingo    H  \n",
       "10984   1   Sábado    H  \n",
       "10985   2  Domingo    D  \n",
       "10986   2   Sábado    A  "
      ]
     },
     "execution_count": 228,
     "metadata": {},
     "output_type": "execute_result"
    }
   ],
   "source": [
    "dfs.head()"
   ]
  },
  {
   "cell_type": "code",
   "execution_count": 229,
   "metadata": {},
   "outputs": [
    {
     "data": {
      "text/plain": [
       "Concurso                   S\n",
       "Concurso 785 (05/02/2018)  G     2\n",
       "Concurso 786 (14/02/2018)  G     9\n",
       "Concurso 787 (20/02/2018)  G     5\n",
       "Concurso 788 (26/02/2018)  G     7\n",
       "Concurso 789 (05/03/2018)  G     6\n",
       "Concurso 790 (12/03/2018)  G     3\n",
       "Concurso 791 (19/03/2018)  G     5\n",
       "Concurso 792 (26/03/2018)  G     9\n",
       "Concurso 793 (02/04/2018)  G     7\n",
       "Concurso 794 (09/04/2018)  G     7\n",
       "Concurso 795 (16/04/2018)  G    11\n",
       "Concurso 796 (23/04/2018)  G     6\n",
       "Concurso 797 (30/04/2018)  G     3\n",
       "Concurso 798 (07/05/2018)  G     6\n",
       "Concurso 799 (14/05/2018)  G     8\n",
       "Concurso 800 (21/05/2018)  G     8\n",
       "Concurso 801 (28/05/2018)  G     5\n",
       "Concurso 802 (04/06/2018)  G     5\n",
       "Concurso 803 (11/06/2018)  G     6\n",
       "Concurso 804 (18/06/2018)  G     5\n",
       "Concurso 805 (25/06/2018)  G     8\n",
       "Concurso 806 (28/06/2018)  G     1\n",
       "Concurso 807 (02/07/2018)  G     6\n",
       "Concurso 808 (09/07/2018)  G     7\n",
       "Concurso 809 (16/07/2018)  G     6\n",
       "Concurso 810 (23/07/2018)  G    10\n",
       "Concurso 811 (30/07/2018)  G     8\n",
       "Concurso 812 (06/08/2018)  G     5\n",
       "Concurso 813 (13/08/2018)  G     7\n",
       "Concurso 814 (20/08/2018)  G     7\n",
       "Concurso 815 (27/08/2018)  G    10\n",
       "Concurso 816 (03/09/2018)  G     6\n",
       "Concurso 817 (10/09/2018)  G     9\n",
       "Concurso 818 (17/09/2018)  G     8\n",
       "Concurso 819 (25/09/2018)  G     7\n",
       "Concurso 820 (01/10/2018)  G     6\n",
       "Concurso 821 (08/10/2018)  G     8\n",
       "Concurso 822 (15/10/2018)  G     9\n",
       "Concurso 823 (22/10/2018)  G     7\n",
       "Concurso 824 (29/10/2018)  G     7\n",
       "Concurso 825 (05/11/2018)  G     5\n",
       "Name: S, dtype: int64"
      ]
     },
     "execution_count": 229,
     "metadata": {},
     "output_type": "execute_result"
    }
   ],
   "source": [
    "dfs[dfs['S']=='G'].groupby(['Concurso'])['S'].value_counts()"
   ]
  },
  {
   "cell_type": "code",
   "execution_count": 230,
   "metadata": {},
   "outputs": [
    {
     "data": {
      "text/plain": [
       "<BarContainer object of 2 artists>"
      ]
     },
     "execution_count": 230,
     "metadata": {},
     "output_type": "execute_result"
    },
    {
     "data": {
      "image/png": "[encoded data removed]",
      "text/plain": [
       "<Figure size 432x288 with 1 Axes>"
      ]
     },
     "metadata": {
      "needs_background": "light"
     },
     "output_type": "display_data"
    }
   ],
   "source": [
    "plt.bar(dfs['S'].value_counts().keys(),dfs['S'].value_counts())"
   ]
  },
  {
   "cell_type": "markdown",
   "metadata": {},
   "source": [
    "### Lista de times"
   ]
  },
  {
   "cell_type": "code",
   "execution_count": null,
   "metadata": {},
   "outputs": [],
   "source": [
    "vocab"
   ]
  },
  {
   "cell_type": "markdown",
   "metadata": {},
   "source": [
    "### Realizar previsão"
   ]
  },
  {
   "cell_type": "code",
   "execution_count": 79,
   "metadata": {},
   "outputs": [
    {
     "ename": "TypeError",
     "evalue": "prepare() missing 1 required positional argument: 'pos'",
     "output_type": "error",
     "traceback": [
      "\u001b[1;31m---------------------------------------------------------------------------\u001b[0m",
      "\u001b[1;31mTypeError\u001b[0m                                 Traceback (most recent call last)",
      "\u001b[1;32m<ipython-input-79-69135cf6f4f8>\u001b[0m in \u001b[0;36m<module>\u001b[1;34m\u001b[0m\n\u001b[0;32m      2\u001b[0m \u001b[0mA\u001b[0m \u001b[1;33m=\u001b[0m \u001b[1;34m'SANTOS/SP'\u001b[0m\u001b[1;33m\u001b[0m\u001b[0m\n\u001b[0;32m      3\u001b[0m \u001b[1;33m\u001b[0m\u001b[0m\n\u001b[1;32m----> 4\u001b[1;33m \u001b[0mprep\u001b[0m \u001b[1;33m=\u001b[0m \u001b[1;33m[\u001b[0m\u001b[0mprepare\u001b[0m\u001b[1;33m(\u001b[0m\u001b[0mH\u001b[0m\u001b[1;33m,\u001b[0m\u001b[0mA\u001b[0m\u001b[1;33m)\u001b[0m\u001b[1;33m]\u001b[0m\u001b[1;33m\u001b[0m\u001b[0m\n\u001b[0m\u001b[0;32m      5\u001b[0m \u001b[1;33m\u001b[0m\u001b[0m\n\u001b[0;32m      6\u001b[0m \u001b[0mprepx\u001b[0m \u001b[1;33m=\u001b[0m \u001b[0mnp\u001b[0m\u001b[1;33m.\u001b[0m\u001b[0marray\u001b[0m\u001b[1;33m(\u001b[0m\u001b[0mprep\u001b[0m\u001b[1;33m)\u001b[0m\u001b[1;33m.\u001b[0m\u001b[0mreshape\u001b[0m\u001b[1;33m(\u001b[0m\u001b[0mnp\u001b[0m\u001b[1;33m.\u001b[0m\u001b[0marray\u001b[0m\u001b[1;33m(\u001b[0m\u001b[0mprep\u001b[0m\u001b[1;33m)\u001b[0m\u001b[1;33m.\u001b[0m\u001b[0mshape\u001b[0m\u001b[1;33m[\u001b[0m\u001b[1;36m0\u001b[0m\u001b[1;33m]\u001b[0m\u001b[1;33m,\u001b[0m\u001b[0mnp\u001b[0m\u001b[1;33m.\u001b[0m\u001b[0marray\u001b[0m\u001b[1;33m(\u001b[0m\u001b[0mprep\u001b[0m\u001b[1;33m)\u001b[0m\u001b[1;33m.\u001b[0m\u001b[0mshape\u001b[0m\u001b[1;33m[\u001b[0m\u001b[1;36m1\u001b[0m\u001b[1;33m]\u001b[0m\u001b[1;33m*\u001b[0m\u001b[1;36m2\u001b[0m\u001b[1;33m)\u001b[0m\u001b[1;33m\u001b[0m\u001b[0m\n",
      "\u001b[1;31mTypeError\u001b[0m: prepare() missing 1 required positional argument: 'pos'"
     ]
    }
   ],
   "source": [
    "H = 'ATLÉTICO/MG'\n",
    "A = 'SANTOS/SP'\n",
    "\n",
    "prep = [prepare(H,A)]\n",
    "    \n",
    "prepx = np.array(prep).reshape(np.array(prep).shape[0],np.array(prep).shape[1]*2)\n",
    "    \n",
    "p = model.predict(prepx)\n",
    "\n",
    "\n",
    "print(p)\n"
   ]
  },
  {
   "cell_type": "code",
   "execution_count": null,
   "metadata": {},
   "outputs": [],
   "source": []
  }
 ],
 "metadata": {
  "kernelspec": {
   "display_name": "Python 3",
   "language": "python",
   "name": "python3"
  },
  "language_info": {
   "codemirror_mode": {
    "name": "ipython",
    "version": 3
   },
   "file_extension": ".py",
   "mimetype": "text/x-python",
   "name": "python",
   "nbconvert_exporter": "python",
   "pygments_lexer": "ipython3",
   "version": "3.6.6"
  }
 },
 "nbformat": 4,
 "nbformat_minor": 2
}
