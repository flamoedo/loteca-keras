{
 "cells": [
  {
   "cell_type": "code",
   "execution_count": 118,
   "metadata": {},
   "outputs": [],
   "source": [
    "import keras\n",
    "import pandas as pd\n",
    "import numpy as np\n",
    "import matplotlib.pyplot as plt\n",
    "from sklearn.model_selection import train_test_split"
   ]
  },
  {
   "cell_type": "code",
   "execution_count": 2,
   "metadata": {},
   "outputs": [],
   "source": [
    "df = pd.read_csv(\"BRA.csv\")"
   ]
  },
  {
   "cell_type": "code",
   "execution_count": 3,
   "metadata": {},
   "outputs": [
    {
     "data": {
      "text/html": [
       "<div>\n",
       "<style scoped>\n",
       "    .dataframe tbody tr th:only-of-type {\n",
       "        vertical-align: middle;\n",
       "    }\n",
       "\n",
       "    .dataframe tbody tr th {\n",
       "        vertical-align: top;\n",
       "    }\n",
       "\n",
       "    .dataframe thead th {\n",
       "        text-align: right;\n",
       "    }\n",
       "</style>\n",
       "<table border=\"1\" class=\"dataframe\">\n",
       "  <thead>\n",
       "    <tr style=\"text-align: right;\">\n",
       "      <th></th>\n",
       "      <th>Country</th>\n",
       "      <th>League</th>\n",
       "      <th>Season</th>\n",
       "      <th>Date</th>\n",
       "      <th>Time</th>\n",
       "      <th>Home</th>\n",
       "      <th>Away</th>\n",
       "      <th>HG</th>\n",
       "      <th>AG</th>\n",
       "      <th>Res</th>\n",
       "      <th>PH</th>\n",
       "      <th>PD</th>\n",
       "      <th>PA</th>\n",
       "      <th>MaxH</th>\n",
       "      <th>MaxD</th>\n",
       "      <th>MaxA</th>\n",
       "      <th>AvgH</th>\n",
       "      <th>AvgD</th>\n",
       "      <th>AvgA</th>\n",
       "    </tr>\n",
       "  </thead>\n",
       "  <tbody>\n",
       "    <tr>\n",
       "      <th>0</th>\n",
       "      <td>Brazil</td>\n",
       "      <td>Serie A</td>\n",
       "      <td>2012</td>\n",
       "      <td>19/05/12</td>\n",
       "      <td>22:30</td>\n",
       "      <td>Palmeiras</td>\n",
       "      <td>Portuguesa</td>\n",
       "      <td>1.0</td>\n",
       "      <td>1.0</td>\n",
       "      <td>D</td>\n",
       "      <td>1.75</td>\n",
       "      <td>3.86</td>\n",
       "      <td>5.25</td>\n",
       "      <td>1.76</td>\n",
       "      <td>3.87</td>\n",
       "      <td>5.31</td>\n",
       "      <td>1.69</td>\n",
       "      <td>3.50</td>\n",
       "      <td>4.90</td>\n",
       "    </tr>\n",
       "    <tr>\n",
       "      <th>1</th>\n",
       "      <td>Brazil</td>\n",
       "      <td>Serie A</td>\n",
       "      <td>2012</td>\n",
       "      <td>19/05/12</td>\n",
       "      <td>22:30</td>\n",
       "      <td>Sport Recife</td>\n",
       "      <td>Flamengo RJ</td>\n",
       "      <td>1.0</td>\n",
       "      <td>1.0</td>\n",
       "      <td>D</td>\n",
       "      <td>2.83</td>\n",
       "      <td>3.39</td>\n",
       "      <td>2.68</td>\n",
       "      <td>2.83</td>\n",
       "      <td>3.42</td>\n",
       "      <td>2.70</td>\n",
       "      <td>2.59</td>\n",
       "      <td>3.23</td>\n",
       "      <td>2.58</td>\n",
       "    </tr>\n",
       "    <tr>\n",
       "      <th>2</th>\n",
       "      <td>Brazil</td>\n",
       "      <td>Serie A</td>\n",
       "      <td>2012</td>\n",
       "      <td>20/05/12</td>\n",
       "      <td>01:00</td>\n",
       "      <td>Figueirense</td>\n",
       "      <td>Nautico</td>\n",
       "      <td>2.0</td>\n",
       "      <td>1.0</td>\n",
       "      <td>H</td>\n",
       "      <td>1.60</td>\n",
       "      <td>4.04</td>\n",
       "      <td>6.72</td>\n",
       "      <td>1.67</td>\n",
       "      <td>4.05</td>\n",
       "      <td>7.22</td>\n",
       "      <td>1.59</td>\n",
       "      <td>3.67</td>\n",
       "      <td>5.64</td>\n",
       "    </tr>\n",
       "    <tr>\n",
       "      <th>3</th>\n",
       "      <td>Brazil</td>\n",
       "      <td>Serie A</td>\n",
       "      <td>2012</td>\n",
       "      <td>20/05/12</td>\n",
       "      <td>20:00</td>\n",
       "      <td>Botafogo RJ</td>\n",
       "      <td>Sao Paulo</td>\n",
       "      <td>4.0</td>\n",
       "      <td>2.0</td>\n",
       "      <td>H</td>\n",
       "      <td>2.49</td>\n",
       "      <td>3.35</td>\n",
       "      <td>3.15</td>\n",
       "      <td>2.49</td>\n",
       "      <td>3.39</td>\n",
       "      <td>3.15</td>\n",
       "      <td>2.35</td>\n",
       "      <td>3.26</td>\n",
       "      <td>2.84</td>\n",
       "    </tr>\n",
       "    <tr>\n",
       "      <th>4</th>\n",
       "      <td>Brazil</td>\n",
       "      <td>Serie A</td>\n",
       "      <td>2012</td>\n",
       "      <td>20/05/12</td>\n",
       "      <td>20:00</td>\n",
       "      <td>Corinthians</td>\n",
       "      <td>Fluminense</td>\n",
       "      <td>0.0</td>\n",
       "      <td>1.0</td>\n",
       "      <td>A</td>\n",
       "      <td>1.96</td>\n",
       "      <td>3.53</td>\n",
       "      <td>4.41</td>\n",
       "      <td>1.96</td>\n",
       "      <td>3.53</td>\n",
       "      <td>4.41</td>\n",
       "      <td>1.89</td>\n",
       "      <td>3.33</td>\n",
       "      <td>3.89</td>\n",
       "    </tr>\n",
       "  </tbody>\n",
       "</table>\n",
       "</div>"
      ],
      "text/plain": [
       "  Country   League  Season      Date   Time          Home         Away   HG  \\\n",
       "0  Brazil  Serie A    2012  19/05/12  22:30     Palmeiras   Portuguesa  1.0   \n",
       "1  Brazil  Serie A    2012  19/05/12  22:30  Sport Recife  Flamengo RJ  1.0   \n",
       "2  Brazil  Serie A    2012  20/05/12  01:00   Figueirense      Nautico  2.0   \n",
       "3  Brazil  Serie A    2012  20/05/12  20:00   Botafogo RJ    Sao Paulo  4.0   \n",
       "4  Brazil  Serie A    2012  20/05/12  20:00   Corinthians   Fluminense  0.0   \n",
       "\n",
       "    AG Res    PH    PD    PA  MaxH  MaxD  MaxA  AvgH  AvgD  AvgA  \n",
       "0  1.0   D  1.75  3.86  5.25  1.76  3.87  5.31  1.69  3.50  4.90  \n",
       "1  1.0   D  2.83  3.39  2.68  2.83  3.42  2.70  2.59  3.23  2.58  \n",
       "2  1.0   H  1.60  4.04  6.72  1.67  4.05  7.22  1.59  3.67  5.64  \n",
       "3  2.0   H  2.49  3.35  3.15  2.49  3.39  3.15  2.35  3.26  2.84  \n",
       "4  1.0   A  1.96  3.53  4.41  1.96  3.53  4.41  1.89  3.33  3.89  "
      ]
     },
     "execution_count": 3,
     "metadata": {},
     "output_type": "execute_result"
    }
   ],
   "source": [
    "df.head()"
   ]
  },
  {
   "cell_type": "code",
   "execution_count": 4,
   "metadata": {},
   "outputs": [
    {
     "data": {
      "text/plain": [
       "<BarContainer object of 3 artists>"
      ]
     },
     "execution_count": 4,
     "metadata": {},
     "output_type": "execute_result"
    },
    {
     "data": {
      "image/png": "[encoded data removed]",
      "text/plain": [
       "<Figure size 432x288 with 1 Axes>"
      ]
     },
     "metadata": {
      "needs_background": "light"
     },
     "output_type": "display_data"
    }
   ],
   "source": [
    "plt.bar(df['Res'].value_counts().keys(),df['Res'].value_counts())"
   ]
  },
  {
   "cell_type": "code",
   "execution_count": 5,
   "metadata": {},
   "outputs": [],
   "source": [
    "vocab = df['Home'].unique()"
   ]
  },
  {
   "cell_type": "code",
   "execution_count": 6,
   "metadata": {},
   "outputs": [],
   "source": [
    "word2idx = {word: i for i, word in enumerate(vocab)}"
   ]
  },
  {
   "cell_type": "code",
   "execution_count": 7,
   "metadata": {},
   "outputs": [],
   "source": [
    "def word2vector(word):\n",
    "    m = np.zeros(len(word2idx))\n",
    "    m[word2idx.get(word)] = 1\n",
    "    return m"
   ]
  },
  {
   "cell_type": "code",
   "execution_count": 131,
   "metadata": {},
   "outputs": [],
   "source": [
    "# Transforma os dois times em um vetor com o flag do time correspondente\n",
    "def prepare(H,A):\n",
    "    vec = [word2vector(H), word2vector(A)]\n",
    "#     return [word2vector(H), word2vector(A)]\n",
    "    return np.array(vec).reshape(np.array(vec).shape[1]*2)"
   ]
  },
  {
   "cell_type": "code",
   "execution_count": 132,
   "metadata": {},
   "outputs": [],
   "source": [
    "y = []\n",
    "\n",
    "for d in df[['Res']]['Res']:\n",
    "    if d == 'H':\n",
    "        y.append([1,0,0])\n",
    "    if d == 'D':\n",
    "        y.append([0,1,0])\n",
    "    if d == 'A':\n",
    "        y.append([0,0,1])\n",
    "    if d != 'H' and d != 'A' and d != 'D':\n",
    "        y.append([0,0,0])"
   ]
  },
  {
   "cell_type": "code",
   "execution_count": 133,
   "metadata": {},
   "outputs": [],
   "source": [
    "y1 = np.array(y).reshape(np.array(y).shape[0],3)"
   ]
  },
  {
   "cell_type": "code",
   "execution_count": 134,
   "metadata": {},
   "outputs": [],
   "source": [
    "X = []\n",
    "\n",
    "for _, row in df.iterrows():\n",
    "    X.append(prepare(row['Home'], row['Away']))   "
   ]
  },
  {
   "cell_type": "code",
   "execution_count": 135,
   "metadata": {},
   "outputs": [],
   "source": [
    "X1 = np.array(X).reshape(np.array(X).shape[0],62)"
   ]
  },
  {
   "cell_type": "code",
   "execution_count": 166,
   "metadata": {},
   "outputs": [],
   "source": [
    "from keras.models import Sequential\n",
    "from keras.layers import Dense, Activation, Flatten, Dropout\n",
    "\n",
    "model = Sequential()\n",
    "model.add(Dense(31, input_dim=62, activation='relu'))\n",
    "model.add(Dropout(0.5))\n",
    "model.add(Dense(62, activation='relu'))\n",
    "model.add(Dropout(0.5))\n",
    "model.add(Dense(10, activation='relu'))\n",
    "# model.add(Dropout(0.5))\n",
    "# model.add(Flatten())\n",
    "model.add(Dense(3))\n",
    "model.add(Activation('softmax'))\n",
    "\n"
   ]
  },
  {
   "cell_type": "code",
   "execution_count": 167,
   "metadata": {},
   "outputs": [],
   "source": [
    "# For a multi-class classification problem\n",
    "# model.compile(optimizer='adam',\n",
    "#               loss='categorical_crossentropy',\n",
    "#               metrics=['accuracy'])\n",
    "\n",
    "\n",
    "# For a binary classification problem\n",
    "model.compile(optimizer='rmsprop',\n",
    "              loss='binary_crossentropy',\n",
    "              metrics=['accuracy'])\n"
   ]
  },
  {
   "cell_type": "code",
   "execution_count": 168,
   "metadata": {},
   "outputs": [],
   "source": [
    "X_train, X_test, y_train, y_test = train_test_split(X1, y1, test_size=0.33, shuffle=True)"
   ]
  },
  {
   "cell_type": "code",
   "execution_count": 172,
   "metadata": {
    "scrolled": false
   },
   "outputs": [
    {
     "name": "stdout",
     "output_type": "stream",
     "text": [
      "Epoch 1/20\n",
      "1727/1727 [==============================] - 0s 28us/step - loss: 0.6103 - acc: 0.6667\n",
      "Epoch 2/20\n",
      "1727/1727 [==============================] - 0s 25us/step - loss: 0.6087 - acc: 0.6694\n",
      "Epoch 3/20\n",
      "1727/1727 [==============================] - 0s 19us/step - loss: 0.6100 - acc: 0.6699\n",
      "Epoch 4/20\n",
      "1727/1727 [==============================] - 0s 19us/step - loss: 0.6080 - acc: 0.6709\n",
      "Epoch 5/20\n",
      "1727/1727 [==============================] - 0s 18us/step - loss: 0.6065 - acc: 0.6728\n",
      "Epoch 6/20\n",
      "1727/1727 [==============================] - 0s 20us/step - loss: 0.6083 - acc: 0.6680\n",
      "Epoch 7/20\n",
      "1727/1727 [==============================] - 0s 19us/step - loss: 0.6076 - acc: 0.6765\n",
      "Epoch 8/20\n",
      "1727/1727 [==============================] - 0s 20us/step - loss: 0.6053 - acc: 0.6796\n",
      "Epoch 9/20\n",
      "1727/1727 [==============================] - 0s 19us/step - loss: 0.6047 - acc: 0.6790\n",
      "Epoch 10/20\n",
      "1727/1727 [==============================] - 0s 20us/step - loss: 0.6056 - acc: 0.6742\n",
      "Epoch 11/20\n",
      "1727/1727 [==============================] - 0s 17us/step - loss: 0.6052 - acc: 0.6813\n",
      "Epoch 12/20\n",
      "1727/1727 [==============================] - 0s 19us/step - loss: 0.6057 - acc: 0.6806\n",
      "Epoch 13/20\n",
      "1727/1727 [==============================] - 0s 22us/step - loss: 0.6028 - acc: 0.6790\n",
      "Epoch 14/20\n",
      "1727/1727 [==============================] - 0s 22us/step - loss: 0.6032 - acc: 0.6848\n",
      "Epoch 15/20\n",
      "1727/1727 [==============================] - 0s 20us/step - loss: 0.6036 - acc: 0.6809\n",
      "Epoch 16/20\n",
      "1727/1727 [==============================] - 0s 18us/step - loss: 0.6049 - acc: 0.6781\n",
      "Epoch 17/20\n",
      "1727/1727 [==============================] - 0s 19us/step - loss: 0.6053 - acc: 0.6775\n",
      "Epoch 18/20\n",
      "1727/1727 [==============================] - 0s 23us/step - loss: 0.6025 - acc: 0.6840\n",
      "Epoch 19/20\n",
      "1727/1727 [==============================] - 0s 18us/step - loss: 0.6024 - acc: 0.6838\n",
      "Epoch 20/20\n",
      "1727/1727 [==============================] - 0s 19us/step - loss: 0.6024 - acc: 0.6850\n"
     ]
    },
    {
     "data": {
      "text/plain": [
       "<keras.callbacks.History at 0x1ea0a629b00>"
      ]
     },
     "execution_count": 172,
     "metadata": {},
     "output_type": "execute_result"
    }
   ],
   "source": [
    "model.fit(X_train, y_train, epochs=20, batch_size=500)"
   ]
  },
  {
   "cell_type": "code",
   "execution_count": 173,
   "metadata": {},
   "outputs": [],
   "source": [
    "score = model.evaluate(X_test, y_test, verbose=0)"
   ]
  },
  {
   "cell_type": "code",
   "execution_count": 174,
   "metadata": {},
   "outputs": [
    {
     "data": {
      "text/plain": [
       "[0.5961755382622911, 0.6827073813604078]"
      ]
     },
     "execution_count": 174,
     "metadata": {},
     "output_type": "execute_result"
    }
   ],
   "source": [
    "score"
   ]
  },
  {
   "cell_type": "code",
   "execution_count": 170,
   "metadata": {},
   "outputs": [],
   "source": [
    "H = 'Vasco'\n",
    "A = 'Palmeiras'\n",
    "x = np.array([word2vector(H), word2vector(A)]).reshape(1,62)\n",
    "p = model.predict(x, batch_size=None, verbose=0, steps=None)"
   ]
  },
  {
   "cell_type": "code",
   "execution_count": 171,
   "metadata": {},
   "outputs": [
    {
     "data": {
      "text/plain": [
       "array([[0.44353446, 0.28314617, 0.27331936]], dtype=float32)"
      ]
     },
     "execution_count": 171,
     "metadata": {},
     "output_type": "execute_result"
    }
   ],
   "source": [
    "p"
   ]
  },
  {
   "cell_type": "code",
   "execution_count": null,
   "metadata": {},
   "outputs": [],
   "source": []
  }
 ],
 "metadata": {
  "kernelspec": {
   "display_name": "Python 3",
   "language": "python",
   "name": "python3"
  },
  "language_info": {
   "codemirror_mode": {
    "name": "ipython",
    "version": 3
   },
   "file_extension": ".py",
   "mimetype": "text/x-python",
   "name": "python",
   "nbconvert_exporter": "python",
   "pygments_lexer": "ipython3",
   "version": "3.6.6"
  }
 },
 "nbformat": 4,
 "nbformat_minor": 2
}
