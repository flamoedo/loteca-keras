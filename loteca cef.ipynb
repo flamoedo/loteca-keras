{
 "cells": [
  {
   "cell_type": "markdown",
   "metadata": {},
   "source": [
    "# Loteca"
   ]
  },
  {
   "cell_type": "code",
   "execution_count": 1,
   "metadata": {},
   "outputs": [],
   "source": [
    "import pandas as pd\n",
    "import numpy as np\n",
    "from sklearn.model_selection import train_test_split\n",
    "import matplotlib.pyplot as plt"
   ]
  },
  {
   "cell_type": "markdown",
   "metadata": {},
   "source": [
    "### Ler arquivo"
   ]
  },
  {
   "cell_type": "code",
   "execution_count": 2,
   "metadata": {},
   "outputs": [],
   "source": [
    "df = np.load('arquivo.npy')"
   ]
  },
  {
   "cell_type": "code",
   "execution_count": 3,
   "metadata": {},
   "outputs": [
    {
     "data": {
      "text/plain": [
       "array([['Concurso 1 (18/02/2002)', '1', '2', ..., '4', 'Domingo ', ''],\n",
       "       ['Concurso 1 (18/02/2002)', '2', '3', ..., '0', 'Domingo ', ''],\n",
       "       ['Concurso 1 (18/02/2002)', '3', '2', ..., '1', 'Domingo ', ''],\n",
       "       ...,\n",
       "       ['Concurso 826 (12/11/2018)', '12', '0', ..., '0', 'Domingo ', ''],\n",
       "       ['Concurso 826 (12/11/2018)', '13', '0', ..., '0', 'Domingo ', ''],\n",
       "       ['Concurso 826 (12/11/2018)', '14', '0', ..., '0', 'Domingo ', '']],\n",
       "      dtype='<U32')"
      ]
     },
     "execution_count": 3,
     "metadata": {},
     "output_type": "execute_result"
    }
   ],
   "source": [
    "df"
   ]
  },
  {
   "cell_type": "code",
   "execution_count": 4,
   "metadata": {},
   "outputs": [],
   "source": [
    "for i in range(len(df)):\n",
    "    df[i,8] = 'H' if (int(df[i,2]) - int(df[i,6])) > 0 else 'A' if (int(df[i,2]) - int(df[i,6])) < 0 else 'D'\n"
   ]
  },
  {
   "cell_type": "code",
   "execution_count": 5,
   "metadata": {},
   "outputs": [],
   "source": [
    "df_ = pd.DataFrame(df,columns=['Concurso','Jogo','HG','Home','S','Away','AG','Dia','Res'])"
   ]
  },
  {
   "cell_type": "code",
   "execution_count": 6,
   "metadata": {},
   "outputs": [
    {
     "data": {
      "text/html": [
       "<div>\n",
       "<style scoped>\n",
       "    .dataframe tbody tr th:only-of-type {\n",
       "        vertical-align: middle;\n",
       "    }\n",
       "\n",
       "    .dataframe tbody tr th {\n",
       "        vertical-align: top;\n",
       "    }\n",
       "\n",
       "    .dataframe thead th {\n",
       "        text-align: right;\n",
       "    }\n",
       "</style>\n",
       "<table border=\"1\" class=\"dataframe\">\n",
       "  <thead>\n",
       "    <tr style=\"text-align: right;\">\n",
       "      <th></th>\n",
       "      <th>Concurso</th>\n",
       "      <th>Jogo</th>\n",
       "      <th>HG</th>\n",
       "      <th>Home</th>\n",
       "      <th>S</th>\n",
       "      <th>Away</th>\n",
       "      <th>AG</th>\n",
       "      <th>Dia</th>\n",
       "      <th>Res</th>\n",
       "    </tr>\n",
       "  </thead>\n",
       "  <tbody>\n",
       "    <tr>\n",
       "      <th>0</th>\n",
       "      <td>Concurso 1 (18/02/2002)</td>\n",
       "      <td>1</td>\n",
       "      <td>2</td>\n",
       "      <td>FLAMENGO/RJ</td>\n",
       "      <td></td>\n",
       "      <td>S. PAULO/SP</td>\n",
       "      <td>4</td>\n",
       "      <td>Domingo</td>\n",
       "      <td>A</td>\n",
       "    </tr>\n",
       "    <tr>\n",
       "      <th>1</th>\n",
       "      <td>Concurso 1 (18/02/2002)</td>\n",
       "      <td>2</td>\n",
       "      <td>3</td>\n",
       "      <td>VASCO/RJ</td>\n",
       "      <td></td>\n",
       "      <td>AMERICANO/RJ</td>\n",
       "      <td>0</td>\n",
       "      <td>Domingo</td>\n",
       "      <td>H</td>\n",
       "    </tr>\n",
       "    <tr>\n",
       "      <th>2</th>\n",
       "      <td>Concurso 1 (18/02/2002)</td>\n",
       "      <td>3</td>\n",
       "      <td>2</td>\n",
       "      <td>SANTOS/SP</td>\n",
       "      <td></td>\n",
       "      <td>SÃO CAETANO/SP</td>\n",
       "      <td>1</td>\n",
       "      <td>Domingo</td>\n",
       "      <td>H</td>\n",
       "    </tr>\n",
       "    <tr>\n",
       "      <th>3</th>\n",
       "      <td>Concurso 1 (18/02/2002)</td>\n",
       "      <td>4</td>\n",
       "      <td>1</td>\n",
       "      <td>P. DESPORTOS/SP</td>\n",
       "      <td></td>\n",
       "      <td>CORINTHIANS/SP</td>\n",
       "      <td>4</td>\n",
       "      <td>Domingo</td>\n",
       "      <td>A</td>\n",
       "    </tr>\n",
       "    <tr>\n",
       "      <th>4</th>\n",
       "      <td>Concurso 1 (18/02/2002)</td>\n",
       "      <td>5</td>\n",
       "      <td>7</td>\n",
       "      <td>CRUZEIRO/MG</td>\n",
       "      <td></td>\n",
       "      <td>AMÉRICA/MG</td>\n",
       "      <td>0</td>\n",
       "      <td>Sábado</td>\n",
       "      <td>H</td>\n",
       "    </tr>\n",
       "  </tbody>\n",
       "</table>\n",
       "</div>"
      ],
      "text/plain": [
       "                  Concurso Jogo HG             Home  S            Away AG  \\\n",
       "0  Concurso 1 (18/02/2002)    1  2      FLAMENGO/RJ        S. PAULO/SP  4   \n",
       "1  Concurso 1 (18/02/2002)    2  3         VASCO/RJ       AMERICANO/RJ  0   \n",
       "2  Concurso 1 (18/02/2002)    3  2        SANTOS/SP     SÃO CAETANO/SP  1   \n",
       "3  Concurso 1 (18/02/2002)    4  1  P. DESPORTOS/SP     CORINTHIANS/SP  4   \n",
       "4  Concurso 1 (18/02/2002)    5  7      CRUZEIRO/MG         AMÉRICA/MG  0   \n",
       "\n",
       "        Dia Res  \n",
       "0  Domingo    A  \n",
       "1  Domingo    H  \n",
       "2  Domingo    H  \n",
       "3  Domingo    A  \n",
       "4   Sábado    H  "
      ]
     },
     "execution_count": 6,
     "metadata": {},
     "output_type": "execute_result"
    }
   ],
   "source": [
    "df_.head()"
   ]
  },
  {
   "cell_type": "markdown",
   "metadata": {},
   "source": [
    "### Frequencia de vitórias em casa (H), empates (D) e visitantes (A)"
   ]
  },
  {
   "cell_type": "code",
   "execution_count": 7,
   "metadata": {},
   "outputs": [
    {
     "data": {
      "text/plain": [
       "<BarContainer object of 3 artists>"
      ]
     },
     "execution_count": 7,
     "metadata": {},
     "output_type": "execute_result"
    },
    {
     "data": {
      "image/png": "[encoded data removed]",
      "text/plain": [
       "<Figure size 432x288 with 1 Axes>"
      ]
     },
     "metadata": {
      "needs_background": "light"
     },
     "output_type": "display_data"
    }
   ],
   "source": [
    "plt.bar(df_['Res'].value_counts().keys(),df_['Res'].value_counts())"
   ]
  },
  {
   "cell_type": "markdown",
   "metadata": {},
   "source": [
    "### Nomes dos times"
   ]
  },
  {
   "cell_type": "code",
   "execution_count": 45,
   "metadata": {},
   "outputs": [],
   "source": [
    "vocab = np.unique(np.concatenate((np.array(df_['Home'].unique()), np.array(df_['Away'].unique()))))"
   ]
  },
  {
   "cell_type": "markdown",
   "metadata": {},
   "source": [
    "### Transformar em índices"
   ]
  },
  {
   "cell_type": "code",
   "execution_count": 47,
   "metadata": {},
   "outputs": [],
   "source": [
    "word2idx = {word: i for i, word in enumerate(vocab)}"
   ]
  },
  {
   "cell_type": "code",
   "execution_count": 49,
   "metadata": {},
   "outputs": [],
   "source": [
    "def word2vector(word):\n",
    "    m = np.zeros(len(word2idx))\n",
    "    m[word2idx.get(word)] = 1\n",
    "    return m"
   ]
  },
  {
   "cell_type": "code",
   "execution_count": 50,
   "metadata": {},
   "outputs": [],
   "source": [
    "# Transforma os dois times em um vetor com o flag do time correspondente\n",
    "def prepare(H,A):\n",
    "    \n",
    "    return([word2idx.get(H),word2idx.get(A)])\n",
    "    \n",
    "#     vec = [word2vector(H), word2vector(A)]\n",
    "#     return np.array(vec).reshape(np.array(vec).shape[1]*2)\n",
    "\n"
   ]
  },
  {
   "cell_type": "markdown",
   "metadata": {},
   "source": [
    "### Função para indexar os jogos"
   ]
  },
  {
   "cell_type": "code",
   "execution_count": 51,
   "metadata": {},
   "outputs": [],
   "source": [
    "def text_to_vector2(text): \n",
    "    return word2idx.get(text, None)\n"
   ]
  },
  {
   "cell_type": "markdown",
   "metadata": {},
   "source": [
    "### Indexar os resultados"
   ]
  },
  {
   "cell_type": "code",
   "execution_count": 149,
   "metadata": {},
   "outputs": [],
   "source": [
    "X = []\n",
    "y = []\n",
    "\n",
    "for _, row in df_.iterrows():\n",
    "    X.append(prepare(row['Home'], row['Away']))    \n",
    "    \n",
    "    n = -int(row['HG']) + int(row['AG'])\n",
    "    \n",
    "    if np.isnan(n):\n",
    "        n = 0\n",
    "    \n",
    "    y.append(-1 if n < 0 else 1 if n > 0 else 0)\n",
    "    "
   ]
  },
  {
   "cell_type": "code",
   "execution_count": 53,
   "metadata": {},
   "outputs": [
    {
     "data": {
      "text/plain": [
       "(11560, 2)"
      ]
     },
     "execution_count": 53,
     "metadata": {},
     "output_type": "execute_result"
    }
   ],
   "source": [
    "np.array(X).shape"
   ]
  },
  {
   "cell_type": "markdown",
   "metadata": {},
   "source": [
    "### Separar os datasets de treinamento e teste"
   ]
  },
  {
   "cell_type": "markdown",
   "metadata": {},
   "source": [
    "### Suport vector machine"
   ]
  },
  {
   "cell_type": "code",
   "execution_count": 179,
   "metadata": {},
   "outputs": [],
   "source": [
    "from sklearn.svm import SVR\n",
    "model = SVR(gamma='scale', C=5.0, epsilon=0.2)\n",
    "# model = SVC(gamma='scale', C=5.0)"
   ]
  },
  {
   "cell_type": "markdown",
   "metadata": {},
   "source": [
    "### Random forest"
   ]
  },
  {
   "cell_type": "code",
   "execution_count": 173,
   "metadata": {},
   "outputs": [],
   "source": [
    "# from sklearn.ensemble import RandomForestRegressor\n",
    "# from sklearn.datasets import make_regression\n",
    "# model = RandomForestRegressor(max_depth=2, random_state=0, n_estimators=100)"
   ]
  },
  {
   "cell_type": "markdown",
   "metadata": {},
   "source": [
    "### Treinar o modelo"
   ]
  },
  {
   "cell_type": "code",
   "execution_count": 200,
   "metadata": {},
   "outputs": [
    {
     "name": "stdout",
     "output_type": "stream",
     "text": [
      "-2312\n",
      "-578\n"
     ]
    }
   ],
   "source": [
    "X_train, X_test, y_train, y_test = train_test_split(X, y, test_size=0.33, shuffle=True)\n",
    "\n",
    "l = len(X)\n",
    "\n",
    "ini = int(-l/5)\n",
    "fin = int(-l/20)\n",
    "\n",
    "print(ini)\n",
    "print(fin)\n",
    "\n",
    "# X_train, X_test, y_train, y_test = X[:int(-len(X)/10)], X[int(len(X)-len(X)/10):],y[:int(-len(y)/10)], y[int(len(X)-len(y)/10):]\n",
    "\n",
    "# X_train, X_test, y_train, y_test = X[ini:fin], X[fin:],y[ini:fin], y[fin:]\n",
    "\n",
    "\n"
   ]
  },
  {
   "cell_type": "code",
   "execution_count": 201,
   "metadata": {},
   "outputs": [
    {
     "data": {
      "text/plain": [
       "SVR(C=5.0, cache_size=200, coef0=0.0, degree=3, epsilon=0.2, gamma='scale',\n",
       "  kernel='rbf', max_iter=-1, shrinking=True, tol=0.001, verbose=False)"
      ]
     },
     "execution_count": 201,
     "metadata": {},
     "output_type": "execute_result"
    }
   ],
   "source": [
    "model.fit(X_train, y_train)"
   ]
  },
  {
   "cell_type": "markdown",
   "metadata": {},
   "source": [
    "### Avaliar precisão"
   ]
  },
  {
   "cell_type": "code",
   "execution_count": 203,
   "metadata": {},
   "outputs": [
    {
     "name": "stdout",
     "output_type": "stream",
     "text": [
      "53.0 %\n"
     ]
    }
   ],
   "source": [
    "dfx = df_[int(-df_.shape[0]/20):]\n",
    "prec = []\n",
    "for idx, dfr in dfx.iterrows():\n",
    "    p = model.predict([prepare(dfr['Home'],dfr['Away'])])\n",
    "    \n",
    "    px = 'H' if p[0] < 0 else 'A' if p[0] > 0 else 'D'\n",
    "    \n",
    "    prec.append(1 if px == dfr['Res'] else 0)\n",
    "    \n",
    "    dfx.loc[idx]['S'] = 'G' if px == dfr['Res'] else 'P'\n",
    "\n",
    "print(round((abs(np.mean(prec))) * 100,0), '%')\n",
    "    "
   ]
  },
  {
   "cell_type": "code",
   "execution_count": 204,
   "metadata": {},
   "outputs": [
    {
     "data": {
      "text/plain": [
       "Concurso                   S\n",
       "Concurso 785 (05/02/2018)  G     1\n",
       "Concurso 786 (14/02/2018)  G     9\n",
       "Concurso 787 (20/02/2018)  G     6\n",
       "Concurso 788 (26/02/2018)  G     7\n",
       "Concurso 789 (05/03/2018)  G     8\n",
       "Concurso 790 (12/03/2018)  G     4\n",
       "Concurso 791 (19/03/2018)  G    10\n",
       "Concurso 792 (26/03/2018)  G    10\n",
       "Concurso 793 (02/04/2018)  G     7\n",
       "Concurso 794 (09/04/2018)  G     7\n",
       "Concurso 795 (16/04/2018)  G    11\n",
       "Concurso 796 (23/04/2018)  G     7\n",
       "Concurso 797 (30/04/2018)  G     4\n",
       "Concurso 798 (07/05/2018)  G     7\n",
       "Concurso 799 (14/05/2018)  G     7\n",
       "Concurso 800 (21/05/2018)  G     8\n",
       "Concurso 801 (28/05/2018)  G     6\n",
       "Concurso 802 (04/06/2018)  G     8\n",
       "Concurso 803 (11/06/2018)  G     5\n",
       "Concurso 804 (18/06/2018)  G    10\n",
       "Concurso 805 (25/06/2018)  G    12\n",
       "Concurso 806 (28/06/2018)  G     5\n",
       "Concurso 807 (02/07/2018)  G     7\n",
       "Concurso 808 (09/07/2018)  G     9\n",
       "Concurso 809 (16/07/2018)  G     6\n",
       "Concurso 810 (23/07/2018)  G    10\n",
       "Concurso 811 (30/07/2018)  G     9\n",
       "Concurso 812 (06/08/2018)  G     5\n",
       "Concurso 813 (13/08/2018)  G     7\n",
       "Concurso 814 (20/08/2018)  G     8\n",
       "Concurso 815 (27/08/2018)  G    10\n",
       "Concurso 816 (03/09/2018)  G     7\n",
       "Concurso 817 (10/09/2018)  G     9\n",
       "Concurso 818 (17/09/2018)  G     7\n",
       "Concurso 819 (25/09/2018)  G     9\n",
       "Concurso 820 (01/10/2018)  G     7\n",
       "Concurso 821 (08/10/2018)  G     6\n",
       "Concurso 822 (15/10/2018)  G     9\n",
       "Concurso 823 (22/10/2018)  G     8\n",
       "Concurso 824 (29/10/2018)  G     7\n",
       "Concurso 825 (05/11/2018)  G     6\n",
       "Name: S, dtype: int64"
      ]
     },
     "execution_count": 204,
     "metadata": {},
     "output_type": "execute_result"
    }
   ],
   "source": [
    "dfx[dfx['S']=='G'].groupby(['Concurso'])['S'].value_counts()"
   ]
  },
  {
   "cell_type": "code",
   "execution_count": 205,
   "metadata": {},
   "outputs": [
    {
     "data": {
      "text/plain": [
       "<BarContainer object of 2 artists>"
      ]
     },
     "execution_count": 205,
     "metadata": {},
     "output_type": "execute_result"
    },
    {
     "data": {
      "image/png": "[encoded data removed]",
      "text/plain": [
       "<Figure size 432x288 with 1 Axes>"
      ]
     },
     "metadata": {
      "needs_background": "light"
     },
     "output_type": "display_data"
    }
   ],
   "source": [
    "plt.bar(dfx['S'].value_counts().keys(),dfx['S'].value_counts())"
   ]
  },
  {
   "cell_type": "markdown",
   "metadata": {},
   "source": [
    "### Loop para atingir maxima precisão"
   ]
  },
  {
   "cell_type": "code",
   "execution_count": null,
   "metadata": {},
   "outputs": [],
   "source": [
    "while True:\n",
    "    X_train, X_test, y_train, y_test = train_test_split(X, y, test_size=0.33, shuffle=True)\n",
    "    \n",
    "    model.fit(X_train, y_train)\n",
    "    \n",
    "    res = []\n",
    "    for j in range(len(X_test)):\n",
    "        r = model.predict([X_test[j]])\n",
    "        res.append(round(r[0],0) - y_test[j])\n",
    "    p = round((1 - abs(np.mean(res))) * 100,0)\n",
    "    \n",
    "    \n",
    "    if p >= 100:\n",
    "        break\n",
    "        \n",
    "print(round((1 - abs(np.mean(res))) * 100,0), '%')"
   ]
  },
  {
   "cell_type": "markdown",
   "metadata": {},
   "source": [
    "### Salvar o modelo"
   ]
  },
  {
   "cell_type": "code",
   "execution_count": 59,
   "metadata": {},
   "outputs": [],
   "source": [
    "from sklearn.externals import joblib"
   ]
  },
  {
   "cell_type": "code",
   "execution_count": 60,
   "metadata": {},
   "outputs": [
    {
     "data": {
      "text/plain": [
       "['model.joblib']"
      ]
     },
     "execution_count": 60,
     "metadata": {},
     "output_type": "execute_result"
    }
   ],
   "source": [
    "joblib.dump(model, 'model.joblib')"
   ]
  },
  {
   "cell_type": "code",
   "execution_count": null,
   "metadata": {},
   "outputs": [],
   "source": [
    "model = joblib.load('model.joblib') "
   ]
  },
  {
   "cell_type": "markdown",
   "metadata": {},
   "source": [
    "### Lista de times"
   ]
  },
  {
   "cell_type": "code",
   "execution_count": null,
   "metadata": {},
   "outputs": [],
   "source": [
    "from flask import jsonify"
   ]
  },
  {
   "cell_type": "code",
   "execution_count": null,
   "metadata": {},
   "outputs": [],
   "source": [
    "d = {}"
   ]
  },
  {
   "cell_type": "code",
   "execution_count": null,
   "metadata": {},
   "outputs": [],
   "source": [
    "d['teams'] = vocab.tolist()"
   ]
  },
  {
   "cell_type": "code",
   "execution_count": null,
   "metadata": {},
   "outputs": [],
   "source": [
    "import json\n"
   ]
  },
  {
   "cell_type": "code",
   "execution_count": null,
   "metadata": {},
   "outputs": [],
   "source": [
    "json.dumps(d)"
   ]
  },
  {
   "cell_type": "code",
   "execution_count": null,
   "metadata": {},
   "outputs": [],
   "source": [
    "vocab"
   ]
  },
  {
   "cell_type": "markdown",
   "metadata": {},
   "source": [
    "### Realizar previsão"
   ]
  },
  {
   "cell_type": "code",
   "execution_count": 153,
   "metadata": {},
   "outputs": [
    {
     "name": "stdout",
     "output_type": "stream",
     "text": [
      "ATLÉTICO/MG Vence com  1  gol de diferença\n"
     ]
    }
   ],
   "source": [
    "H = 'ATLÉTICO/MG'\n",
    "A = 'SANTOS/SP'\n",
    "\n",
    "p = model.predict([prepare(H,A)])\n",
    "\n",
    "if p < 0:\n",
    "    print(H, 'Vence com ', round(abs(p[0]),3),' gol de diferença')\n",
    "else:\n",
    "    print(A, 'Vence com', round(abs(p[0]),3),' gol de diferença')"
   ]
  },
  {
   "cell_type": "code",
   "execution_count": null,
   "metadata": {},
   "outputs": [],
   "source": [
    "r = {}\n",
    "\n",
    "r[\"H\"]=H\n",
    "r[\"A\"]=A\n",
    "r[\"p\"]=p[0]"
   ]
  },
  {
   "cell_type": "code",
   "execution_count": 154,
   "metadata": {},
   "outputs": [
    {
     "data": {
      "text/plain": [
       "array([-1])"
      ]
     },
     "execution_count": 154,
     "metadata": {},
     "output_type": "execute_result"
    }
   ],
   "source": [
    "p"
   ]
  },
  {
   "cell_type": "code",
   "execution_count": null,
   "metadata": {},
   "outputs": [],
   "source": []
  }
 ],
 "metadata": {
  "kernelspec": {
   "display_name": "Python 3",
   "language": "python",
   "name": "python3"
  },
  "language_info": {
   "codemirror_mode": {
    "name": "ipython",
    "version": 3
   },
   "file_extension": ".py",
   "mimetype": "text/x-python",
   "name": "python",
   "nbconvert_exporter": "python",
   "pygments_lexer": "ipython3",
   "version": "3.7.1"
  }
 },
 "nbformat": 4,
 "nbformat_minor": 2
}
