{
 "cells": [
  {
   "cell_type": "markdown",
   "metadata": {},
   "source": [
    "# Loteca"
   ]
  },
  {
   "cell_type": "code",
   "execution_count": 1,
   "metadata": {},
   "outputs": [
    {
     "name": "stderr",
     "output_type": "stream",
     "text": [
      "Using TensorFlow backend.\n"
     ]
    }
   ],
   "source": [
    "import keras\n",
    "import pandas as pd\n",
    "import numpy as np\n",
    "import matplotlib.pyplot as plt\n",
    "from sklearn.model_selection import train_test_split"
   ]
  },
  {
   "cell_type": "markdown",
   "metadata": {},
   "source": [
    "### Ler arquivo"
   ]
  },
  {
   "cell_type": "code",
   "execution_count": 2,
   "metadata": {},
   "outputs": [],
   "source": [
    "df = np.load('arquivo.npy')"
   ]
  },
  {
   "cell_type": "code",
   "execution_count": 3,
   "metadata": {},
   "outputs": [],
   "source": [
    "for i in range(len(df)):\n",
    "    df[i,8] = 'H' if (int(df[i,2]) - int(df[i,6])) > 0 else 'A' if (int(df[i,2]) - int(df[i,6])) < 0 else 'D'\n"
   ]
  },
  {
   "cell_type": "code",
   "execution_count": 4,
   "metadata": {},
   "outputs": [],
   "source": [
    "df_ = pd.DataFrame(df,columns=['Concurso','Jogo','HG','Home','S','Away','AG','Dia','Res'])"
   ]
  },
  {
   "cell_type": "code",
   "execution_count": 5,
   "metadata": {},
   "outputs": [
    {
     "data": {
      "text/html": [
       "<div>\n",
       "<style scoped>\n",
       "    .dataframe tbody tr th:only-of-type {\n",
       "        vertical-align: middle;\n",
       "    }\n",
       "\n",
       "    .dataframe tbody tr th {\n",
       "        vertical-align: top;\n",
       "    }\n",
       "\n",
       "    .dataframe thead th {\n",
       "        text-align: right;\n",
       "    }\n",
       "</style>\n",
       "<table border=\"1\" class=\"dataframe\">\n",
       "  <thead>\n",
       "    <tr style=\"text-align: right;\">\n",
       "      <th></th>\n",
       "      <th>Concurso</th>\n",
       "      <th>Jogo</th>\n",
       "      <th>HG</th>\n",
       "      <th>Home</th>\n",
       "      <th>S</th>\n",
       "      <th>Away</th>\n",
       "      <th>AG</th>\n",
       "      <th>Dia</th>\n",
       "      <th>Res</th>\n",
       "    </tr>\n",
       "  </thead>\n",
       "  <tbody>\n",
       "    <tr>\n",
       "      <th>0</th>\n",
       "      <td>Concurso 1 (18/02/2002)</td>\n",
       "      <td>1</td>\n",
       "      <td>2</td>\n",
       "      <td>FLAMENGO/RJ</td>\n",
       "      <td></td>\n",
       "      <td>S. PAULO/SP</td>\n",
       "      <td>4</td>\n",
       "      <td>Domingo</td>\n",
       "      <td>A</td>\n",
       "    </tr>\n",
       "    <tr>\n",
       "      <th>1</th>\n",
       "      <td>Concurso 1 (18/02/2002)</td>\n",
       "      <td>2</td>\n",
       "      <td>3</td>\n",
       "      <td>VASCO/RJ</td>\n",
       "      <td></td>\n",
       "      <td>AMERICANO/RJ</td>\n",
       "      <td>0</td>\n",
       "      <td>Domingo</td>\n",
       "      <td>H</td>\n",
       "    </tr>\n",
       "    <tr>\n",
       "      <th>2</th>\n",
       "      <td>Concurso 1 (18/02/2002)</td>\n",
       "      <td>3</td>\n",
       "      <td>2</td>\n",
       "      <td>SANTOS/SP</td>\n",
       "      <td></td>\n",
       "      <td>SÃO CAETANO/SP</td>\n",
       "      <td>1</td>\n",
       "      <td>Domingo</td>\n",
       "      <td>H</td>\n",
       "    </tr>\n",
       "    <tr>\n",
       "      <th>3</th>\n",
       "      <td>Concurso 1 (18/02/2002)</td>\n",
       "      <td>4</td>\n",
       "      <td>1</td>\n",
       "      <td>P. DESPORTOS/SP</td>\n",
       "      <td></td>\n",
       "      <td>CORINTHIANS/SP</td>\n",
       "      <td>4</td>\n",
       "      <td>Domingo</td>\n",
       "      <td>A</td>\n",
       "    </tr>\n",
       "    <tr>\n",
       "      <th>4</th>\n",
       "      <td>Concurso 1 (18/02/2002)</td>\n",
       "      <td>5</td>\n",
       "      <td>7</td>\n",
       "      <td>CRUZEIRO/MG</td>\n",
       "      <td></td>\n",
       "      <td>AMÉRICA/MG</td>\n",
       "      <td>0</td>\n",
       "      <td>Sábado</td>\n",
       "      <td>H</td>\n",
       "    </tr>\n",
       "  </tbody>\n",
       "</table>\n",
       "</div>"
      ],
      "text/plain": [
       "                  Concurso Jogo HG             Home  S            Away AG  \\\n",
       "0  Concurso 1 (18/02/2002)    1  2      FLAMENGO/RJ        S. PAULO/SP  4   \n",
       "1  Concurso 1 (18/02/2002)    2  3         VASCO/RJ       AMERICANO/RJ  0   \n",
       "2  Concurso 1 (18/02/2002)    3  2        SANTOS/SP     SÃO CAETANO/SP  1   \n",
       "3  Concurso 1 (18/02/2002)    4  1  P. DESPORTOS/SP     CORINTHIANS/SP  4   \n",
       "4  Concurso 1 (18/02/2002)    5  7      CRUZEIRO/MG         AMÉRICA/MG  0   \n",
       "\n",
       "        Dia Res  \n",
       "0  Domingo    A  \n",
       "1  Domingo    H  \n",
       "2  Domingo    H  \n",
       "3  Domingo    A  \n",
       "4   Sábado    H  "
      ]
     },
     "execution_count": 5,
     "metadata": {},
     "output_type": "execute_result"
    }
   ],
   "source": [
    "df_.head()"
   ]
  },
  {
   "cell_type": "markdown",
   "metadata": {},
   "source": [
    "### Frequencia de vitórias em casa (H), empates (D) e visitantes (A)"
   ]
  },
  {
   "cell_type": "code",
   "execution_count": 6,
   "metadata": {},
   "outputs": [
    {
     "data": {
      "text/plain": [
       "<BarContainer object of 3 artists>"
      ]
     },
     "execution_count": 6,
     "metadata": {},
     "output_type": "execute_result"
    },
    {
     "data": {
      "image/png": "[encoded data removed]",
      "text/plain": [
       "<Figure size 432x288 with 1 Axes>"
      ]
     },
     "metadata": {
      "needs_background": "light"
     },
     "output_type": "display_data"
    }
   ],
   "source": [
    "plt.bar(df_['Res'].value_counts().keys(),df_['Res'].value_counts())"
   ]
  },
  {
   "cell_type": "markdown",
   "metadata": {},
   "source": [
    "### Nomes dos times"
   ]
  },
  {
   "cell_type": "code",
   "execution_count": 7,
   "metadata": {},
   "outputs": [],
   "source": [
    "vocab = np.unique(np.concatenate((np.array(df_['Home'].unique()), np.array(df_['Away'].unique()))))"
   ]
  },
  {
   "cell_type": "markdown",
   "metadata": {},
   "source": [
    "### Transformar em índices"
   ]
  },
  {
   "cell_type": "code",
   "execution_count": 8,
   "metadata": {},
   "outputs": [],
   "source": [
    "word2idx = {word: i for i, word in enumerate(vocab)}"
   ]
  },
  {
   "cell_type": "code",
   "execution_count": 9,
   "metadata": {},
   "outputs": [],
   "source": [
    "def word2vector(word):\n",
    "    m = np.zeros(len(word2idx))\n",
    "    m[word2idx.get(word)] = 1\n",
    "    return m"
   ]
  },
  {
   "cell_type": "code",
   "execution_count": 28,
   "metadata": {},
   "outputs": [],
   "source": [
    "# Transforma os dois times em um vetor com o flag do time correspondente\n",
    "def prepare(H,A):\n",
    "    \n",
    "#     return([word2idx.get(H),word2idx.get(A)])\n",
    "    \n",
    "    return [word2vector(H), word2vector(A)]\n",
    "#     return np.array(vec).reshape(np.array(vec).shape[1],2)\n",
    "\n"
   ]
  },
  {
   "cell_type": "markdown",
   "metadata": {},
   "source": [
    "### Função para indexar os jogos"
   ]
  },
  {
   "cell_type": "code",
   "execution_count": 34,
   "metadata": {},
   "outputs": [],
   "source": [
    "# def text_to_vector2(text): \n",
    "#     return word2idx.get(text, None)\n"
   ]
  },
  {
   "cell_type": "markdown",
   "metadata": {},
   "source": [
    "### Indexar os resultados"
   ]
  },
  {
   "cell_type": "code",
   "execution_count": 77,
   "metadata": {},
   "outputs": [],
   "source": [
    "X = []\n",
    "y = []\n",
    "\n",
    "for _, row in df_.iterrows():\n",
    "    X.append(prepare(row['Home'], row['Away']))    \n",
    "    \n",
    "    n = -int(row['HG']) + int(row['AG'])\n",
    "    \n",
    "    if np.isnan(n):\n",
    "        n = 0\n",
    "    \n",
    "    y.append([1,0,0] if n < 0 else [0,0,1] if n > 0 else [0,1,0])\n",
    "\n",
    "y = np.array(y).reshape(np.array(y).shape[0],3)\n",
    "\n",
    "X = np.array(X).reshape(np.array(X).shape[0],np.array(X).shape[1]*2)\n",
    "    "
   ]
  },
  {
   "cell_type": "markdown",
   "metadata": {},
   "source": [
    "### Modelo"
   ]
  },
  {
   "cell_type": "code",
   "execution_count": 123,
   "metadata": {},
   "outputs": [],
   "source": [
    "from keras.models import Sequential\n",
    "from keras.layers import Dense, Activation, Flatten, Dropout\n",
    "\n",
    "model = Sequential()\n",
    "model.add(Dense(124, input_shape=(np.array(X).shape[1],), activation='relu'))\n",
    "model.add(Dropout(0.5))\n",
    "model.add(Dense(62, activation='relu'))\n",
    "model.add(Dropout(0.5))\n",
    "model.add(Dense(62, activation='relu'))\n",
    "model.add(Dropout(0.5))\n",
    "model.add(Dense(10, activation='relu'))\n",
    "# model.add(Dropout(0.5))\n",
    "# model.add(Flatten())\n",
    "model.add(Dense(3))\n",
    "model.add(Activation('sigmoid'))"
   ]
  },
  {
   "cell_type": "code",
   "execution_count": 124,
   "metadata": {},
   "outputs": [],
   "source": [
    "model.compile(optimizer='adam',\n",
    "              loss='binary_crossentropy',\n",
    "              metrics=['accuracy'])\n"
   ]
  },
  {
   "cell_type": "markdown",
   "metadata": {},
   "source": [
    "### Separar os datasets de treinamento e teste"
   ]
  },
  {
   "cell_type": "code",
   "execution_count": 125,
   "metadata": {},
   "outputs": [],
   "source": [
    "X_train, X_test, y_train, y_test = train_test_split(X, y, test_size=0.33, shuffle=True)"
   ]
  },
  {
   "cell_type": "markdown",
   "metadata": {},
   "source": [
    "### Treinar o modelo"
   ]
  },
  {
   "cell_type": "code",
   "execution_count": 126,
   "metadata": {},
   "outputs": [
    {
     "name": "stdout",
     "output_type": "stream",
     "text": [
      "Epoch 1/50\n",
      "7745/7745 [==============================] - 2s 212us/step - loss: 3.6625 - acc: 0.6667\n",
      "Epoch 2/50\n",
      "7745/7745 [==============================] - 1s 75us/step - loss: 2.3369 - acc: 0.6667\n",
      "Epoch 3/50\n",
      "7745/7745 [==============================] - 1s 74us/step - loss: 2.1399 - acc: 0.6667\n",
      "Epoch 4/50\n",
      "7745/7745 [==============================] - 1s 74us/step - loss: 2.0674 - acc: 0.6667\n",
      "Epoch 5/50\n",
      "7745/7745 [==============================] - 1s 73us/step - loss: 2.0152 - acc: 0.6667\n",
      "Epoch 6/50\n",
      "7745/7745 [==============================] - 1s 73us/step - loss: 1.9749 - acc: 0.6667\n",
      "Epoch 7/50\n",
      "7745/7745 [==============================] - 1s 79us/step - loss: 1.9427 - acc: 0.6667\n",
      "Epoch 8/50\n",
      "7745/7745 [==============================] - 1s 77us/step - loss: 1.9169 - acc: 0.6667\n",
      "Epoch 9/50\n",
      "7745/7745 [==============================] - 1s 81us/step - loss: 1.8965 - acc: 0.6667\n",
      "Epoch 10/50\n",
      "7745/7745 [==============================] - 1s 74us/step - loss: 1.8805 - acc: 0.6667\n",
      "Epoch 11/50\n",
      "7745/7745 [==============================] - 1s 78us/step - loss: 1.8685 - acc: 0.6667\n",
      "Epoch 12/50\n",
      "7745/7745 [==============================] - 1s 86us/step - loss: 1.8602 - acc: 0.6669\n",
      "Epoch 13/50\n",
      "7745/7745 [==============================] - 1s 82us/step - loss: 1.8549 - acc: 0.6678\n",
      "Epoch 14/50\n",
      "7745/7745 [==============================] - 1s 74us/step - loss: 1.8522 - acc: 0.6705\n",
      "Epoch 15/50\n",
      "7745/7745 [==============================] - 1s 73us/step - loss: 1.8514 - acc: 0.6778\n",
      "Epoch 16/50\n",
      "7745/7745 [==============================] - 1s 75us/step - loss: 1.8518 - acc: 0.6804\n",
      "Epoch 17/50\n",
      "7745/7745 [==============================] - 1s 72us/step - loss: 1.8524 - acc: 0.6795\n",
      "Epoch 18/50\n",
      "7745/7745 [==============================] - 1s 75us/step - loss: 1.8526 - acc: 0.6801\n",
      "Epoch 19/50\n",
      "7745/7745 [==============================] - 1s 77us/step - loss: 1.8519 - acc: 0.6804\n",
      "Epoch 20/50\n",
      "7745/7745 [==============================] - 1s 83us/step - loss: 1.8503 - acc: 0.6824\n",
      "Epoch 21/50\n",
      "7745/7745 [==============================] - 1s 76us/step - loss: 1.8483 - acc: 0.6856\n",
      "Epoch 22/50\n",
      "7745/7745 [==============================] - 1s 71us/step - loss: 1.8461 - acc: 0.6890\n",
      "Epoch 23/50\n",
      "7745/7745 [==============================] - 1s 73us/step - loss: 1.8441 - acc: 0.6932\n",
      "Epoch 24/50\n",
      "7745/7745 [==============================] - 1s 72us/step - loss: 1.8424 - acc: 0.6977\n",
      "Epoch 25/50\n",
      "7745/7745 [==============================] - 1s 75us/step - loss: 1.8410 - acc: 0.7013\n",
      "Epoch 26/50\n",
      "7745/7745 [==============================] - 1s 74us/step - loss: 1.8399 - acc: 0.7033\n",
      "Epoch 27/50\n",
      "7745/7745 [==============================] - 1s 73us/step - loss: 1.8390 - acc: 0.7038\n",
      "Epoch 28/50\n",
      "7745/7745 [==============================] - 1s 74us/step - loss: 1.8383 - acc: 0.7063\n",
      "Epoch 29/50\n",
      "7745/7745 [==============================] - 1s 74us/step - loss: 1.8375 - acc: 0.7065\n",
      "Epoch 30/50\n",
      "7745/7745 [==============================] - 1s 75us/step - loss: 1.8367 - acc: 0.7075\n",
      "Epoch 31/50\n",
      "7745/7745 [==============================] - 1s 75us/step - loss: 1.8359 - acc: 0.7084\n",
      "Epoch 32/50\n",
      "7745/7745 [==============================] - 1s 71us/step - loss: 1.8351 - acc: 0.7094\n",
      "Epoch 33/50\n",
      "7745/7745 [==============================] - 1s 73us/step - loss: 1.8342 - acc: 0.7115\n",
      "Epoch 34/50\n",
      "7745/7745 [==============================] - 1s 71us/step - loss: 1.8332 - acc: 0.7126\n",
      "Epoch 35/50\n",
      "7745/7745 [==============================] - 1s 76us/step - loss: 1.8323 - acc: 0.7139\n",
      "Epoch 36/50\n",
      "7745/7745 [==============================] - 1s 72us/step - loss: 1.8314 - acc: 0.7141\n",
      "Epoch 37/50\n",
      "7745/7745 [==============================] - 1s 74us/step - loss: 1.8306 - acc: 0.7136\n",
      "Epoch 38/50\n",
      "7745/7745 [==============================] - 1s 74us/step - loss: 1.8297 - acc: 0.7126\n",
      "Epoch 39/50\n",
      "7745/7745 [==============================] - 1s 75us/step - loss: 1.8289 - acc: 0.7125\n",
      "Epoch 40/50\n",
      "7745/7745 [==============================] - 1s 75us/step - loss: 1.8280 - acc: 0.7105\n",
      "Epoch 41/50\n",
      "7745/7745 [==============================] - 1s 74us/step - loss: 1.8271 - acc: 0.7102\n",
      "Epoch 42/50\n",
      "7745/7745 [==============================] - 1s 74us/step - loss: 1.8262 - acc: 0.7101\n",
      "Epoch 43/50\n",
      "7745/7745 [==============================] - 1s 73us/step - loss: 1.8253 - acc: 0.7088\n",
      "Epoch 44/50\n",
      "7745/7745 [==============================] - 1s 74us/step - loss: 1.8244 - acc: 0.7079\n",
      "Epoch 45/50\n",
      "7745/7745 [==============================] - 1s 73us/step - loss: 1.8235 - acc: 0.7066\n",
      "Epoch 46/50\n",
      "7745/7745 [==============================] - 1s 72us/step - loss: 1.8225 - acc: 0.7066\n",
      "Epoch 47/50\n",
      "7745/7745 [==============================] - 1s 73us/step - loss: 1.8215 - acc: 0.7058\n",
      "Epoch 48/50\n",
      "7745/7745 [==============================] - 1s 71us/step - loss: 1.8205 - acc: 0.7046\n",
      "Epoch 49/50\n",
      "7745/7745 [==============================] - 1s 75us/step - loss: 1.8195 - acc: 0.7039\n",
      "Epoch 50/50\n",
      "7745/7745 [==============================] - 1s 73us/step - loss: 1.8184 - acc: 0.7026\n"
     ]
    },
    {
     "data": {
      "text/plain": [
       "<keras.callbacks.History at 0x1f601343b00>"
      ]
     },
     "execution_count": 126,
     "metadata": {},
     "output_type": "execute_result"
    }
   ],
   "source": [
    "model.fit(X_train, y_train, epochs=50, batch_size=4000)"
   ]
  },
  {
   "cell_type": "code",
   "execution_count": 127,
   "metadata": {},
   "outputs": [
    {
     "name": "stdout",
     "output_type": "stream",
     "text": [
      "3815/3815 [==============================] - 1s 165us/step\n"
     ]
    },
    {
     "data": {
      "text/plain": [
       "[1.8293054690054797, 0.6719091320881525]"
      ]
     },
     "execution_count": 127,
     "metadata": {},
     "output_type": "execute_result"
    }
   ],
   "source": [
    "model.evaluate(X_test, y_test, verbose=1)"
   ]
  },
  {
   "cell_type": "markdown",
   "metadata": {},
   "source": [
    "### Avaliar precisão"
   ]
  },
  {
   "cell_type": "code",
   "execution_count": 128,
   "metadata": {},
   "outputs": [
    {
     "name": "stdout",
     "output_type": "stream",
     "text": [
      "47.0 %\n"
     ]
    }
   ],
   "source": [
    "dfx = df_[int(-df_.shape[0]/20):]\n",
    "prec = []\n",
    "for idx, dfr in dfx.iterrows():\n",
    "    \n",
    "    prep = [prepare(dfr['Home'],dfr['Away'])]\n",
    "    \n",
    "    prepx = np.array(prep).reshape(np.array(prep).shape[0],np.array(prep).shape[1]*2)\n",
    "    \n",
    "    p = model.predict(prepx)\n",
    "    \n",
    "    if p[0,0] > p[0,1] and p[0,0] > p[0,2]:\n",
    "        px = 'H'\n",
    "        \n",
    "    if p[0,2] > p[0,1] and p[0,2] > p[0,0]:\n",
    "        px = 'A'\n",
    "        \n",
    "    if p[0,1] > p[0,0] and p[0,1] > p[0,2]:\n",
    "        px = 'D'\n",
    "    \n",
    "    prec.append(1 if px == dfr['Res'] else 0)\n",
    "    \n",
    "    dfx.loc[idx]['S'] = 'G' if px == dfr['Res'] else 'P'\n",
    "\n",
    "print(round((abs(np.mean(prec))) * 100,0), '%')\n",
    "    "
   ]
  },
  {
   "cell_type": "code",
   "execution_count": 129,
   "metadata": {},
   "outputs": [
    {
     "data": {
      "text/plain": [
       "array([[ 0.5319206,  0.2873442, -0.366111 ]], dtype=float32)"
      ]
     },
     "execution_count": 129,
     "metadata": {},
     "output_type": "execute_result"
    }
   ],
   "source": [
    "p"
   ]
  },
  {
   "cell_type": "code",
   "execution_count": 130,
   "metadata": {},
   "outputs": [
    {
     "data": {
      "text/plain": [
       "Concurso                   S\n",
       "Concurso 785 (05/02/2018)  G     2\n",
       "Concurso 786 (14/02/2018)  G     9\n",
       "Concurso 787 (20/02/2018)  G     5\n",
       "Concurso 788 (26/02/2018)  G     7\n",
       "Concurso 789 (05/03/2018)  G     6\n",
       "Concurso 790 (12/03/2018)  G     3\n",
       "Concurso 791 (19/03/2018)  G     5\n",
       "Concurso 792 (26/03/2018)  G     9\n",
       "Concurso 793 (02/04/2018)  G     7\n",
       "Concurso 794 (09/04/2018)  G     7\n",
       "Concurso 795 (16/04/2018)  G    11\n",
       "Concurso 796 (23/04/2018)  G     6\n",
       "Concurso 797 (30/04/2018)  G     3\n",
       "Concurso 798 (07/05/2018)  G     6\n",
       "Concurso 799 (14/05/2018)  G     8\n",
       "Concurso 800 (21/05/2018)  G     8\n",
       "Concurso 801 (28/05/2018)  G     5\n",
       "Concurso 802 (04/06/2018)  G     5\n",
       "Concurso 803 (11/06/2018)  G     6\n",
       "Concurso 804 (18/06/2018)  G     5\n",
       "Concurso 805 (25/06/2018)  G     8\n",
       "Concurso 806 (28/06/2018)  G     1\n",
       "Concurso 807 (02/07/2018)  G     6\n",
       "Concurso 808 (09/07/2018)  G     7\n",
       "Concurso 809 (16/07/2018)  G     6\n",
       "Concurso 810 (23/07/2018)  G    10\n",
       "Concurso 811 (30/07/2018)  G     8\n",
       "Concurso 812 (06/08/2018)  G     5\n",
       "Concurso 813 (13/08/2018)  G     7\n",
       "Concurso 814 (20/08/2018)  G     7\n",
       "Concurso 815 (27/08/2018)  G    10\n",
       "Concurso 816 (03/09/2018)  G     6\n",
       "Concurso 817 (10/09/2018)  G     9\n",
       "Concurso 818 (17/09/2018)  G     8\n",
       "Concurso 819 (25/09/2018)  G     7\n",
       "Concurso 820 (01/10/2018)  G     6\n",
       "Concurso 821 (08/10/2018)  G     8\n",
       "Concurso 822 (15/10/2018)  G     9\n",
       "Concurso 823 (22/10/2018)  G     7\n",
       "Concurso 824 (29/10/2018)  G     7\n",
       "Concurso 825 (05/11/2018)  G     5\n",
       "Name: S, dtype: int64"
      ]
     },
     "execution_count": 130,
     "metadata": {},
     "output_type": "execute_result"
    }
   ],
   "source": [
    "dfx[dfx['S']=='G'].groupby(['Concurso'])['S'].value_counts()"
   ]
  },
  {
   "cell_type": "code",
   "execution_count": 131,
   "metadata": {},
   "outputs": [
    {
     "data": {
      "text/plain": [
       "<BarContainer object of 2 artists>"
      ]
     },
     "execution_count": 131,
     "metadata": {},
     "output_type": "execute_result"
    },
    {
     "data": {
      "image/png": "[encoded data removed]",
      "text/plain": [
       "<Figure size 432x288 with 1 Axes>"
      ]
     },
     "metadata": {
      "needs_background": "light"
     },
     "output_type": "display_data"
    }
   ],
   "source": [
    "plt.bar(dfx['S'].value_counts().keys(),dfx['S'].value_counts())"
   ]
  },
  {
   "cell_type": "markdown",
   "metadata": {},
   "source": [
    "### Lista de times"
   ]
  },
  {
   "cell_type": "code",
   "execution_count": 132,
   "metadata": {},
   "outputs": [
    {
     "data": {
      "text/plain": [
       "array(['15 DE NOVEMBRO/RS', 'A B C/RN', 'AA RIOVERDENSE/GO', 'ABAETÉ/PA',\n",
       "       'ABC/RN', 'ABC/RN JÚNIOR', 'AC RIOVERDENSE/GO', 'ADAP/PR',\n",
       "       'AFRICA DO SUL', 'ALAVÉS/ESP', 'ALBÂNIA', 'ALECRIM SUB 20/RN',\n",
       "       'ALECRIM/RN', 'ALEGRENSE/ES', 'ALEMANHA', 'AMADENSE/SE',\n",
       "       'AMERICA/SP JÚNIOR', 'AMERICANO/RJ', 'AMIENS/FRA', 'AMPARO/SP',\n",
       "       'AMÉRICA SUB 20/MG', 'AMÉRICA TEÓFILO OTONI/MG', 'AMÉRICA/MG',\n",
       "       'AMÉRICA/MG JÚNIOR', 'AMÉRICA/PB', 'AMÉRICA/PE', 'AMÉRICA/RJ',\n",
       "       'AMÉRICA/RN', 'AMÉRICA/SE', 'AMÉRICA/SP', 'ANANINDEUA/PA',\n",
       "       'ANAPOLINA/GO', 'ANDORRA', 'ANGOLA', 'ANÁPOLIS/GO',\n",
       "       'APARECIDENSE/GO', 'ARAGUAÍNA/TO', 'ARARIPINA/PE', 'ARAXÁ/MG',\n",
       "       'ARAÇATUBA/SP', 'ARGENTINA', 'ARGÉLIA', 'ARIQUEMES/RO', 'ARMÊNIA',\n",
       "       'ARSENAL/ING', 'ARÁBIA SAUDITA', 'AS ROMA/ITA', 'ASA/AL',\n",
       "       'ASCOLI/ITA', 'ASSISENSE/SP', 'ASSU/RN', 'ASTON VILLA/ING',\n",
       "       'ATALANTA BERGAMAS/ITA', 'ATALANTA/ITA', 'ATHLETIC BILBAO/ESP',\n",
       "       'ATIBAIA/SP', 'ATLETICO ACREANO/AC', 'ATLÉTICO MADRID/ESP',\n",
       "       'ATLÉTICO SOROCABA/SP', 'ATLÉTICO SUB 20/MG', 'ATLÉTICO/BA',\n",
       "       'ATLÉTICO/GO', 'ATLÉTICO/MG', 'ATLÉTICO/MG JÚNIOR', 'ATLÉTICO/PB',\n",
       "       'ATLÉTICO/PE', 'ATLÉTICO/PR', 'ATLÉTICO/PR - SUB 20',\n",
       "       'ATLÉTICO/PR JÚNIOR', 'AUDAX/SP', 'AUSTRÁLIA', 'AUSTRÁLIA SUB20',\n",
       "       'AUTO ESPORTE/PB', 'AUXERRE/FRA', 'AVAÍ/SC', 'AVAÍ/SC JÚNIOR',\n",
       "       'AVAÍ/SC/SUB 20', 'AVENIDA/RS', 'BAHIA DE FEIRA/BA',\n",
       "       'BAHIA SUB 20/BA', 'BAHIA/BA', 'BAHIA/BA JÚNIOR', 'BANDEIRANTE/DF',\n",
       "       'BANDEIRANTE/DF JÚNIOR', 'BANDEIRANTE/SP', 'BANGU/RJ',\n",
       "       'BARAÚNAS/RN', 'BARBARENSE/SP', 'BARCELONA/ESP', 'BARRA/MT JÚNIOR',\n",
       "       'BARRAS/PI', 'BARRETOS/SP', 'BARUERI/SP', 'BARUERI/SP JÚNIOR',\n",
       "       'BARUERI/SP/SUB 20', 'BATATAIS/SP', 'BATATAIS/SP JÚNIOR',\n",
       "       'BAYERN DE MUNIQUE/DEU', 'BELO JARDIM/PE', 'BELÉM/PA',\n",
       "       'BENEVENTO/ITA', 'BETIS/ESP', 'BIELORRÚSSIA',\n",
       "       'BIRMINGHAM CITY/ING', 'BLACKBURN/ING', 'BOA ESPORTE CLUBE/MG',\n",
       "       'BOA ESPORTE/MG', 'BOA VIAGEM/CE', 'BOAVISTA/RJ', 'BOCA JÚNIOR/SE',\n",
       "       'BOLOGNA FC/ITA', 'BOLOGNA/ITA', 'BOLÍVIA', 'BOLÍVIA/SUB-20',\n",
       "       'BONITO/MS', 'BONSUCESSO/RJ', 'BORDEAUX/FRA',\n",
       "       'BORUSSIA DORTMUND/DEU', 'BOTAFOGO SUB 20/PB',\n",
       "       'BOTAFOGO SUB 20/SP', 'BOTAFOGO/PB', 'BOTAFOGO/RJ',\n",
       "       'BOTAFOGO/RJ - SUB 20', 'BOTAFOGO/RJ JÚNIOR', 'BOTAFOGO/SP',\n",
       "       'BOTAFOGO/SP JÚNIOR', 'BOURNEMOUTH/ING', 'BRAGANTINO/PA',\n",
       "       'BRAGANTINO/SP', 'BRASIL', 'BRASIL/RS', 'BRASIL/SUB-20',\n",
       "       'BRASILIA/DF', 'BRASILIENSE/DF', 'BRASILIENSE/DF JÚNIOR',\n",
       "       'BRASILIS/SP', 'BRAZLANDIA/DF', 'BRESCIA/ITA', 'BRIGHTON/ING',\n",
       "       'BRUSQUE/SC', 'BULGARIA', 'BULGÁRIA', 'BURNLEY/ING', 'BÉLGICA',\n",
       "       'BÓSNIA HERZEGOVINA', 'CABENSE/PE', 'CABOFRIENSE/RJ',\n",
       "       'CACHOEIRO/ES', 'CAGLIARI CALCIO/ITA', 'CAICÓ/RN', 'CALDENSE/MG',\n",
       "       'CAMARÕES', 'CAMAÇARI/BA', 'CAMBURIÚ/SC', 'CAMETÁ/PA',\n",
       "       'CAMPINAS/SP', 'CAMPINAS/SP JÚNIOR', 'CAMPINENSE/PB',\n",
       "       'CAMPO LIMPO/SP', 'CANADÁ/CAN', 'CAPITAL/DF',\n",
       "       'CAPIVARIANO SUB 20/SP', 'CAPIVARIANO/SP', 'CASCAVEL/PR',\n",
       "       'CASTANHAL/PA', 'CATANDUVENSE/SP', 'CATUENSE/BA', 'CAXIAS/RS',\n",
       "       'CAXIAS/SC', 'CAXIENSE/MA', 'CAZAQUISTÃO', 'CEARÁ/CE',\n",
       "       'CEARÁ/CE JÚNIOR', 'CEARÁ/CE SUB 20', 'CEILANDENSE/DF',\n",
       "       'CEILÂNDIA/DF', 'CEILÃNDIA/DF JÚNIOR', 'CELTA DE VIGO/ESP',\n",
       "       'CELTA/ESP', 'CENE/MS', 'CENTRAL SUB 20 /PE', 'CENTRAL/PE',\n",
       "       'CF OS BELENENSES/PRT', 'CFZ BRASÍLIA/DF JUNIOR', 'CFZ-BSB/DF',\n",
       "       'CFZ/DF', 'CHAPECOENSE/SC', 'CHELSEA/ING', 'CHIEVO/ITA', 'CHILE',\n",
       "       'CHILE SUB20', 'CHINA', 'CHIPRE', 'CIANORTE/PR',\n",
       "       'CLUBE DESP TONDELA/PRT', 'COLATINA/ES', 'COLO COLO/BA',\n",
       "       'COLÔMBIA', 'COLÔMBIA SUB20', 'COLÔNIA/DEU', 'COMERCIAL/MS',\n",
       "       'COMERCIAL/SP', 'COMERCIAL/SP JÚNIOR', 'COMO/ITA', 'CONFIANÇA/SE',\n",
       "       'CONFIANÇA/SE JUNIOR', 'CORINTHIANS B/SP', 'CORINTHIANS/SP',\n",
       "       'CORINTHIANS/SP - SUB 20', 'CORINTHIANS/SP JÚNIOR', 'CORITIBA/PR',\n",
       "       'CORITIBA/PR - SUB 20', 'CORITIBA/PR JÚNIOR', 'CORITIBA/SE',\n",
       "       'CORURIPE/AL', 'CORÉIA DO NORTE', 'CORÉIA DO SUL',\n",
       "       'CORÉIA DO SUL SUB20', 'COSTA DO MARFIM', 'COSTA RICA',\n",
       "       'COSTA RICA/MS', 'COXIM/MS', 'CRAC/GO', 'CRATEÚS/CE', 'CRATO/CE',\n",
       "       'CRB/AL', 'CRB/AL JÚNIOR', 'CRICIÚMA/SC', 'CRICIÚMA/SC - SUB 20',\n",
       "       'CRICIÚMA/SC JÚNIOR', 'CRICIÚMA/SC SUB 20', 'CRISTALINA/GO',\n",
       "       'CROACIA', 'CROÁCIA', 'CROÁCIA SUB20', 'CRUZEIRO/MG',\n",
       "       'CRUZEIRO/MG - SUB 20', 'CRUZEIRO/MG JÚNIOR', 'CRUZEIRO/MG SUB 20',\n",
       "       'CRUZEIRO/RS', 'CRYSTAL PALACE/ING', 'CSA/AL', 'CSA/AL JÚNIOR',\n",
       "       'CSE/AL', 'CSP/PB', 'CTE COLATINA/ES', 'CTE/COLATINA/ES',\n",
       "       'CUBA SUB20', 'CUIABÁ/MT', 'CÁDIZ/ESP', 'DEMOCRATA GV/MG',\n",
       "       'DEMOCRATA/MG', 'DEP. LA CORUÑA/ESP', 'DEPORTI LA CORUNA/ESP',\n",
       "       'DEPORTIVO LA CORUÑA/ESP', 'DEPORTIVO/ESP', 'DESPORTIVA/ES',\n",
       "       'DESPORTIVA/PB', 'DIJON/FRA', 'DINAMARCA', 'DOM PEDRO II/DF',\n",
       "       'DOM PEDRO/DF', 'DORENSE/SE', 'DORTMUND/DEU', 'DUQUE DE CAXIAS/RJ',\n",
       "       'E C DEMOCRATA/MG', 'E. C. OSASCO/SP', 'ECUS/SP', 'ECUS/SP JÚNIOR',\n",
       "       'EGITO', 'EGITO SUB20', 'EL SALVADOR SUB20', 'ELOSPORT/SP',\n",
       "       'EMPOLI/ITA', 'EQUADOR', 'ESCÓCIA', 'ESLOVÁQUIA', 'ESLOVÊNIA',\n",
       "       'ESPANHA', 'ESPANHA SUB20', 'ESPANYOL/ESP', 'ESPORTIVO/DF',\n",
       "       'ESPORTIVO/RS', 'ESTADOS UNIDOS', 'ESTADOS UNIDOS SUB20',\n",
       "       'ESTANCIANO SUB 20/SE', 'ESTANCIANO/SE', 'ESTRELA DO NORTE/ES',\n",
       "       'ESTRELA DO NORTE/ES JÚNIOR', 'ESTÔNIA', 'ETTI JUNDIAÍ/SP',\n",
       "       'EVERTON/ING', 'EXTREMA/MG', 'F ADECO/SP', 'F CATU/BA',\n",
       "       'F CAUCAIA/CE', 'F EUCLIDES DA CUNHA/BA', 'F FERROVIÁRIA/SP',\n",
       "       'F ITABUNA/BA', 'F JUVENTUDE/BA', 'F KINDERMANN/SC', 'F LUSACA/BA',\n",
       "       'F MUNDO NOVO/BA', 'F PINHEIRENSE/PA', 'F PORTUGUESA DESPORTOS/SP',\n",
       "       'F REDENÇÃO/BA', 'F VASCO DA GAMA/RJ', 'F VITORIA/BA',\n",
       "       'F VITÓRIA/PE', 'FAST/AM', 'FC BARCELONA/ESP', 'FC BORDEAUX/FRA',\n",
       "       'FEIRENSE/BA', 'FERNANDÓPOLIS/SP', 'FERNANDÓPOLIS/SP SUB 20',\n",
       "       'FERROVIÁRIA/SP', 'FERROVIÁRIA/SP JÚNIOR', 'FERROVIÁRIO/CE',\n",
       "       'FIGUEIRENSE/SC', 'FIGUEIRENSE/SC - SUB 20',\n",
       "       'FIGUEIRENSE/SC JÚNIOR', 'FIORENTINA/ITA', 'FLAMENGO/PI',\n",
       "       'FLAMENGO/RJ', 'FLAMENGO/RJ - SUB 20', 'FLAMENGO/RJ JÚNIOR',\n",
       "       'FLAMENGO/RJ SUB 20', 'FLUMINENSE FEIRA SANTANA/BA',\n",
       "       'FLUMINENSE/BA', 'FLUMINENSE/BA JUNIOR', 'FLUMINENSE/RJ',\n",
       "       'FLUMINENSE/RJ JÚNIOR', 'FORMOSA/GO', 'FORTALEZA/CE',\n",
       "       'FORTALEZA/CE JÚNIOR', 'FORÇA/SP', 'FRANCANA/SP', 'FRANÇA',\n",
       "       'FRANÇA SUB20', 'FRIBURGUENSE/RJ', 'FUNORTE/MG',\n",
       "       'FUNORTE/MG JUNIOR', 'Ferroviário ST/PE', 'GAMA/DF', 'GAMBIA',\n",
       "       'GANA', 'GANA SUB20', 'GAVIÃO/PA', 'GAÚCHO/RS', 'GENOA/ITA',\n",
       "       'GEORGIA/GEO', 'GILBRALTAR/GIB', 'GLOBO/RN', 'GLÓRIA/RS',\n",
       "       'GOIANÉSIA/GO', 'GOIATUBA/GO', 'GOIÁS/GO', 'GOIÁS/GO - SUB 20',\n",
       "       'GOIÁS/GO JÚNIOR', 'GOIÂNIA/GO', 'GRÉCIA', 'GRÉCIA SUB20',\n",
       "       'GRÊMIO BARUERI/SP', 'GRÊMIO BARUERI/SP JÚNIOR',\n",
       "       'GRÊMIO INHUMENSE/GO', 'GRÊMIO MARINGÁ/PR', 'GRÊMIO PRUDENTE/SP',\n",
       "       'GRÊMIO/RS', 'GRÊMIO/RS - SUB 20', 'GRÊMIO/RS JÚNIOR',\n",
       "       'GUAPIRA/SP', 'GUARANI V.A./RS', 'GUARANI/CE', 'GUARANI/MG',\n",
       "       'GUARANI/RS', 'GUARANI/SC', 'GUARANI/SP', 'GUARANI/SP JÚNIOR',\n",
       "       'GUARANI/SP SUB 20', 'GUARANY/CE', 'GUARANY/CE JÚNIOR',\n",
       "       'GUARANY/RS', 'GUARANY/SE', 'GUARANY/SE JÚNIOR',\n",
       "       'GUARATINGUETÁ/SP', 'GUARIBA/SP', 'GUARUJÁ/SP', 'GUARULHOS/SP',\n",
       "       'GUARÁ/DF', 'GUAXUPÉ/MG', 'GUAÇUANO/SP', 'GURUPI/TO',\n",
       "       'HERMANN AICHINGER/SC', 'HERTHA BERLIM/DEU', 'HOLANDA', 'HONDURAS',\n",
       "       'HORIZONTE/CE', 'HUDDERSFIELD/ING', 'HUNGRIA', 'ICASA/CE',\n",
       "       'ILHAS FAROÉ/FRO', 'INDEPENDENTE/PA', 'INDEPENDENTE/SP',\n",
       "       'INGLATERRA', 'INGLATERRA SUB20', 'INTER DE MILÃO/ITA',\n",
       "       'INTER LIMEIRA/SP', 'INTER LIMEIRA/SP JÚNIOR', 'INTER SM/RS',\n",
       "       'INTER/RS', 'INTERCONTINENTAL/PE', 'INTERNACIONAL/PB',\n",
       "       'INTERNACIONAL/RS', 'INTERNACIONAL/RS JÚNIOR',\n",
       "       'INTERNACIONAL/RS/Sub 20', 'INTERNAZIONALE/ITA', 'INTERPORTO/TO',\n",
       "       'IPATINGA/MG', 'IPATINGA/MG - SUB 20', 'IPITANGA/BA', 'IPORÁ/GO',\n",
       "       'IRAQUE SUB20', 'IRATY/PR', 'IRLANDA', 'IRLANDA DO NORTE', 'IRÃ',\n",
       "       'ISLÂNDIA', 'ISRAEL', 'ITABAIANA/SE', 'ITABUNA/BA',\n",
       "       'ITABUNA/BA JÚNIOR', 'ITACURUBA/PE', 'ITAPAJÉ/CE', 'ITAPERUNA/RJ',\n",
       "       'ITAPIPOCA/CE', 'ITARARÉ/SP', 'ITUANO SUB 20/SP', 'ITUANO/SP',\n",
       "       'ITUIUTABA/MG', 'ITUMBIARA/GO', 'ITÁLIA', 'IZABELENSE/PA',\n",
       "       'JABAQUARA/SP', 'JABOTICABAL/SP', 'JACAREÍ/SP',\n",
       "       'JACAREÍ/SP JÚNIOR', 'JACUTINGA/MG', 'JAGUARÉ/ES',\n",
       "       'JAGUARÉ/ES JÚNIOR', 'JALESENSE/SP', 'JAPÃO', 'JARAGUÁ/SC',\n",
       "       'JATAIENSE/GO', 'JI PARANÁ/RO JÚNIOR', 'JI-PARANÁ / RO',\n",
       "       'JOINVILLE SUB 20/SC', 'JOINVILLE/SC', 'JOSEENSE/SP',\n",
       "       'JOSEENSE/SP JÚNIOR', 'JOSÉ BONIFÁCIO/SP', 'JUAZEIRENSE/BA',\n",
       "       'JUAZEIRO/BA', 'JUVENTUDE SUB 20/RS', 'JUVENTUDE/RS',\n",
       "       'JUVENTUDE/RS - SUB 20', 'JUVENTUDE/RS JÚNIOR', 'JUVENTUS FC/ITA',\n",
       "       'JUVENTUS/ITA', 'JUVENTUS/MG', 'JUVENTUS/SC', 'JUVENTUS/SP',\n",
       "       'JUVENTUS/SP JÚNIOR', 'LAGARTENSE/SE', 'LAS PALMAS/ESP',\n",
       "       'LAZIO/ITA', 'LE MANS/FRA', 'LEGANES/ESP', 'LEGIÃO/DF',\n",
       "       'LEICESTER/ING', 'LEMENSE/SP', 'LENÇOENSE/SP',\n",
       "       'LENÇOENSE/SP JÚNIOR', 'LETÔNIA/LVA', 'LEVANTE/ESP',\n",
       "       'LEVERKUSEN/DEU', 'LIECHTENSTEIN/LIE', 'LILLE/FRA', 'LIMOEIRO/CE',\n",
       "       'LINENSE/SP', 'LINENSE/SP SUB 20', 'LINHARES/ES', 'LITUANIA/LTU',\n",
       "       'LIVERPOOL/ING', 'LIVORNO/ITA', 'LONDRINA/PR',\n",
       "       'LONDRINA/PR JÚNIOR', 'LUVERDENSE SUB 20/MT', 'LUVERDENSE/MT',\n",
       "       'LUZIÂNIA/GO', 'LYON/FRA', 'MACAÉ/RJ', 'MADUREIRA SUB 20/RJ',\n",
       "       'MADUREIRA/RJ', 'MADUREIRA/RJ JÚNIOR', 'MADUREIRA/RJ SUB 20',\n",
       "       'MALI SUB20', 'MALLORCA/ESP', 'MALUTROM/PR', 'MALÁSIA',\n",
       "       'MAMORÉ/MG', 'MANCHESTER CITY/ING', 'MANCHESTER UNITED/ING',\n",
       "       'MANCHESTER UTD/ING', 'MARANGUAPE/CE', 'MARANHÃO/MA',\n",
       "       'MARCÍLIO DIAS/SC', 'MARINGÁ/PR', 'MARROCOS', 'MARSEILLE/FRA',\n",
       "       'MARÍLIA SUB 20/SP', 'MARÍLIA/SP', 'MARÍLIA/SP JÚNIOR',\n",
       "       'MATONENSE/SP', 'MAUAENSE/SP', 'MESQUITA/RJ', 'MESSINA/ITA',\n",
       "       'METROPOLITANO/SC', 'METZ/FRA', 'MILAN/ITA', 'MINEIROS/GO',\n",
       "       'MIRAMAR/PB', 'MIRASSOL/SP', 'MIRASSOL/SP JÚNIOR', 'MISTO/MS',\n",
       "       'MIXTO/MT', 'MODENA/ITA', 'MOGI MIRIM/SP', 'MOGI MIRIM/SP JÚNIOR',\n",
       "       'MONACO/FRA', 'MONCHENGLADBACH/DEU', 'MONTE AZUL/SP', 'MONTENEGRO',\n",
       "       'MONTENEGRO/SP', 'MONTPELLIER/FRA', 'MORRINHOS/GO',\n",
       "       'MOTO CLUBE/MA', 'MURICI/AL', 'MÁLAGA/ESP', 'MÉXICO',\n",
       "       'MÉXICO SUB20', 'NACIONAL/AM', 'NACIONAL/AM JÚNIOR', 'NACIONAL/MG',\n",
       "       'NACIONAL/PB', 'NACIONAL/SP', 'NACIONAL/SP JÚNIOR', 'NAMÍBIA',\n",
       "       'NANTES/FRA', 'NAPOLI/ITA', 'NEW CASTLE/ING', 'NICE/FRA',\n",
       "       'NIGÉRIA', 'NIGÉRIA SUB20', 'NOROESTE/SP', 'NOROESTE/SP JÚNIOR',\n",
       "       'NORUEGA', 'NOVA IGUAÇU/RJ', 'NOVA IGUAÇU/RJ SUB 20',\n",
       "       'NOVA VENÉCIA/ES', 'NOVA ZELÂNDIA', 'NOVA ZELÂNDIA SUB20',\n",
       "       'NOVA ZELÂNDIA/NZL', 'NOVO HAMBURGO/RS', 'NOVO HORIZONTE/GO',\n",
       "       'NÁUTICO/PE', 'NÁUTICO/PE - SUB 20', 'NÁUTICO/PE JÚNIOR',\n",
       "       'OESTE/SP', 'OLARIA/RJ', 'OLYMPIQUE DE NICE/FRA',\n",
       "       'OLYMPIQUE LYONNAIS/FRA', 'OLÍMPIA/SP', 'OLÍMPICO/SE',\n",
       "       'OPERARIO/MS', 'OPERÁRIO/MS JUNIOR', 'OPERÁRIO/PR', 'OSASCO/SP',\n",
       "       'OSASCO/SP JÚNIOR', 'OSASUÑA/ESP', 'OSVALDO CRUZ/SP',\n",
       "       'P. DESPORTOS/SP', 'PAISSANDU/PA', 'PALERMO/ITA', 'PALESTRA/SP',\n",
       "       'PALMAS/TO', 'PALMAS/TO JÚNIOR', 'PALMEIRA/RN', 'PALMEIRAS B/SP',\n",
       "       'PALMEIRAS-B/SP', 'PALMEIRAS/SP', 'PALMEIRAS/SP - SUB 20',\n",
       "       'PALMEIRAS/SP JÚNIOR', 'PALMEIRINHA/SP', 'PANAMÁ',\n",
       "       'PARAGOMINAS/PA', 'PARAGUAI', 'PARAGUAI SUB20', 'PARANAIBENSE/MS',\n",
       "       'PARANAVAÍ/PR', 'PARANOÁ/DF', 'PARANÁ/PR', 'PARANÁ/PR JÚNIOR',\n",
       "       'PARAUAPEBAS/PA', 'PARIS SAINT-GERMAIN/FRA', 'PARMA/ITA',\n",
       "       'PARNAÍBA/PI', 'PASSO FUNDO/RS', 'PAULISTA SUB 20/SP',\n",
       "       'PAULISTA/SP', 'PAULISTA/SP JÚNIOR', 'PAULÍNIA/SP', 'PAYSANDU/PA',\n",
       "       'PAYSANDU/PA JÚNIOR', 'PAYSANDÚ SUB 20/PA', 'PAÍS DE GALES',\n",
       "       'PEDREIRA/PA', 'PELOTAS/RS', 'PENAPOLENSE/SP',\n",
       "       'PENAPOLENSE/SP SUB 20', 'PERU', 'PERUGIA/ITA', 'PESQUEIRA/PE',\n",
       "       'PETROLINA/PE', 'PIACENZA/IT', 'PIACENZA/ITA', 'PICOS/PI',\n",
       "       'PINHEIRENSE/PA', 'PIRAMBU/SE', 'POLÔNIA', 'PONTE PRETA B/SP',\n",
       "       'PONTE PRETA/SP', 'PONTE PRETA/SP JÚNIOR', 'PORT.SANTISTA/SP',\n",
       "       'PORTIMONENSE SC/PRT', 'PORTO/PE', 'PORTO/PE JÚNIOR', 'PORTUGAL',\n",
       "       'PORTUGAL SUB20', 'PORTUGUESA DESPORTOS/SP',\n",
       "       'PORTUGUESA DESPORTOS/SP - SUB 20',\n",
       "       'PORTUGUESA DESPORTOS/SP JÚNIOR', 'PORTUGUESA/PR', 'PORTUGUESA/RJ',\n",
       "       'POTIGUAR/RN', 'POÇÕES/BA', 'PRIMAVERA/SP', 'PRIMAVERA/SP JÚNIOR',\n",
       "       'PSG/FRA', 'QUIXADÁ/CE', 'RACING SANTANDER/ESP', 'RADIUM/SP',\n",
       "       'RAYO VALLECANO/ESP', 'RB LEIPZIG/DEU', 'REAL BETIS/ESP',\n",
       "       'REAL CLUBE/GO', 'REAL MADRID/ESP', 'REAL SOCIEDAD/ESP', 'REAL/GO',\n",
       "       'RECIFE/PE', 'RECREATIVO/ESP', 'REGGINA/ITA', 'REMO/PA',\n",
       "       'REMO/PA JÚNIOR', 'RENNES/FRA', 'REP.TCHECA', 'REPÚBLICA TCHECA',\n",
       "       'RESENDE/RJ', 'RIACHUELO/SE', 'RIO AVE/PRT',\n",
       "       'RIO BRANCO SUB 20 /ES', 'RIO BRANCO SUB 20/SP', 'RIO BRANCO/AC',\n",
       "       'RIO BRANCO/AC SUB 20', 'RIO BRANCO/ES', 'RIO BRANCO/ES JÚNIOR',\n",
       "       'RIO BRANCO/MG', 'RIO BRANCO/PR', 'RIO BRANCO/SP',\n",
       "       'RIO BRANCO/SP JÚNIOR', 'RIO CLARO/SP', 'RIO CLARO/SP JÚNIOR',\n",
       "       'RIO PRETO/SP', 'RIO PRETO/SP JÚNIOR', 'RIO VERDE/GO',\n",
       "       'RIOGRANDENSE/RS', 'RIOVERDENSE/GO', 'RIVER/PI', 'ROMA/ITA',\n",
       "       'ROMÊNIA', 'RÚSSIA', 'S LISBOA BENFICA/PRT', 'S. BERNARDO/SP',\n",
       "       'S. E. R. CHAPADÃO/MS', 'S. PAULO/SP', 'S.BENTO/SP',\n",
       "       'SAINT-ÉTIENNE/FRA', 'SALGUEIRO/PE', 'SAMPAIO CORRÊA/MA',\n",
       "       'SAMPDORIA/ITA', 'SANTA CRUZ SUB 20/PE', 'SANTA CRUZ/PA',\n",
       "       'SANTA CRUZ/PE', 'SANTA CRUZ/PE JÚNIOR', 'SANTA CRUZ/RN',\n",
       "       'SANTA CRUZ/RS', 'SANTA HELENA/GO', 'SANTA INÊS/MA JÚNIOR',\n",
       "       'SANTA MARIA/DF', 'SANTA RITENSE/SP', 'SANTA ROSA/PA',\n",
       "       'SANTACRUZENSE/SP', 'SANTARRITENSE / MG', 'SANTO ANDRE/SP',\n",
       "       'SANTO ANDRÉ/SP', 'SANTO ANDRÉ/SP JÚNIOR', 'SANTO ANDRÉ/SP/Sub 20',\n",
       "       'SANTO ANGELO/RS', 'SANTOS SUB 20/SP', 'SANTOS/SP',\n",
       "       'SANTOS/SP JÚNIOR', 'SAPIRANGA/RS', 'SASSUOLO/ITA',\n",
       "       'SC PAULISTA/SP', 'SCHALKE 04/DEU', 'SELEÇÃO CATALUÑA/ESP',\n",
       "       'SENEGAL', 'SERGIPE SUB 20/SE', 'SERGIPE/SE', 'SERGIPE/SE JÚNIOR',\n",
       "       'SERGIPE/SE SUB 20', 'SERRA TALHADA/PE', 'SERRA/ES', 'SERRANO/PB',\n",
       "       'SERTÃOZINHO/SP', 'SEVILLA/ESP', 'SOBRADINHO/DF',\n",
       "       'SOC DEPORT EIBAR/ESP', 'SOCIAL/MG', 'SOCIETA SPO LAZIO/ITA',\n",
       "       'SOCORRENSE/SE', 'SOMÁLIA', 'SOROCABA/SP', 'SOROCABA/SP JÚNIOR',\n",
       "       'SOUSA/PB', 'SOUTHAMPTON/ING', 'SPAL/ITA', 'SPORT RECIFE/PE',\n",
       "       'SPORT/PE', 'SPORT/PE - SUB 20', 'SPORT/PE JÚNIOR',\n",
       "       'SPORTING C BRAGA/PRT', 'SPORTING CLUBE/PRT', 'STOKE CITY/ING',\n",
       "       'SUMARÉ/SP', 'SUMARÉ/SP JÚNIOR', 'SUZANO/SP', 'SUÉCIA', 'SUÍÇA',\n",
       "       'SWANSEA/ING', 'SÃO BENEDITO/CE', 'SÃO BENTO SUB 20/SP',\n",
       "       'SÃO BENTO/SP', 'SÃO BENTO/SP JÚNIOR', 'SÃO BERNARDO SUB 20/SP',\n",
       "       'SÃO BERNARDO/SP', 'SÃO BERNARDO/SP JÚNIOR', 'SÃO CAETANO B/SP',\n",
       "       'SÃO CAETANO SUB 20/SP', 'SÃO CAETANO/SP', 'SÃO CAETANO/SP JÚNIOR',\n",
       "       'SÃO CARLOS SUB 20/SP', 'SÃO CARLOS/SP', 'SÃO CARLOS/SP JÚNIOR',\n",
       "       'SÃO FRANCISCO/PA', 'SÃO GABRIEL/RS', 'SÃO JOSÉ (C S)/RS',\n",
       "       'SÃO JOSÉ (PA) /RS', 'SÃO JOSÉ DOS CAMPOS/SP', 'SÃO JOSÉ/RS',\n",
       "       'SÃO JOSÉ/SP', 'SÃO LUIZ/RS', 'SÃO MATEUS/ES', 'SÃO PAULO B/SP',\n",
       "       'SÃO PAULO SUB 20/SP', 'SÃO PAULO/SP', 'SÃO PAULO/SP JÚNIOR',\n",
       "       'SÃO PAULO/SP SUB 20', 'SÃO RAIMUNDO/AM', 'SÃO RAIMUNDO/PA',\n",
       "       'SÃO VICENTE/SP', 'SÃO VICENTE/SP JÚNIOR', 'SÃOCARLENSE/SP JÚNIOR',\n",
       "       'SÉRVIA', 'SÉRVIA E MONTENEGRO', 'TABOÃO DA SERRA/SP',\n",
       "       'TABOÃO DA SERRA/SP JÚNIOR', 'TAITI', 'TAQUARITINGA/SP',\n",
       "       'TAUBATÉ/SP', 'TAUBATÉ/SP JÚNIOR', 'TENERIFE/ESP',\n",
       "       'TIGRES DO BRASIL/RJ', 'TIME NEGRA/PA', 'TIRADENTES/CE',\n",
       "       'TIRADENTES/PA', 'TOCANTINÓPOLIS/TO', 'TOGO', 'TOLEDO/PR',\n",
       "       'TOMBENSE/MG', 'TORINO/ITA', 'TOTTENHAM/ING', 'TOULOUSE/FRA',\n",
       "       'TRAIRIENSE/CE', 'TREZE/PB', 'TREZE/PB JÚNIOR', 'TRICORDIANO / MG',\n",
       "       'TRICORDIANO/MG', 'TRINIDAD E TOBAGO', 'TSG HOFFENHEIM/DEU',\n",
       "       'TUBARÃO/SC', 'TUNA LUSO/PA', 'TUNISIA', 'TUNÍSIA', 'TUPI/MG',\n",
       "       'TUPY/ES', 'TUPÃ/SP', 'TUPÃ/SP SUB 20', 'TURQUIA', 'TURQUIA SUB20',\n",
       "       'U.BANDEIRANTE/PR', 'UBERABA/MG', 'UBERLÂNDIA/MG', 'UCRÂNIA',\n",
       "       'UDINESE/IT', 'UDINESE/ITA', 'ULBRA/RS', 'UNICLINIC/CE',\n",
       "       'UNIÃO BANDEIRANTE/PR', 'UNIÃO BARBARENSE/SP',\n",
       "       'UNIÃO BARBARENSE/SP JÚNIOR', 'UNIÃO S.JOÃO/SP',\n",
       "       'UNIÃO SÃO JOÃO/SP', 'UNIÃO SÃO JOÃO/SP JÚNIOR', 'URT/MG',\n",
       "       'URUBURETAMA/CE', 'URUGUAI', 'URUGUAI SUB20', 'UZBEQUISTÃO SUB20',\n",
       "       'VALENCIA CLUB/ESP', 'VALENCIA/ESP', 'VALERIODOCE/MG',\n",
       "       'VALLADOLID/ESP', 'VARGINHA/MG', 'VASCO DA GAMA/RJ',\n",
       "       'VASCO DA GAMA/RJ - SUB 20', 'VASCO DA GAMA/RJ JÚNIOR', 'VASCO/RJ',\n",
       "       'VELO CLUBE/SP', 'VENEZUELA', 'VERA CRUZ/PE', 'VERANÓPOLIS/RS',\n",
       "       'VERONA/IT', 'VERONA/ITA', 'VILA NOVA/GO', 'VILA NOVA/GO JÚNIOR',\n",
       "       'VILA NOVA/MG', 'VILA RICA/PA', 'VILAVELHENSE/ES',\n",
       "       'VILAVELHENSE/ES JUNIOR', 'VILLA NOVA/MG', 'VILLARREAL/ESP',\n",
       "       'VITORIA/PE', 'VITÓRIA / ES JÚNIOR', 'VITÓRIA DA CONQUISTA/BA',\n",
       "       'VITÓRIA/BA', 'VITÓRIA/BA - SUB 20', 'VITÓRIA/BA JÚNIOR',\n",
       "       'VITÓRIA/ES', 'VOLTA REDONDA SUB 20/RJ', 'VOLTA REDONDA/RJ',\n",
       "       'VOTORATY/SP', 'VOTUPORANGA/SP', 'VÊNUS/PA', 'WATFORD/ING',\n",
       "       'WEST BROMWICH/ING', 'WEST HAM/ING', 'WIGAN/ING', 'WOLFSBURG/DEU',\n",
       "       'XV CARAGUÁ/SP', 'XV DE JAÚ/SP', 'XV DE JAÚ/SP JÚNIOR',\n",
       "       'XV DE JAÚ/SP SUB 20', 'XV NOV. CARAGUÁ/SP', 'XV NOV. JAÚ/SP',\n",
       "       'XV NOV. PIRACICABA/SP', 'XV NOV. PIRACICABA/SP JÚNIOR',\n",
       "       'XV PIRACICABA/SP', 'YPIRANGA/PE', 'YPIRANGA/PE JÚNIOR',\n",
       "       'YPIRANGA/RS', 'ZARAGOZA/ESP', 'ÁFRICA DO SUL', 'ÁGUIA/PA',\n",
       "       'ÁUSTRIA'], dtype=object)"
      ]
     },
     "execution_count": 132,
     "metadata": {},
     "output_type": "execute_result"
    }
   ],
   "source": [
    "vocab"
   ]
  },
  {
   "cell_type": "markdown",
   "metadata": {},
   "source": [
    "### Realizar previsão"
   ]
  },
  {
   "cell_type": "code",
   "execution_count": 133,
   "metadata": {},
   "outputs": [
    {
     "name": "stdout",
     "output_type": "stream",
     "text": [
      "[[ 0.511526    0.256019   -0.35280702]]\n"
     ]
    }
   ],
   "source": [
    "H = 'ATLÉTICO/MG'\n",
    "A = 'SANTOS/SP'\n",
    "\n",
    "prep = [prepare(H,A)]\n",
    "    \n",
    "prepx = np.array(prep).reshape(np.array(prep).shape[0],np.array(prep).shape[1]*2)\n",
    "    \n",
    "p = model.predict(prepx)\n",
    "\n",
    "\n",
    "print(p)\n"
   ]
  },
  {
   "cell_type": "code",
   "execution_count": null,
   "metadata": {},
   "outputs": [],
   "source": []
  }
 ],
 "metadata": {
  "kernelspec": {
   "display_name": "Python 3",
   "language": "python",
   "name": "python3"
  },
  "language_info": {
   "codemirror_mode": {
    "name": "ipython",
    "version": 3
   },
   "file_extension": ".py",
   "mimetype": "text/x-python",
   "name": "python",
   "nbconvert_exporter": "python",
   "pygments_lexer": "ipython3",
   "version": "3.6.7"
  }
 },
 "nbformat": 4,
 "nbformat_minor": 2
}
