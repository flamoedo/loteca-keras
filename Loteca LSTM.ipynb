{
 "cells": [
  {
   "cell_type": "code",
   "execution_count": 1,
   "metadata": {},
   "outputs": [
    {
     "name": "stderr",
     "output_type": "stream",
     "text": [
      "Using TensorFlow backend.\n"
     ]
    }
   ],
   "source": [
    "import keras\n",
    "import pandas as pd\n",
    "import numpy as np\n",
    "import matplotlib.pyplot as plt\n",
    "from sklearn.model_selection import train_test_split"
   ]
  },
  {
   "cell_type": "code",
   "execution_count": 2,
   "metadata": {},
   "outputs": [],
   "source": [
    "df = pd.read_csv(\"arquivo_loteca1.csv\")"
   ]
  },
  {
   "cell_type": "code",
   "execution_count": 4,
   "metadata": {},
   "outputs": [
    {
     "data": {
      "text/html": [
       "<div>\n",
       "<style scoped>\n",
       "    .dataframe tbody tr th:only-of-type {\n",
       "        vertical-align: middle;\n",
       "    }\n",
       "\n",
       "    .dataframe tbody tr th {\n",
       "        vertical-align: top;\n",
       "    }\n",
       "\n",
       "    .dataframe thead th {\n",
       "        text-align: right;\n",
       "    }\n",
       "</style>\n",
       "<table border=\"1\" class=\"dataframe\">\n",
       "  <thead>\n",
       "    <tr style=\"text-align: right;\">\n",
       "      <th></th>\n",
       "      <th>Unnamed: 0</th>\n",
       "      <th>Concurso</th>\n",
       "      <th>Jogo</th>\n",
       "      <th>HG</th>\n",
       "      <th>Home</th>\n",
       "      <th>S</th>\n",
       "      <th>Away</th>\n",
       "      <th>AG</th>\n",
       "      <th>Dia</th>\n",
       "      <th>Res</th>\n",
       "      <th>H_Goals_Scored</th>\n",
       "      <th>A_Goals_Scored</th>\n",
       "      <th>H_Goals_Against</th>\n",
       "      <th>A_Goals_Against</th>\n",
       "    </tr>\n",
       "  </thead>\n",
       "  <tbody>\n",
       "    <tr>\n",
       "      <th>0</th>\n",
       "      <td>0</td>\n",
       "      <td>Concurso 1 (18/02/2002)</td>\n",
       "      <td>1</td>\n",
       "      <td>2</td>\n",
       "      <td>FLAMENGO/RJ</td>\n",
       "      <td></td>\n",
       "      <td>S. PAULO/SP</td>\n",
       "      <td>4</td>\n",
       "      <td>Domingo</td>\n",
       "      <td>A</td>\n",
       "      <td>0</td>\n",
       "      <td>0</td>\n",
       "      <td>0</td>\n",
       "      <td>0</td>\n",
       "    </tr>\n",
       "    <tr>\n",
       "      <th>1</th>\n",
       "      <td>1</td>\n",
       "      <td>Concurso 1 (18/02/2002)</td>\n",
       "      <td>2</td>\n",
       "      <td>3</td>\n",
       "      <td>VASCO/RJ</td>\n",
       "      <td></td>\n",
       "      <td>AMERICANO/RJ</td>\n",
       "      <td>0</td>\n",
       "      <td>Domingo</td>\n",
       "      <td>H</td>\n",
       "      <td>0</td>\n",
       "      <td>0</td>\n",
       "      <td>0</td>\n",
       "      <td>0</td>\n",
       "    </tr>\n",
       "    <tr>\n",
       "      <th>2</th>\n",
       "      <td>2</td>\n",
       "      <td>Concurso 1 (18/02/2002)</td>\n",
       "      <td>3</td>\n",
       "      <td>2</td>\n",
       "      <td>SANTOS/SP</td>\n",
       "      <td></td>\n",
       "      <td>SÃO CAETANO/SP</td>\n",
       "      <td>1</td>\n",
       "      <td>Domingo</td>\n",
       "      <td>H</td>\n",
       "      <td>0</td>\n",
       "      <td>0</td>\n",
       "      <td>0</td>\n",
       "      <td>0</td>\n",
       "    </tr>\n",
       "    <tr>\n",
       "      <th>3</th>\n",
       "      <td>3</td>\n",
       "      <td>Concurso 1 (18/02/2002)</td>\n",
       "      <td>4</td>\n",
       "      <td>1</td>\n",
       "      <td>P. DESPORTOS/SP</td>\n",
       "      <td></td>\n",
       "      <td>CORINTHIANS/SP</td>\n",
       "      <td>4</td>\n",
       "      <td>Domingo</td>\n",
       "      <td>A</td>\n",
       "      <td>0</td>\n",
       "      <td>0</td>\n",
       "      <td>0</td>\n",
       "      <td>0</td>\n",
       "    </tr>\n",
       "    <tr>\n",
       "      <th>4</th>\n",
       "      <td>4</td>\n",
       "      <td>Concurso 1 (18/02/2002)</td>\n",
       "      <td>5</td>\n",
       "      <td>7</td>\n",
       "      <td>CRUZEIRO/MG</td>\n",
       "      <td></td>\n",
       "      <td>AMÉRICA/MG</td>\n",
       "      <td>0</td>\n",
       "      <td>Sábado</td>\n",
       "      <td>H</td>\n",
       "      <td>0</td>\n",
       "      <td>0</td>\n",
       "      <td>0</td>\n",
       "      <td>0</td>\n",
       "    </tr>\n",
       "  </tbody>\n",
       "</table>\n",
       "</div>"
      ],
      "text/plain": [
       "   Unnamed: 0                 Concurso  Jogo  HG             Home  S  \\\n",
       "0           0  Concurso 1 (18/02/2002)     1   2      FLAMENGO/RJ      \n",
       "1           1  Concurso 1 (18/02/2002)     2   3         VASCO/RJ      \n",
       "2           2  Concurso 1 (18/02/2002)     3   2        SANTOS/SP      \n",
       "3           3  Concurso 1 (18/02/2002)     4   1  P. DESPORTOS/SP      \n",
       "4           4  Concurso 1 (18/02/2002)     5   7      CRUZEIRO/MG      \n",
       "\n",
       "             Away  AG       Dia Res  H_Goals_Scored  A_Goals_Scored  \\\n",
       "0     S. PAULO/SP   4  Domingo    A               0               0   \n",
       "1    AMERICANO/RJ   0  Domingo    H               0               0   \n",
       "2  SÃO CAETANO/SP   1  Domingo    H               0               0   \n",
       "3  CORINTHIANS/SP   4  Domingo    A               0               0   \n",
       "4      AMÉRICA/MG   0   Sábado    H               0               0   \n",
       "\n",
       "   H_Goals_Against  A_Goals_Against  \n",
       "0                0                0  \n",
       "1                0                0  \n",
       "2                0                0  \n",
       "3                0                0  \n",
       "4                0                0  "
      ]
     },
     "execution_count": 4,
     "metadata": {},
     "output_type": "execute_result"
    }
   ],
   "source": [
    "df.head()"
   ]
  },
  {
   "cell_type": "code",
   "execution_count": 5,
   "metadata": {},
   "outputs": [
    {
     "data": {
      "text/plain": [
       "<BarContainer object of 3 artists>"
      ]
     },
     "execution_count": 5,
     "metadata": {},
     "output_type": "execute_result"
    },
    {
     "data": {
      "image/png": "[encoded data removed]",
      "text/plain": [
       "<Figure size 432x288 with 1 Axes>"
      ]
     },
     "metadata": {
      "needs_background": "light"
     },
     "output_type": "display_data"
    }
   ],
   "source": [
    "plt.bar(df['Res'].value_counts().keys(),df['Res'].value_counts())"
   ]
  },
  {
   "cell_type": "code",
   "execution_count": 171,
   "metadata": {},
   "outputs": [],
   "source": [
    "vocab = df18['Home'].unique()"
   ]
  },
  {
   "cell_type": "code",
   "execution_count": 172,
   "metadata": {},
   "outputs": [],
   "source": [
    "word2idx = {word: i for i, word in enumerate(vocab)}"
   ]
  },
  {
   "cell_type": "code",
   "execution_count": 173,
   "metadata": {},
   "outputs": [],
   "source": [
    "def word2vector(word):\n",
    "    m = np.zeros(len(word2idx))\n",
    "    m[word2idx.get(word)] = 1\n",
    "    return m"
   ]
  },
  {
   "cell_type": "code",
   "execution_count": 174,
   "metadata": {},
   "outputs": [],
   "source": [
    "# Transforma os dois times em um vetor com o flag do time correspondente\n",
    "def prepare(H,A):\n",
    "    vec = [word2vector(H), word2vector(A)]\n",
    "#     return [word2vector(H), word2vector(A)]\n",
    "    return np.array(vec).reshape(np.array(vec).shape[1]*2)"
   ]
  },
  {
   "cell_type": "code",
   "execution_count": 182,
   "metadata": {},
   "outputs": [],
   "source": [
    "y = []\n",
    "\n",
    "for d in df18[['Res']]['Res']:\n",
    "    if d == 'H':\n",
    "        y.append([1,0,0])\n",
    "    if d == 'D':\n",
    "        y.append([0,1,0])\n",
    "    if d == 'A':\n",
    "        y.append([0,0,1])\n",
    "    if d != 'H' and d != 'A' and d != 'D':\n",
    "        y.append([0,0,0])"
   ]
  },
  {
   "cell_type": "code",
   "execution_count": 184,
   "metadata": {},
   "outputs": [],
   "source": [
    "y1 = np.array(y).reshape(np.array(y).shape[0],3)"
   ]
  },
  {
   "cell_type": "code",
   "execution_count": 175,
   "metadata": {},
   "outputs": [],
   "source": [
    "X = []\n",
    "\n",
    "for _, row in df18.iterrows():\n",
    "    X.append(prepare(row['Home'], row['Away']))   "
   ]
  },
  {
   "cell_type": "code",
   "execution_count": 177,
   "metadata": {},
   "outputs": [],
   "source": [
    "X1 = np.array(X).reshape(np.array(X).shape[0],1,len(vocab)*2)"
   ]
  },
  {
   "cell_type": "code",
   "execution_count": 178,
   "metadata": {},
   "outputs": [
    {
     "data": {
      "text/plain": [
       "array([[[1., 0., 0., ..., 0., 1., 0.]],\n",
       "\n",
       "       [[0., 1., 0., ..., 0., 0., 0.]],\n",
       "\n",
       "       [[0., 0., 1., ..., 0., 0., 0.]],\n",
       "\n",
       "       ...,\n",
       "\n",
       "       [[1., 0., 0., ..., 0., 0., 0.]],\n",
       "\n",
       "       [[0., 0., 0., ..., 0., 0., 0.]],\n",
       "\n",
       "       [[0., 0., 0., ..., 0., 0., 0.]]])"
      ]
     },
     "execution_count": 178,
     "metadata": {},
     "output_type": "execute_result"
    }
   ],
   "source": [
    "X1"
   ]
  },
  {
   "cell_type": "code",
   "execution_count": 179,
   "metadata": {},
   "outputs": [],
   "source": [
    "from keras.models import Sequential\n",
    "from keras.layers import Dense, Dropout, TimeDistributed\n",
    "from keras.layers import Embedding, Activation\n",
    "from keras.layers import LSTM\n",
    "\n",
    "model = Sequential()\n",
    "model.add(LSTM(64, return_sequences=True))  # returns a sequence of vectors of dimension 32\n",
    "model.add(LSTM(64, return_sequences=True))  # returns a sequence of vectors of dimension 32\n",
    "model.add(LSTM(64))  # return a single vector of dimension 32model.add(Dropout(0.5))\n",
    "model.add(Dense(3, activation='softmax'))\n",
    "\n",
    "\n",
    "model.compile(loss='binary_crossentropy',\n",
    "              optimizer='rmsprop',\n",
    "              metrics=['accuracy'])"
   ]
  },
  {
   "cell_type": "code",
   "execution_count": 180,
   "metadata": {},
   "outputs": [
    {
     "data": {
      "image/svg+xml": [
       "<svg height=\"45pt\" viewBox=\"0.00 0.00 488.00 45.00\" width=\"488pt\" xmlns=\"http://www.w3.org/2000/svg\" xmlns:xlink=\"http://www.w3.org/1999/xlink\">\n",
       "<g class=\"graph\" id=\"graph0\" transform=\"scale(1 1) rotate(0) translate(4 41)\">\n",
       "<title>G</title>\n",
       "<polygon fill=\"white\" points=\"-4,4 -4,-41 484,-41 484,4 -4,4\" stroke=\"none\"/>\n",
       "<!-- 2152412285976 -->\n",
       "<g class=\"node\" id=\"node1\"><title>2152412285976</title>\n",
       "<polygon fill=\"none\" points=\"0,-0.5 0,-36.5 105,-36.5 105,-0.5 0,-0.5\" stroke=\"black\"/>\n",
       "<text font-family=\"Times New Roman,serif\" font-size=\"14.00\" text-anchor=\"middle\" x=\"52.5\" y=\"-14.8\">lstm_39: LSTM</text>\n",
       "</g>\n",
       "<!-- 2152412284408 -->\n",
       "<g class=\"node\" id=\"node2\"><title>2152412284408</title>\n",
       "<polygon fill=\"none\" points=\"123,-0.5 123,-36.5 228,-36.5 228,-0.5 123,-0.5\" stroke=\"black\"/>\n",
       "<text font-family=\"Times New Roman,serif\" font-size=\"14.00\" text-anchor=\"middle\" x=\"175.5\" y=\"-14.8\">lstm_40: LSTM</text>\n",
       "</g>\n",
       "<!-- 2152412285584 -->\n",
       "<g class=\"node\" id=\"node3\"><title>2152412285584</title>\n",
       "<polygon fill=\"none\" points=\"246,-0.5 246,-36.5 351,-36.5 351,-0.5 246,-0.5\" stroke=\"black\"/>\n",
       "<text font-family=\"Times New Roman,serif\" font-size=\"14.00\" text-anchor=\"middle\" x=\"298.5\" y=\"-14.8\">lstm_41: LSTM</text>\n",
       "</g>\n",
       "<!-- 2152412283064 -->\n",
       "<g class=\"node\" id=\"node4\"><title>2152412283064</title>\n",
       "<polygon fill=\"none\" points=\"369,-0.5 369,-36.5 480,-36.5 480,-0.5 369,-0.5\" stroke=\"black\"/>\n",
       "<text font-family=\"Times New Roman,serif\" font-size=\"14.00\" text-anchor=\"middle\" x=\"424.5\" y=\"-14.8\">dense_22: Dense</text>\n",
       "</g>\n",
       "</g>\n",
       "</svg>"
      ],
      "text/plain": [
       "<IPython.core.display.SVG object>"
      ]
     },
     "execution_count": 180,
     "metadata": {},
     "output_type": "execute_result"
    }
   ],
   "source": [
    "from IPython.display import SVG\n",
    "from keras.utils.vis_utils import model_to_dot\n",
    "\n",
    "SVG(model_to_dot(model).create(prog='dot', format='svg'))"
   ]
  },
  {
   "cell_type": "code",
   "execution_count": 185,
   "metadata": {},
   "outputs": [],
   "source": [
    "X_train, X_test, y_train, y_test = train_test_split(X1, y1, test_size=0.33, shuffle=True)"
   ]
  },
  {
   "cell_type": "code",
   "execution_count": 186,
   "metadata": {},
   "outputs": [
    {
     "name": "stdout",
     "output_type": "stream",
     "text": [
      "Epoch 1/20\n",
      "200/200 [==============================] - 3s 14ms/step - loss: 0.6365 - acc: 0.6667\n",
      "Epoch 2/20\n",
      "200/200 [==============================] - 0s 90us/step - loss: 0.6344 - acc: 0.6667\n",
      "Epoch 3/20\n",
      "200/200 [==============================] - 0s 90us/step - loss: 0.6327 - acc: 0.6667\n",
      "Epoch 4/20\n",
      "200/200 [==============================] - 0s 85us/step - loss: 0.6311 - acc: 0.6667\n",
      "Epoch 5/20\n",
      "200/200 [==============================] - 0s 90us/step - loss: 0.6294 - acc: 0.6667\n",
      "Epoch 6/20\n",
      "200/200 [==============================] - 0s 95us/step - loss: 0.6275 - acc: 0.6667\n",
      "Epoch 7/20\n",
      "200/200 [==============================] - 0s 80us/step - loss: 0.6256 - acc: 0.6667\n",
      "Epoch 8/20\n",
      "200/200 [==============================] - 0s 90us/step - loss: 0.6235 - acc: 0.6667\n",
      "Epoch 9/20\n",
      "200/200 [==============================] - 0s 90us/step - loss: 0.6212 - acc: 0.6667\n",
      "Epoch 10/20\n",
      "200/200 [==============================] - 0s 100us/step - loss: 0.6187 - acc: 0.6667\n",
      "Epoch 11/20\n",
      "200/200 [==============================] - 0s 95us/step - loss: 0.6160 - acc: 0.6667\n",
      "Epoch 12/20\n",
      "200/200 [==============================] - 0s 85us/step - loss: 0.6131 - acc: 0.6667\n",
      "Epoch 13/20\n",
      "200/200 [==============================] - 0s 90us/step - loss: 0.6100 - acc: 0.6667\n",
      "Epoch 14/20\n",
      "200/200 [==============================] - 0s 90us/step - loss: 0.6067 - acc: 0.6667\n",
      "Epoch 15/20\n",
      "200/200 [==============================] - 0s 90us/step - loss: 0.6033 - acc: 0.6667\n",
      "Epoch 16/20\n",
      "200/200 [==============================] - 0s 85us/step - loss: 0.5996 - acc: 0.6667\n",
      "Epoch 17/20\n",
      "200/200 [==============================] - 0s 85us/step - loss: 0.5958 - acc: 0.6667\n",
      "Epoch 18/20\n",
      "200/200 [==============================] - 0s 95us/step - loss: 0.5919 - acc: 0.6667\n",
      "Epoch 19/20\n",
      "200/200 [==============================] - 0s 90us/step - loss: 0.5879 - acc: 0.6667\n",
      "Epoch 20/20\n",
      "200/200 [==============================] - 0s 95us/step - loss: 0.5838 - acc: 0.6683\n",
      "99/99 [==============================] - 1s 7ms/step\n"
     ]
    }
   ],
   "source": [
    "model.fit(X_train, y_train, batch_size=1000, epochs=20)\n",
    "score = model.evaluate(X_test, y_test, batch_size=16)"
   ]
  },
  {
   "cell_type": "code",
   "execution_count": 17,
   "metadata": {},
   "outputs": [],
   "source": [
    "score = model.evaluate(X_test, y_test, verbose=0)"
   ]
  },
  {
   "cell_type": "code",
   "execution_count": 187,
   "metadata": {},
   "outputs": [
    {
     "data": {
      "text/plain": [
       "[0.6048517052573387, 0.6599326765898502]"
      ]
     },
     "execution_count": 187,
     "metadata": {},
     "output_type": "execute_result"
    }
   ],
   "source": [
    "score"
   ]
  },
  {
   "cell_type": "code",
   "execution_count": 189,
   "metadata": {},
   "outputs": [],
   "source": [
    "H = 'Atletico-MG'\n",
    "A = 'Palmeiras'\n",
    "x = np.array([word2vector(H), word2vector(A)]).reshape(1,1,len(vocab)*2)\n",
    "p = model.predict(x, batch_size=None, verbose=0, steps=None)"
   ]
  },
  {
   "cell_type": "code",
   "execution_count": 190,
   "metadata": {},
   "outputs": [
    {
     "data": {
      "text/plain": [
       "array([[0.42345798, 0.28487357, 0.2916684 ]], dtype=float32)"
      ]
     },
     "execution_count": 190,
     "metadata": {},
     "output_type": "execute_result"
    }
   ],
   "source": [
    "p"
   ]
  },
  {
   "cell_type": "code",
   "execution_count": null,
   "metadata": {},
   "outputs": [],
   "source": []
  }
 ],
 "metadata": {
  "kernelspec": {
   "display_name": "Python 3",
   "language": "python",
   "name": "python3"
  },
  "language_info": {
   "codemirror_mode": {
    "name": "ipython",
    "version": 3
   },
   "file_extension": ".py",
   "mimetype": "text/x-python",
   "name": "python",
   "nbconvert_exporter": "python",
   "pygments_lexer": "ipython3",
   "version": "3.6.7"
  }
 },
 "nbformat": 4,
 "nbformat_minor": 2
}
